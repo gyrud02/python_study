{
 "cells": [
  {
   "cell_type": "markdown",
   "id": "5ae6b977",
   "metadata": {},
   "source": [
    "### [ AWS 스토리지 서비스 S3를 이용하여 노트북 인스턴스 생성 ]\n",
    "- 주피터 노트북 실행 실습"
   ]
  },
  {
   "cell_type": "code",
   "execution_count": null,
   "id": "87d12bbc",
   "metadata": {},
   "outputs": [],
   "source": [
    "# 테스트 파일"
   ]
  }
 ],
 "metadata": {
  "kernelspec": {
   "display_name": "conda_python3",
   "language": "python",
   "name": "conda_python3"
  },
  "language_info": {
   "codemirror_mode": {
    "name": "ipython",
    "version": 3
   },
   "file_extension": ".py",
   "mimetype": "text/x-python",
   "name": "python",
   "nbconvert_exporter": "python",
   "pygments_lexer": "ipython3",
   "version": "3.6.13"
  }
 },
 "nbformat": 4,
 "nbformat_minor": 5
}
