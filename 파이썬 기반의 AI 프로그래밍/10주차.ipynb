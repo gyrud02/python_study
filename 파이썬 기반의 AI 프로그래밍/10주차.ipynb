{
 "cells": [
  {
   "cell_type": "markdown",
   "metadata": {},
   "source": [
    "# 10주차"
   ]
  },
  {
   "cell_type": "markdown",
   "metadata": {},
   "source": [
    "### * 모델 평가와 성능 향상\n",
    "- 지도 학습 모델 평가를 위한 함수 : train_test_split, fit, score\n",
    "- 두 가지 관점의 평가 방법 : 교차 검증과 score 메서드가 제공하는 정확도와 R의 제곱값이외에 분류와 회귀 성능을 측정하는 다른 방법\n",
    "\n",
    "\n",
    "#### * 교차 검증\n",
    "- 안정적이고 뛰어난 통계적 평가 방법\n",
    "- 데이터를 여러번 반복하여 나누고 여러 모델로 학습\n",
    "\n",
    "\n",
    "#### - 데이터를 훈련 세트와 테스트 세트로 나누는 이유는 얼마나 잘 일반화되는지 측정하기 위함이다.\n",
    "#### - 교차 검증의 장점은 데이터 편중과 과적합의 위험에서 벗어나는 것이다."
   ]
  },
  {
   "cell_type": "markdown",
   "metadata": {},
   "source": [
    "#### [ 교차 검증 실습]"
   ]
  },
  {
   "cell_type": "code",
   "execution_count": 5,
   "metadata": {},
   "outputs": [],
   "source": [
    "import matplotlib.pyplot as plt\n",
    "import platform\n",
    "from matplotlib import font_manager, rc\n",
    "\n",
    "plt.rcParams['axes.unicode_minus'] = False\n",
    "if(platform.system() == 'Darwin'):\n",
    "    rc('font', family='AppleGothic')\n",
    "elif(platform.system() == 'Windows'):\n",
    "    path = 'C:/Windows/Fonts/malgun.ttf'\n",
    "    font_name = font_manager.FontProperties(fname=path).get_name()\n",
    "    rc('font', family = font_name)\n",
    "else:\n",
    "    print('error')"
   ]
  },
  {
   "cell_type": "code",
   "execution_count": 9,
   "metadata": {},
   "outputs": [
    {
     "name": "stdout",
     "output_type": "stream",
     "text": [
      "교차 검증 점수 :  [0.98 0.96 0.98]\n"
     ]
    }
   ],
   "source": [
    "from sklearn.model_selection import cross_val_score\n",
    "# 매개변수가 평가하려는 모델과 훈련데이터, 타깃 레이블을 대상으로 한다.\n",
    "\n",
    "from sklearn.datasets import load_iris\n",
    "# 분꽃 데이터 로드\n",
    "\n",
    "from sklearn.linear_model import LogisticRegression\n",
    "import pandas as pd\n",
    "\n",
    "# 교차 검증 : 안정적이고 뛰어난 통계적 평가 방법\n",
    "# k-겹 교차 검증 : k개의 나누어서 교차로 검증하는 방법\n",
    "# - k의 값이 3에서 5로 변경되어진다. (교재와는 다른 내용)\n",
    "\n",
    "iris = load_iris()\n",
    "logreg = LogisticRegression(max_iter=3000)\n",
    "\n",
    "# cv=3 : 3겹 교차 검증\n",
    "scores = cross_val_score(logreg, iris.data, iris.target, cv=3) \n",
    "print(\"교차 검증 점수 : \", scores)"
   ]
  },
  {
   "cell_type": "code",
   "execution_count": 10,
   "metadata": {},
   "outputs": [
    {
     "name": "stdout",
     "output_type": "stream",
     "text": [
      "교차 검증 점수 :  [0.96666667 1.         0.93333333 0.96666667 1.        ]\n"
     ]
    }
   ],
   "source": [
    "# 5겹 교차 검증\n",
    "scores = cross_val_score(logreg, iris.data, iris.target, cv=5)\n",
    "print(\"교차 검증 점수 : \", scores)"
   ]
  },
  {
   "cell_type": "code",
   "execution_count": 11,
   "metadata": {},
   "outputs": [
    {
     "name": "stdout",
     "output_type": "stream",
     "text": [
      "교차 검증 점수 :  [0.96666667 1.         0.93333333 0.96666667 1.        ]\n"
     ]
    }
   ],
   "source": [
    "# cv=k 항목 생략이 가능하다.\n",
    "scores = cross_val_score(logreg, iris.data, iris.target)\n",
    "print(\"교차 검증 점수 : \", scores)"
   ]
  },
  {
   "cell_type": "code",
   "execution_count": 12,
   "metadata": {},
   "outputs": [
    {
     "name": "stdout",
     "output_type": "stream",
     "text": [
      "교차 검증 평균 점수 : 0.97\n"
     ]
    }
   ],
   "source": [
    "print(\"교차 검증 평균 점수 : {:.2f}\".format(scores.mean()))"
   ]
  },
  {
   "cell_type": "code",
   "execution_count": 15,
   "metadata": {},
   "outputs": [
    {
     "data": {
      "text/plain": [
       "{'fit_time': array([0.32821703, 0.44830084, 0.43228674, 0.71047592, 0.98465705]),\n",
       " 'score_time': array([0.00100231, 0.00300097, 0.00700641, 0.00700355, 0.00199914]),\n",
       " 'test_score': array([0.96666667, 1.        , 0.93333333, 0.96666667, 1.        ]),\n",
       " 'train_score': array([0.96666667, 0.96666667, 0.98333333, 0.98333333, 0.975     ])}"
      ]
     },
     "metadata": {},
     "output_type": "display_data"
    }
   ],
   "source": [
    "from sklearn.model_selection import cross_validate\n",
    "\n",
    "# cross_val_score와 비슷하다.\n",
    "# 분할마다 훈련과 테스트에 걸린 시간을 닮은 dic를 반환한다.\n",
    "res = cross_validate(logreg, iris.data, iris.target, return_train_score=True)\n",
    "\n",
    "display(res)"
   ]
  },
  {
   "cell_type": "code",
   "execution_count": 16,
   "metadata": {},
   "outputs": [
    {
     "data": {
      "text/html": [
       "<div>\n",
       "<style scoped>\n",
       "    .dataframe tbody tr th:only-of-type {\n",
       "        vertical-align: middle;\n",
       "    }\n",
       "\n",
       "    .dataframe tbody tr th {\n",
       "        vertical-align: top;\n",
       "    }\n",
       "\n",
       "    .dataframe thead th {\n",
       "        text-align: right;\n",
       "    }\n",
       "</style>\n",
       "<table border=\"1\" class=\"dataframe\">\n",
       "  <thead>\n",
       "    <tr style=\"text-align: right;\">\n",
       "      <th></th>\n",
       "      <th>fit_time</th>\n",
       "      <th>score_time</th>\n",
       "      <th>test_score</th>\n",
       "      <th>train_score</th>\n",
       "    </tr>\n",
       "  </thead>\n",
       "  <tbody>\n",
       "    <tr>\n",
       "      <th>0</th>\n",
       "      <td>0.328217</td>\n",
       "      <td>0.001002</td>\n",
       "      <td>0.966667</td>\n",
       "      <td>0.966667</td>\n",
       "    </tr>\n",
       "    <tr>\n",
       "      <th>1</th>\n",
       "      <td>0.448301</td>\n",
       "      <td>0.003001</td>\n",
       "      <td>1.000000</td>\n",
       "      <td>0.966667</td>\n",
       "    </tr>\n",
       "    <tr>\n",
       "      <th>2</th>\n",
       "      <td>0.432287</td>\n",
       "      <td>0.007006</td>\n",
       "      <td>0.933333</td>\n",
       "      <td>0.983333</td>\n",
       "    </tr>\n",
       "    <tr>\n",
       "      <th>3</th>\n",
       "      <td>0.710476</td>\n",
       "      <td>0.007004</td>\n",
       "      <td>0.966667</td>\n",
       "      <td>0.983333</td>\n",
       "    </tr>\n",
       "    <tr>\n",
       "      <th>4</th>\n",
       "      <td>0.984657</td>\n",
       "      <td>0.001999</td>\n",
       "      <td>1.000000</td>\n",
       "      <td>0.975000</td>\n",
       "    </tr>\n",
       "  </tbody>\n",
       "</table>\n",
       "</div>"
      ],
      "text/plain": [
       "   fit_time  score_time  test_score  train_score\n",
       "0  0.328217    0.001002    0.966667     0.966667\n",
       "1  0.448301    0.003001    1.000000     0.966667\n",
       "2  0.432287    0.007006    0.933333     0.983333\n",
       "3  0.710476    0.007004    0.966667     0.983333\n",
       "4  0.984657    0.001999    1.000000     0.975000"
      ]
     },
     "metadata": {},
     "output_type": "display_data"
    },
    {
     "name": "stdout",
     "output_type": "stream",
     "text": [
      "평균 시간과 점수 : \n",
      " fit_time       0.580788\n",
      "score_time     0.004002\n",
      "test_score     0.973333\n",
      "train_score    0.975000\n",
      "dtype: float64\n"
     ]
    }
   ],
   "source": [
    "res_df = pd.DataFrame(res)\n",
    "display(res_df)\n",
    "\n",
    "print(\"평균 시간과 점수 : \\n\", res_df.mean())"
   ]
  },
  {
   "cell_type": "code",
   "execution_count": 18,
   "metadata": {},
   "outputs": [
    {
     "name": "stdout",
     "output_type": "stream",
     "text": [
      "교차 검증 점수 : \n",
      " [1.         1.         0.86666667 0.93333333 0.83333333]\n"
     ]
    }
   ],
   "source": [
    "# 교차 검증 상세 옵션\n",
    "from sklearn.model_selection import KFold\n",
    "kfold = KFold(n_splits=5) \n",
    "\n",
    "print(\"교차 검증 점수 : \\n\", cross_val_score(logreg, iris.data, iris.target, cv=kfold))"
   ]
  },
  {
   "cell_type": "code",
   "execution_count": 22,
   "metadata": {},
   "outputs": [
    {
     "name": "stdout",
     "output_type": "stream",
     "text": [
      "교차 검증 점수 : \n",
      " [0. 0. 0.]\n"
     ]
    }
   ],
   "source": [
    "kfold = KFold(n_splits=3) \n",
    "\n",
    "print(\"교차 검증 점수 : \\n\", cross_val_score(logreg, iris.data, iris.target, cv=kfold))"
   ]
  },
  {
   "cell_type": "code",
   "execution_count": 24,
   "metadata": {},
   "outputs": [
    {
     "name": "stdout",
     "output_type": "stream",
     "text": [
      "교차 검증 점수 : \n",
      " [0.98 0.96 0.96]\n"
     ]
    }
   ],
   "source": [
    "# 데이터를 섞어서 샘플의 순서를 섞는것\n",
    "kfold = KFold(n_splits=3, shuffle=True, random_state=0) \n",
    "\n",
    "print(\"교차 검증 점수 : \\n\", cross_val_score(logreg, iris.data, iris.target, cv=kfold))\n",
    "\n",
    "# => 데이터를 분할하기 전에 섞어주는 것이 결과가 높은 성능"
   ]
  },
  {
   "cell_type": "code",
   "execution_count": 25,
   "metadata": {},
   "outputs": [
    {
     "name": "stdout",
     "output_type": "stream",
     "text": [
      "교차 검증 분할 횟수 :  150\n",
      "평균 정확도 : 0.97\n"
     ]
    }
   ],
   "source": [
    "# LOOCV 교차 검증 방법\n",
    "# -> k-겹 교차와 비슷하지만 작은 데이터셋에서 좋은 결과 가능성이 높다.\n",
    "#    하지만 데이터셋이 클 경우, 시간이 오래 걸린다는 단점이 있다.\n",
    "from sklearn.model_selection import LeaveOneOut\n",
    "loo = LeaveOneOut()\n",
    "scores = cross_val_score(logreg, iris.data, iris.target, cv=loo)\n",
    "\n",
    "print(\"교차 검증 분할 횟수 : \", len(scores))\n",
    "print(\"평균 정확도 : {:.2f}\".format(scores.mean()))"
   ]
  },
  {
   "cell_type": "markdown",
   "metadata": {},
   "source": [
    "# 　"
   ]
  },
  {
   "cell_type": "markdown",
   "metadata": {},
   "source": [
    "#### * 그리드 서치\n",
    "- 수많은 매개변수 각각의 모델을 만들고 최적의 매개변수를 찾아주는 함수\n",
    "- 격자 모양의 매개변수 각각의 조합을 모두 포함하여 탐색한다\n",
    "- 다양한 모델의 훈련 과정을 자동화하고 사용자에게 교차 검사를 사용해 최적의 값을 제공하는 효율적인 도구\n",
    "- 지정해준 후보군의 갯수만큼 비례하여 시간이 늘어나기 때문에 최적의 조합을 찾을 때까지 시간이 매우 오래 걸린다는 단점이 있다.\n",
    "\n",
    "\n",
    "#### - 그리드서치는 다양한 모델의 훈련 과정을 자동화하고 사용자에게 교차 검사를 사용해 최적의 값을 제공하는 효율적인 도구이지만 최적의 조합을 찾을 때까지 시간이 매우 오래 걸린다는 단점이 있다."
   ]
  },
  {
   "cell_type": "markdown",
   "metadata": {},
   "source": [
    "#### [ 그리드서치 실습 ]"
   ]
  },
  {
   "cell_type": "code",
   "execution_count": 26,
   "metadata": {},
   "outputs": [
    {
     "name": "stdout",
     "output_type": "stream",
     "text": [
      "훈련 세트의 크기 : 112  테스트 세트의 크기 : 38\n",
      "최고 점수 : 0.97\n",
      "최적 매개변수 :  {'C': 100, 'gamma': 0.001}\n"
     ]
    }
   ],
   "source": [
    "from sklearn.svm import SVC\n",
    "from sklearn.model_selection import train_test_split\n",
    "from sklearn.datasets import load_iris\n",
    "\n",
    "iris = load_iris()\n",
    "X_train, X_test, y_train, y_test = train_test_split(iris.data, iris.target, random_state=0)\n",
    "\n",
    "print(\"훈련 세트의 크기 : {}  테스트 세트의 크기 : {}\".format(X_train.shape[0], X_test.shape[0]))\n",
    "\n",
    "best_score = 0\n",
    "\n",
    "for gamma in [0.001, 0.01, 0.1, 1, 10, 100]:\n",
    "    for C in [0.001, 0.01, 0.1, 1, 10, 100]:\n",
    "        svm = SVC(gamma = gamma, C=C)\n",
    "        svm.fit(X_train, y_train)\n",
    "        score = svm.score(X_test, y_test)\n",
    "        \n",
    "        if score > best_score:\n",
    "            best_score = score\n",
    "            best_parameters = {'C':C, 'gamma':gamma}\n",
    "            \n",
    "print(\"최고 점수 : {:.2f}\".format(best_score))\n",
    "print(\"최적 매개변수 : \", best_parameters)"
   ]
  },
  {
   "cell_type": "code",
   "execution_count": 27,
   "metadata": {},
   "outputs": [
    {
     "data": {
      "image/png": "[encoded data removed]",
      "text/plain": [
       "<Figure size 1080x72 with 1 Axes>"
      ]
     },
     "metadata": {
      "needs_background": "light"
     },
     "output_type": "display_data"
    }
   ],
   "source": [
    "# 평가를 하기 위해서 추가적인 독립적 데이터셋이 필요하다\n",
    "import mglearn\n",
    "mglearn.plots.plot_threefold_split()"
   ]
  },
  {
   "cell_type": "code",
   "execution_count": 29,
   "metadata": {},
   "outputs": [
    {
     "name": "stdout",
     "output_type": "stream",
     "text": [
      "훈련 세트의 크기 : 84  검증 세트의 크기 : 28  테스트 세트의 크기 : 38\n",
      "최고 점수 : 0.96\n",
      "최적 매개변수 :  {'C': 10, 'gamma': 0.001}\n",
      "최적 매개변수에서 테스트 세트 점수 : 0.92\n"
     ]
    }
   ],
   "source": [
    "# 훈련과 테스트 분할\n",
    "X_trainval, X_test, y_trainval, y_test = train_test_split(iris.data, iris.target, random_state=0)\n",
    "\n",
    "# 훈련을 훈련과 검증으로 분할\n",
    "X_train, X_valid, y_train, y_valid = train_test_split(X_trainval, y_trainval, random_state=1)\n",
    "print(\"훈련 세트의 크기 : {}  검증 세트의 크기 : {}  테스트 세트의 크기 : {}\".format(X_train.shape[0], X_valid.shape[0], X_test.shape[0]))\n",
    "\n",
    "best_score = 0\n",
    "\n",
    "for gamma in [0.001, 0.01, 0.1, 1, 10, 100]:\n",
    "    for C in [0.001, 0.01, 0.1, 1, 10, 100]:\n",
    "        svm = SVC(gamma = gamma, C=C)\n",
    "        svm.fit(X_train, y_train)\n",
    "        score = svm.score(X_valid, y_valid)\n",
    "        \n",
    "        if score > best_score:\n",
    "            best_score = score\n",
    "            best_parameters = {'C':C, 'gamma':gamma}\n",
    "\n",
    "svm = SVC(**best_parameters)\n",
    "svm.fit(X_trainval, y_trainval)\n",
    "test_score = svm.score(X_test, y_test)\n",
    "            \n",
    "print(\"최고 점수 : {:.2f}\".format(best_score))\n",
    "print(\"최적 매개변수 : \", best_parameters)\n",
    "print(\"최적 매개변수에서 테스트 세트 점수 : {:.2f}\".format(test_score))\n",
    "\n",
    "# => 탐색적 분석과 모델 선택을 위해서 훈련, 검증 세트 사용을 권한다\n",
    "# => 평가를 위해서 테스트 세트를 보관하는것이 효율적이다."
   ]
  },
  {
   "cell_type": "code",
   "execution_count": 30,
   "metadata": {},
   "outputs": [
    {
     "data": {
      "text/plain": [
       "SVC(C=10, break_ties=False, cache_size=200, class_weight=None, coef0=0.0,\n",
       "    decision_function_shape='ovr', degree=3, gamma=0.1, kernel='rbf',\n",
       "    max_iter=-1, probability=False, random_state=None, shrinking=True,\n",
       "    tol=0.001, verbose=False)"
      ]
     },
     "execution_count": 30,
     "metadata": {},
     "output_type": "execute_result"
    }
   ],
   "source": [
    "from sklearn.model_selection import cross_val_score\n",
    "import numpy as np\n",
    "\n",
    "for gamma in [0.001, 0.01, 0.1, 1, 10, 100]:\n",
    "    for C in [0.001, 0.01, 0.1, 1, 10, 100]:\n",
    "        svm = SVC(gamma = gamma, C=C)\n",
    "        scores = cross_val_score(svm, X_trainval, y_trainval)\n",
    "        score = np.mean(scores)\n",
    "        \n",
    "        if score > best_score:\n",
    "            best_score = score\n",
    "            best_parameters = {'C':C, 'gamma':gamma}\n",
    "            \n",
    "svm = SVC(**best_parameters)\n",
    "svm.fit(X_trainval, y_trainval)"
   ]
  },
  {
   "cell_type": "code",
   "execution_count": 31,
   "metadata": {},
   "outputs": [
    {
     "data": {
      "image/png": "[encoded data removed]",
      "text/plain": [
       "<Figure size 700x210 with 1 Axes>"
      ]
     },
     "metadata": {
      "needs_background": "light"
     },
     "output_type": "display_data"
    }
   ],
   "source": [
    "# 데이터를 분할하고 그리드 서치를 적용해서 최종 매개변수를 평가하는 과정\n",
    "mglearn.plots.plot_grid_search_overview()"
   ]
  },
  {
   "cell_type": "code",
   "execution_count": 32,
   "metadata": {},
   "outputs": [
    {
     "name": "stdout",
     "output_type": "stream",
     "text": [
      "테스트 세트 점수: 0.97\n",
      "최적 매개변수 :  {'C': 10, 'gamma': 0.1}\n",
      "최고 교차 검증 점수 : 0.97\n",
      "최고 성능 모델 :  SVC(C=10, break_ties=False, cache_size=200, class_weight=None, coef0=0.0,\n",
      "    decision_function_shape='ovr', degree=3, gamma=0.1, kernel='rbf',\n",
      "    max_iter=-1, probability=False, random_state=None, shrinking=True,\n",
      "    tol=0.001, verbose=False)\n"
     ]
    }
   ],
   "source": [
    "from sklearn.model_selection import GridSearchCV\n",
    "\n",
    "param_grid = {'C' : [0.001, 0.01, 0.1, 1, 10, 100], 'gamma' : [0.001, 0.01, 0.1, 1, 10, 100]}\n",
    "\n",
    "grid_search = GridSearchCV(SVC(), param_grid, return_train_score = True)\n",
    "\n",
    "X_train, X_test, y_train, y_test = train_test_split(iris.data, iris.target, random_state=0)\n",
    "grid_search.fit(X_train, y_train)\n",
    "\n",
    "print(\"테스트 세트 점수: {:.2f}\".format(grid_search.score(X_test, y_test)))\n",
    "print(\"최적 매개변수 : \", grid_search.best_params_)\n",
    "print(\"최고 교차 검증 점수 : {:.2f}\".format(grid_search.best_score_))\n",
    "print(\"최고 성능 모델 : \", grid_search.best_estimator_)"
   ]
  },
  {
   "cell_type": "code",
   "execution_count": 36,
   "metadata": {},
   "outputs": [
    {
     "data": {
      "text/html": [
       "<div>\n",
       "<style scoped>\n",
       "    .dataframe tbody tr th:only-of-type {\n",
       "        vertical-align: middle;\n",
       "    }\n",
       "\n",
       "    .dataframe tbody tr th {\n",
       "        vertical-align: top;\n",
       "    }\n",
       "\n",
       "    .dataframe thead th {\n",
       "        text-align: right;\n",
       "    }\n",
       "</style>\n",
       "<table border=\"1\" class=\"dataframe\">\n",
       "  <thead>\n",
       "    <tr style=\"text-align: right;\">\n",
       "      <th></th>\n",
       "      <th>0</th>\n",
       "      <th>1</th>\n",
       "      <th>2</th>\n",
       "      <th>3</th>\n",
       "      <th>4</th>\n",
       "    </tr>\n",
       "  </thead>\n",
       "  <tbody>\n",
       "    <tr>\n",
       "      <th>mean_fit_time</th>\n",
       "      <td>0.00480328</td>\n",
       "      <td>0.0136086</td>\n",
       "      <td>0.00960608</td>\n",
       "      <td>0.00400271</td>\n",
       "      <td>0.00780554</td>\n",
       "    </tr>\n",
       "    <tr>\n",
       "      <th>std_fit_time</th>\n",
       "      <td>0.0017219</td>\n",
       "      <td>0.014301</td>\n",
       "      <td>0.0107142</td>\n",
       "      <td>0.000632636</td>\n",
       "      <td>0.00147097</td>\n",
       "    </tr>\n",
       "    <tr>\n",
       "      <th>mean_score_time</th>\n",
       "      <td>0.00460343</td>\n",
       "      <td>0.00240235</td>\n",
       "      <td>0.0026021</td>\n",
       "      <td>0.00180125</td>\n",
       "      <td>0.00280228</td>\n",
       "    </tr>\n",
       "    <tr>\n",
       "      <th>std_score_time</th>\n",
       "      <td>0.00332479</td>\n",
       "      <td>0.00102009</td>\n",
       "      <td>0.000800431</td>\n",
       "      <td>0.00039971</td>\n",
       "      <td>0.000749705</td>\n",
       "    </tr>\n",
       "    <tr>\n",
       "      <th>param_C</th>\n",
       "      <td>0.001</td>\n",
       "      <td>0.001</td>\n",
       "      <td>0.001</td>\n",
       "      <td>0.001</td>\n",
       "      <td>0.001</td>\n",
       "    </tr>\n",
       "    <tr>\n",
       "      <th>param_gamma</th>\n",
       "      <td>0.001</td>\n",
       "      <td>0.01</td>\n",
       "      <td>0.1</td>\n",
       "      <td>1</td>\n",
       "      <td>10</td>\n",
       "    </tr>\n",
       "    <tr>\n",
       "      <th>params</th>\n",
       "      <td>{'C': 0.001, 'gamma': 0.001}</td>\n",
       "      <td>{'C': 0.001, 'gamma': 0.01}</td>\n",
       "      <td>{'C': 0.001, 'gamma': 0.1}</td>\n",
       "      <td>{'C': 0.001, 'gamma': 1}</td>\n",
       "      <td>{'C': 0.001, 'gamma': 10}</td>\n",
       "    </tr>\n",
       "    <tr>\n",
       "      <th>split0_test_score</th>\n",
       "      <td>0.347826</td>\n",
       "      <td>0.347826</td>\n",
       "      <td>0.347826</td>\n",
       "      <td>0.347826</td>\n",
       "      <td>0.347826</td>\n",
       "    </tr>\n",
       "    <tr>\n",
       "      <th>split1_test_score</th>\n",
       "      <td>0.347826</td>\n",
       "      <td>0.347826</td>\n",
       "      <td>0.347826</td>\n",
       "      <td>0.347826</td>\n",
       "      <td>0.347826</td>\n",
       "    </tr>\n",
       "    <tr>\n",
       "      <th>split2_test_score</th>\n",
       "      <td>0.363636</td>\n",
       "      <td>0.363636</td>\n",
       "      <td>0.363636</td>\n",
       "      <td>0.363636</td>\n",
       "      <td>0.363636</td>\n",
       "    </tr>\n",
       "    <tr>\n",
       "      <th>split3_test_score</th>\n",
       "      <td>0.363636</td>\n",
       "      <td>0.363636</td>\n",
       "      <td>0.363636</td>\n",
       "      <td>0.363636</td>\n",
       "      <td>0.363636</td>\n",
       "    </tr>\n",
       "    <tr>\n",
       "      <th>split4_test_score</th>\n",
       "      <td>0.409091</td>\n",
       "      <td>0.409091</td>\n",
       "      <td>0.409091</td>\n",
       "      <td>0.409091</td>\n",
       "      <td>0.409091</td>\n",
       "    </tr>\n",
       "    <tr>\n",
       "      <th>mean_test_score</th>\n",
       "      <td>0.366403</td>\n",
       "      <td>0.366403</td>\n",
       "      <td>0.366403</td>\n",
       "      <td>0.366403</td>\n",
       "      <td>0.366403</td>\n",
       "    </tr>\n",
       "    <tr>\n",
       "      <th>std_test_score</th>\n",
       "      <td>0.0224845</td>\n",
       "      <td>0.0224845</td>\n",
       "      <td>0.0224845</td>\n",
       "      <td>0.0224845</td>\n",
       "      <td>0.0224845</td>\n",
       "    </tr>\n",
       "    <tr>\n",
       "      <th>rank_test_score</th>\n",
       "      <td>22</td>\n",
       "      <td>22</td>\n",
       "      <td>22</td>\n",
       "      <td>22</td>\n",
       "      <td>22</td>\n",
       "    </tr>\n",
       "    <tr>\n",
       "      <th>split0_train_score</th>\n",
       "      <td>0.370787</td>\n",
       "      <td>0.370787</td>\n",
       "      <td>0.370787</td>\n",
       "      <td>0.370787</td>\n",
       "      <td>0.370787</td>\n",
       "    </tr>\n",
       "    <tr>\n",
       "      <th>split1_train_score</th>\n",
       "      <td>0.370787</td>\n",
       "      <td>0.370787</td>\n",
       "      <td>0.370787</td>\n",
       "      <td>0.370787</td>\n",
       "      <td>0.370787</td>\n",
       "    </tr>\n",
       "    <tr>\n",
       "      <th>split2_train_score</th>\n",
       "      <td>0.366667</td>\n",
       "      <td>0.366667</td>\n",
       "      <td>0.366667</td>\n",
       "      <td>0.366667</td>\n",
       "      <td>0.366667</td>\n",
       "    </tr>\n",
       "    <tr>\n",
       "      <th>split3_train_score</th>\n",
       "      <td>0.366667</td>\n",
       "      <td>0.366667</td>\n",
       "      <td>0.366667</td>\n",
       "      <td>0.366667</td>\n",
       "      <td>0.366667</td>\n",
       "    </tr>\n",
       "    <tr>\n",
       "      <th>split4_train_score</th>\n",
       "      <td>0.355556</td>\n",
       "      <td>0.355556</td>\n",
       "      <td>0.355556</td>\n",
       "      <td>0.355556</td>\n",
       "      <td>0.355556</td>\n",
       "    </tr>\n",
       "    <tr>\n",
       "      <th>mean_train_score</th>\n",
       "      <td>0.366092</td>\n",
       "      <td>0.366092</td>\n",
       "      <td>0.366092</td>\n",
       "      <td>0.366092</td>\n",
       "      <td>0.366092</td>\n",
       "    </tr>\n",
       "    <tr>\n",
       "      <th>std_train_score</th>\n",
       "      <td>0.00558129</td>\n",
       "      <td>0.00558129</td>\n",
       "      <td>0.00558129</td>\n",
       "      <td>0.00558129</td>\n",
       "      <td>0.00558129</td>\n",
       "    </tr>\n",
       "  </tbody>\n",
       "</table>\n",
       "</div>"
      ],
      "text/plain": [
       "                                               0                            1  \\\n",
       "mean_fit_time                         0.00480328                    0.0136086   \n",
       "std_fit_time                           0.0017219                     0.014301   \n",
       "mean_score_time                       0.00460343                   0.00240235   \n",
       "std_score_time                        0.00332479                   0.00102009   \n",
       "param_C                                    0.001                        0.001   \n",
       "param_gamma                                0.001                         0.01   \n",
       "params              {'C': 0.001, 'gamma': 0.001}  {'C': 0.001, 'gamma': 0.01}   \n",
       "split0_test_score                       0.347826                     0.347826   \n",
       "split1_test_score                       0.347826                     0.347826   \n",
       "split2_test_score                       0.363636                     0.363636   \n",
       "split3_test_score                       0.363636                     0.363636   \n",
       "split4_test_score                       0.409091                     0.409091   \n",
       "mean_test_score                         0.366403                     0.366403   \n",
       "std_test_score                         0.0224845                    0.0224845   \n",
       "rank_test_score                               22                           22   \n",
       "split0_train_score                      0.370787                     0.370787   \n",
       "split1_train_score                      0.370787                     0.370787   \n",
       "split2_train_score                      0.366667                     0.366667   \n",
       "split3_train_score                      0.366667                     0.366667   \n",
       "split4_train_score                      0.355556                     0.355556   \n",
       "mean_train_score                        0.366092                     0.366092   \n",
       "std_train_score                       0.00558129                   0.00558129   \n",
       "\n",
       "                                             2                         3  \\\n",
       "mean_fit_time                       0.00960608                0.00400271   \n",
       "std_fit_time                         0.0107142               0.000632636   \n",
       "mean_score_time                      0.0026021                0.00180125   \n",
       "std_score_time                     0.000800431                0.00039971   \n",
       "param_C                                  0.001                     0.001   \n",
       "param_gamma                                0.1                         1   \n",
       "params              {'C': 0.001, 'gamma': 0.1}  {'C': 0.001, 'gamma': 1}   \n",
       "split0_test_score                     0.347826                  0.347826   \n",
       "split1_test_score                     0.347826                  0.347826   \n",
       "split2_test_score                     0.363636                  0.363636   \n",
       "split3_test_score                     0.363636                  0.363636   \n",
       "split4_test_score                     0.409091                  0.409091   \n",
       "mean_test_score                       0.366403                  0.366403   \n",
       "std_test_score                       0.0224845                 0.0224845   \n",
       "rank_test_score                             22                        22   \n",
       "split0_train_score                    0.370787                  0.370787   \n",
       "split1_train_score                    0.370787                  0.370787   \n",
       "split2_train_score                    0.366667                  0.366667   \n",
       "split3_train_score                    0.366667                  0.366667   \n",
       "split4_train_score                    0.355556                  0.355556   \n",
       "mean_train_score                      0.366092                  0.366092   \n",
       "std_train_score                     0.00558129                0.00558129   \n",
       "\n",
       "                                            4  \n",
       "mean_fit_time                      0.00780554  \n",
       "std_fit_time                       0.00147097  \n",
       "mean_score_time                    0.00280228  \n",
       "std_score_time                    0.000749705  \n",
       "param_C                                 0.001  \n",
       "param_gamma                                10  \n",
       "params              {'C': 0.001, 'gamma': 10}  \n",
       "split0_test_score                    0.347826  \n",
       "split1_test_score                    0.347826  \n",
       "split2_test_score                    0.363636  \n",
       "split3_test_score                    0.363636  \n",
       "split4_test_score                    0.409091  \n",
       "mean_test_score                      0.366403  \n",
       "std_test_score                      0.0224845  \n",
       "rank_test_score                            22  \n",
       "split0_train_score                   0.370787  \n",
       "split1_train_score                   0.370787  \n",
       "split2_train_score                   0.366667  \n",
       "split3_train_score                   0.366667  \n",
       "split4_train_score                   0.355556  \n",
       "mean_train_score                     0.366092  \n",
       "std_train_score                    0.00558129  "
      ]
     },
     "metadata": {},
     "output_type": "display_data"
    }
   ],
   "source": [
    "import pandas as pd\n",
    "\n",
    "pd.set_option('display.max_columns', None)\n",
    "\n",
    "results = pd.DataFrame(grid_search.cv_results_)\n",
    "\n",
    "display(np.transpose(results.head()))"
   ]
  },
  {
   "cell_type": "code",
   "execution_count": 37,
   "metadata": {},
   "outputs": [
    {
     "data": {
      "text/plain": [
       "<matplotlib.collections.PolyCollection at 0xc380216ec8>"
      ]
     },
     "execution_count": 37,
     "metadata": {},
     "output_type": "execute_result"
    },
    {
     "data": {
      "image/png": "[encoded data removed]",
      "text/plain": [
       "<Figure size 432x288 with 1 Axes>"
      ]
     },
     "metadata": {
      "needs_background": "light"
     },
     "output_type": "display_data"
    }
   ],
   "source": [
    "scores = np.array(results.mean_test_score).reshape(6, 6)\n",
    "mglearn.tools.heatmap(scores, xlabel='gamma', xticklabels=param_grid['gamma'],\n",
    "                     ylabel='C', yticklabels=param_grid['C'], cmap=\"viridis\")"
   ]
  },
  {
   "cell_type": "markdown",
   "metadata": {},
   "source": [
    "# 　"
   ]
  },
  {
   "cell_type": "markdown",
   "metadata": {},
   "source": [
    "### 불균형 데이터셋\n",
    "\n",
    "#### * 오차 행렬(Confusion Matrix)\n",
    "- 이진 분류 평가 결과를 나타낼 때 사용하는 방법\n",
    "- 출력은 2X2 배열\n",
    "- 행은 정답 클래스, 열은 예측 클래스에 해당\n",
    "- 각 항목의 숫자는 행에 해당하는 클래스가 얼마나 많이 열에 해당하는 클래스로 분류되었는지 표현\n",
    "- 대각 행렬 : 정확히 분류된 경우\n",
    "\n",
    "\n",
    "#### - 평가 지표 선택의 목표에서 모델을 선택하고 매개변수를 조정할 때, 비즈니스 지표에 긍정적인 영향을 주는 선택이 중요하다.\n",
    "#### - 불균형 데이터셋에서 예측 정확도 99%인 분류기는 정확도만으로 '무조건 클릭 아님' 모델과 '진짜 좋은 모델'을 구분하기 어렵다\n",
    "#### - 오차 행렬에서 행은 예측 클래스, 열은 정답 클래스에 해당한다."
   ]
  },
  {
   "cell_type": "markdown",
   "metadata": {},
   "source": [
    "#### [  평가 지표와 측정(1) 실습 ]"
   ]
  },
  {
   "cell_type": "code",
   "execution_count": 39,
   "metadata": {},
   "outputs": [],
   "source": [
    "# 불균형 데이터셋\n",
    "\n",
    "from sklearn.datasets import load_digits\n",
    "from sklearn.model_selection import train_test_split\n",
    "\n",
    "digits = load_digits()\n",
    "y = digits.target == 9\n",
    "\n",
    "X_train, X_test, y_train, y_test = train_test_split(digits.data, y, random_state=0)"
   ]
  },
  {
   "cell_type": "code",
   "execution_count": 40,
   "metadata": {},
   "outputs": [
    {
     "name": "stdout",
     "output_type": "stream",
     "text": [
      "예측된 레이블 :  [False]\n",
      "테스트 점수 : 0.90\n"
     ]
    }
   ],
   "source": [
    "from sklearn.dummy import DummyClassifier\n",
    "\n",
    "dummy_majority = DummyClassifier(strategy='most_frequent').fit(X_train, y_train)\n",
    "pred_most_frequent = dummy_majority.predict(X_test)\n",
    "\n",
    "print(\"예측된 레이블 : \",  np.unique(pred_most_frequent))\n",
    "print(\"테스트 점수 : {:.2f}\".format(dummy_majority.score(X_test, y_test)))"
   ]
  },
  {
   "cell_type": "code",
   "execution_count": 42,
   "metadata": {},
   "outputs": [
    {
     "name": "stdout",
     "output_type": "stream",
     "text": [
      "테스트 점수 : 0.92\n"
     ]
    }
   ],
   "source": [
    "from sklearn.tree import DecisionTreeClassifier\n",
    "import numpy as np\n",
    "\n",
    "tree = DecisionTreeClassifier(max_depth=2).fit(X_train, y_train)\n",
    "pred_tree = tree.predict(X_test)\n",
    "\n",
    "print(\"테스트 점수 : {:.2f}\".format(tree.score(X_test, y_test)))"
   ]
  },
  {
   "cell_type": "code",
   "execution_count": 44,
   "metadata": {},
   "outputs": [
    {
     "name": "stderr",
     "output_type": "stream",
     "text": [
      "C:\\Users\\user\\anaconda3\\lib\\site-packages\\sklearn\\dummy.py:132: FutureWarning: The default value of strategy will change from stratified to prior in 0.24.\n",
      "  \"stratified to prior in 0.24.\", FutureWarning)\n"
     ]
    },
    {
     "name": "stdout",
     "output_type": "stream",
     "text": [
      "dummy 점수 : 0.83\n",
      "logreg 점수 : 0.81\n"
     ]
    }
   ],
   "source": [
    "from sklearn.linear_model import LogisticRegression\n",
    "\n",
    "dummy = DummyClassifier().fit(X_train, y_train)\n",
    "pred_dummy = dummy.predict(X_test)\n",
    "print(\"dummy 점수 : {:.2f}\".format(dummy.score(X_test, y_test)))\n",
    "\n",
    "logreg = LogisticRegression(C=0.1, max_iter=3000).fit(X_train, y_train)\n",
    "pred_logreg = logreg.predict(X_test)\n",
    "print(\"logreg 점수 : {:.2f}\".format(dummy.score(X_test, y_test)))"
   ]
  },
  {
   "cell_type": "code",
   "execution_count": 45,
   "metadata": {},
   "outputs": [
    {
     "name": "stdout",
     "output_type": "stream",
     "text": [
      "오차 행렬 : \n",
      " [[402   1]\n",
      " [  6  41]]\n"
     ]
    }
   ],
   "source": [
    "# 오차행렬\n",
    "# -> 이진 분류 평가 결과를 나타낼 때 사용하는 방법\n",
    "\n",
    "from sklearn.metrics import confusion_matrix\n",
    "\n",
    "confusion = confusion_matrix(y_test, pred_logreg)\n",
    "print(\"오차 행렬 : \\n\", confusion)\n",
    "\n",
    "# 행은 정답 클래스\n",
    "# 열은 오차 클래스"
   ]
  },
  {
   "cell_type": "code",
   "execution_count": 46,
   "metadata": {},
   "outputs": [
    {
     "data": {
      "image/png": "[encoded data removed]",
      "text/plain": [
       "<Figure size 432x288 with 1 Axes>"
      ]
     },
     "metadata": {
      "needs_background": "light"
     },
     "output_type": "display_data"
    }
   ],
   "source": [
    "import mglearn\n",
    "mglearn.plots.plot_binary_confusion_matrix()"
   ]
  },
  {
   "cell_type": "code",
   "execution_count": 47,
   "metadata": {},
   "outputs": [
    {
     "name": "stdout",
     "output_type": "stream",
     "text": [
      "빈도 기반 더미 모델 : \n",
      "[[403   0]\n",
      " [ 47   0]]\n",
      "\n",
      "\n",
      "무작위 더미 모델 : \n",
      "[[368  35]\n",
      " [ 42   5]]\n",
      "\n",
      "\n",
      "결정 트리 : \n",
      "[[390  13]\n",
      " [ 24  23]]\n",
      "\n",
      "\n",
      "로지스틱 회귀 : \n",
      "[[402   1]\n",
      " [  6  41]]\n"
     ]
    }
   ],
   "source": [
    "print(\"빈도 기반 더미 모델 : \")\n",
    "print(confusion_matrix(y_test, pred_most_frequent))\n",
    "\n",
    "print(\"\\n\\n무작위 더미 모델 : \")\n",
    "print(confusion_matrix(y_test, pred_dummy))\n",
    "\n",
    "print(\"\\n\\n결정 트리 : \")\n",
    "print(confusion_matrix(y_test, pred_tree))\n",
    "\n",
    "print(\"\\n\\n로지스틱 회귀 : \")\n",
    "print(confusion_matrix(y_test, pred_logreg))"
   ]
  },
  {
   "cell_type": "code",
   "execution_count": 48,
   "metadata": {},
   "outputs": [],
   "source": [
    "# => 매우 수동적인 방법이나 정성적인 방법이다"
   ]
  }
 ],
 "metadata": {
  "kernelspec": {
   "display_name": "Python 3",
   "language": "python",
   "name": "python3"
  },
  "language_info": {
   "codemirror_mode": {
    "name": "ipython",
    "version": 3
   },
   "file_extension": ".py",
   "mimetype": "text/x-python",
   "name": "python",
   "nbconvert_exporter": "python",
   "pygments_lexer": "ipython3",
   "version": "3.7.6"
  }
 },
 "nbformat": 4,
 "nbformat_minor": 4
}
