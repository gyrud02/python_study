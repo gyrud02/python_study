{
 "cells": [
  {
   "cell_type": "markdown",
   "metadata": {},
   "source": [
    "### 4주차 Pandas 라이브러리"
   ]
  },
  {
   "cell_type": "markdown",
   "metadata": {},
   "source": [
    "#### 1. Pandas 데이터프레임 생성"
   ]
  },
  {
   "cell_type": "code",
   "execution_count": 55,
   "metadata": {},
   "outputs": [
    {
     "data": {
      "text/html": [
       "<div>\n",
       "<style scoped>\n",
       "    .dataframe tbody tr th:only-of-type {\n",
       "        vertical-align: middle;\n",
       "    }\n",
       "\n",
       "    .dataframe tbody tr th {\n",
       "        vertical-align: top;\n",
       "    }\n",
       "\n",
       "    .dataframe thead th {\n",
       "        text-align: right;\n",
       "    }\n",
       "</style>\n",
       "<table border=\"1\" class=\"dataframe\">\n",
       "  <thead>\n",
       "    <tr style=\"text-align: right;\">\n",
       "      <th></th>\n",
       "      <th>one</th>\n",
       "      <th>two</th>\n",
       "    </tr>\n",
       "  </thead>\n",
       "  <tbody>\n",
       "    <tr>\n",
       "      <th>a</th>\n",
       "      <td>1.40</td>\n",
       "      <td>NaN</td>\n",
       "    </tr>\n",
       "    <tr>\n",
       "      <th>b</th>\n",
       "      <td>7.10</td>\n",
       "      <td>-4.5</td>\n",
       "    </tr>\n",
       "    <tr>\n",
       "      <th>c</th>\n",
       "      <td>NaN</td>\n",
       "      <td>NaN</td>\n",
       "    </tr>\n",
       "    <tr>\n",
       "      <th>d</th>\n",
       "      <td>0.75</td>\n",
       "      <td>-1.3</td>\n",
       "    </tr>\n",
       "  </tbody>\n",
       "</table>\n",
       "</div>"
      ],
      "text/plain": [
       "    one  two\n",
       "a  1.40  NaN\n",
       "b  7.10 -4.5\n",
       "c   NaN  NaN\n",
       "d  0.75 -1.3"
      ]
     },
     "execution_count": 55,
     "metadata": {},
     "output_type": "execute_result"
    }
   ],
   "source": [
    "import pandas as pd\n",
    "\n",
    "data = [[1.4, None], [7.1, -4.5], [None, None], [0.75, -1.3]]\n",
    "df = pd.DataFrame(data, columns = [\"one\", \"two\"], index = ['a','b','c','d'])\n",
    "df"
   ]
  },
  {
   "cell_type": "markdown",
   "metadata": {},
   "source": [
    "##### - sum() : 행, 열 방향에 따른 합계를 구하는 함수, axis = 0을 주면 열의 합계, axis = 1을 주면 행의 합계를 구할 수 있음"
   ]
  },
  {
   "cell_type": "code",
   "execution_count": 56,
   "metadata": {},
   "outputs": [
    {
     "data": {
      "text/plain": [
       "one    9.25\n",
       "two   -5.80\n",
       "dtype: float64"
      ]
     },
     "execution_count": 56,
     "metadata": {},
     "output_type": "execute_result"
    }
   ],
   "source": [
    "df.sum(axis = 0) # 열의 합계"
   ]
  },
  {
   "cell_type": "code",
   "execution_count": 57,
   "metadata": {},
   "outputs": [
    {
     "data": {
      "text/plain": [
       "a    1.40\n",
       "b    2.60\n",
       "c    0.00\n",
       "d   -0.55\n",
       "dtype: float64"
      ]
     },
     "execution_count": 57,
     "metadata": {},
     "output_type": "execute_result"
    }
   ],
   "source": [
    "df.sum(axis = 1) # 행의 합계"
   ]
  },
  {
   "cell_type": "code",
   "execution_count": 58,
   "metadata": {},
   "outputs": [
    {
     "data": {
      "text/plain": [
       "9.25"
      ]
     },
     "execution_count": 58,
     "metadata": {},
     "output_type": "execute_result"
    }
   ],
   "source": [
    "# 인덱스를 이용한 예제\n",
    "df['one'].sum() # one열의 총합"
   ]
  },
  {
   "cell_type": "code",
   "execution_count": 59,
   "metadata": {},
   "outputs": [
    {
     "data": {
      "text/plain": [
       "2.5999999999999996"
      ]
     },
     "execution_count": 59,
     "metadata": {},
     "output_type": "execute_result"
    }
   ],
   "source": [
    "df.loc['b'].sum() # b행의 총합"
   ]
  },
  {
   "cell_type": "markdown",
   "metadata": {},
   "source": [
    "##### - mean() : 행, 열 방향에 따른 평균을 구하는 함수. axis = 0을 주면 열의 평균, axis = 1을 주면 행의 평균을 구할 수 있음"
   ]
  },
  {
   "cell_type": "code",
   "execution_count": 60,
   "metadata": {},
   "outputs": [
    {
     "data": {
      "text/plain": [
       "one    3.083333\n",
       "two   -2.900000\n",
       "dtype: float64"
      ]
     },
     "execution_count": 60,
     "metadata": {},
     "output_type": "execute_result"
    }
   ],
   "source": [
    "df.mean()"
   ]
  },
  {
   "cell_type": "code",
   "execution_count": 61,
   "metadata": {},
   "outputs": [
    {
     "data": {
      "text/plain": [
       "1.4"
      ]
     },
     "execution_count": 61,
     "metadata": {},
     "output_type": "execute_result"
    }
   ],
   "source": [
    "df.loc['a'].mean() # a행의 평균"
   ]
  },
  {
   "cell_type": "code",
   "execution_count": 62,
   "metadata": {},
   "outputs": [
    {
     "data": {
      "text/plain": [
       "a      NaN\n",
       "b    1.300\n",
       "c      NaN\n",
       "d   -0.275\n",
       "dtype: float64"
      ]
     },
     "execution_count": 62,
     "metadata": {},
     "output_type": "execute_result"
    }
   ],
   "source": [
    "df.mean(axis = 1, skipna = False) \n",
    "# skipna = False : 누락값들을 포함하여 결과를 산출하고 싶을 때 \n",
    "# skipna속성을 사용한다."
   ]
  },
  {
   "cell_type": "code",
   "execution_count": 63,
   "metadata": {},
   "outputs": [
    {
     "data": {
      "text/plain": [
       "a    1.400\n",
       "b    1.300\n",
       "c      NaN\n",
       "d   -0.275\n",
       "dtype: float64"
      ]
     },
     "execution_count": 63,
     "metadata": {},
     "output_type": "execute_result"
    }
   ],
   "source": [
    "df.mean(axis = 1, skipna = True)\n",
    "# skipna = True일 경우, 누락값들의 결과가 포함되지 않는다."
   ]
  },
  {
   "cell_type": "markdown",
   "metadata": {},
   "source": [
    "##### - var() : 행, 열 방향에 따른 분산을 구하는 함수"
   ]
  },
  {
   "cell_type": "code",
   "execution_count": 64,
   "metadata": {},
   "outputs": [
    {
     "data": {
      "text/plain": [
       "one    12.205833\n",
       "two     5.120000\n",
       "dtype: float64"
      ]
     },
     "execution_count": 64,
     "metadata": {},
     "output_type": "execute_result"
    }
   ],
   "source": [
    "df.var()"
   ]
  },
  {
   "cell_type": "code",
   "execution_count": 65,
   "metadata": {},
   "outputs": [
    {
     "data": {
      "text/plain": [
       "67.28"
      ]
     },
     "execution_count": 65,
     "metadata": {},
     "output_type": "execute_result"
    }
   ],
   "source": [
    "df.loc['b'].var() # b행의 방향에 따른 분산을 구한다."
   ]
  },
  {
   "cell_type": "markdown",
   "metadata": {},
   "source": [
    "##### - fillna() : 누락값을 특정값으로 대체하는 함수. 특정 텍스트, 평균값 0, 최대값으로 대체한다."
   ]
  },
  {
   "cell_type": "code",
   "execution_count": 66,
   "metadata": {},
   "outputs": [
    {
     "name": "stdout",
     "output_type": "stream",
     "text": [
      "3.0833333333333335 -4.5\n"
     ]
    }
   ],
   "source": [
    "one = df['one'].mean() # one 변수 선언 / mean() : 평균값 대입\n",
    "two = df['two'].min() # two 변수 선언 / min() : 최소값 찾아 대입\n",
    "print(one, two)"
   ]
  },
  {
   "cell_type": "code",
   "execution_count": 83,
   "metadata": {},
   "outputs": [
    {
     "data": {
      "text/html": [
       "<div>\n",
       "<style scoped>\n",
       "    .dataframe tbody tr th:only-of-type {\n",
       "        vertical-align: middle;\n",
       "    }\n",
       "\n",
       "    .dataframe tbody tr th {\n",
       "        vertical-align: top;\n",
       "    }\n",
       "\n",
       "    .dataframe thead th {\n",
       "        text-align: right;\n",
       "    }\n",
       "</style>\n",
       "<table border=\"1\" class=\"dataframe\">\n",
       "  <thead>\n",
       "    <tr style=\"text-align: right;\">\n",
       "      <th></th>\n",
       "      <th>one</th>\n",
       "      <th>two</th>\n",
       "    </tr>\n",
       "  </thead>\n",
       "  <tbody>\n",
       "    <tr>\n",
       "      <th>a</th>\n",
       "      <td>1.40</td>\n",
       "      <td>NaN</td>\n",
       "    </tr>\n",
       "    <tr>\n",
       "      <th>b</th>\n",
       "      <td>7.10</td>\n",
       "      <td>-4.5</td>\n",
       "    </tr>\n",
       "    <tr>\n",
       "      <th>c</th>\n",
       "      <td>0.00</td>\n",
       "      <td>NaN</td>\n",
       "    </tr>\n",
       "    <tr>\n",
       "      <th>d</th>\n",
       "      <td>0.75</td>\n",
       "      <td>-1.3</td>\n",
       "    </tr>\n",
       "  </tbody>\n",
       "</table>\n",
       "</div>"
      ],
      "text/plain": [
       "    one  two\n",
       "a  1.40  NaN\n",
       "b  7.10 -4.5\n",
       "c  0.00  NaN\n",
       "d  0.75 -1.3"
      ]
     },
     "execution_count": 83,
     "metadata": {},
     "output_type": "execute_result"
    }
   ],
   "source": [
    "df.one = df.one.fillna(0)\n",
    "df"
   ]
  },
  {
   "cell_type": "code",
   "execution_count": 85,
   "metadata": {},
   "outputs": [
    {
     "data": {
      "text/html": [
       "<div>\n",
       "<style scoped>\n",
       "    .dataframe tbody tr th:only-of-type {\n",
       "        vertical-align: middle;\n",
       "    }\n",
       "\n",
       "    .dataframe tbody tr th {\n",
       "        vertical-align: top;\n",
       "    }\n",
       "\n",
       "    .dataframe thead th {\n",
       "        text-align: right;\n",
       "    }\n",
       "</style>\n",
       "<table border=\"1\" class=\"dataframe\">\n",
       "  <thead>\n",
       "    <tr style=\"text-align: right;\">\n",
       "      <th></th>\n",
       "      <th>one</th>\n",
       "      <th>two</th>\n",
       "    </tr>\n",
       "  </thead>\n",
       "  <tbody>\n",
       "    <tr>\n",
       "      <th>a</th>\n",
       "      <td>1.40</td>\n",
       "      <td>-4.5</td>\n",
       "    </tr>\n",
       "    <tr>\n",
       "      <th>b</th>\n",
       "      <td>7.10</td>\n",
       "      <td>-4.5</td>\n",
       "    </tr>\n",
       "    <tr>\n",
       "      <th>c</th>\n",
       "      <td>0.00</td>\n",
       "      <td>-4.5</td>\n",
       "    </tr>\n",
       "    <tr>\n",
       "      <th>d</th>\n",
       "      <td>0.75</td>\n",
       "      <td>-1.3</td>\n",
       "    </tr>\n",
       "  </tbody>\n",
       "</table>\n",
       "</div>"
      ],
      "text/plain": [
       "    one  two\n",
       "a  1.40 -4.5\n",
       "b  7.10 -4.5\n",
       "c  0.00 -4.5\n",
       "d  0.75 -1.3"
      ]
     },
     "execution_count": 85,
     "metadata": {},
     "output_type": "execute_result"
    }
   ],
   "source": [
    "two = df['two'].min()\n",
    "\n",
    "df['two'] = df.two.fillna(value = two)\n",
    "df"
   ]
  },
  {
   "cell_type": "code",
   "execution_count": 67,
   "metadata": {},
   "outputs": [
    {
     "data": {
      "text/html": [
       "<div>\n",
       "<style scoped>\n",
       "    .dataframe tbody tr th:only-of-type {\n",
       "        vertical-align: middle;\n",
       "    }\n",
       "\n",
       "    .dataframe tbody tr th {\n",
       "        vertical-align: top;\n",
       "    }\n",
       "\n",
       "    .dataframe thead th {\n",
       "        text-align: right;\n",
       "    }\n",
       "</style>\n",
       "<table border=\"1\" class=\"dataframe\">\n",
       "  <thead>\n",
       "    <tr style=\"text-align: right;\">\n",
       "      <th></th>\n",
       "      <th>one</th>\n",
       "      <th>two</th>\n",
       "    </tr>\n",
       "  </thead>\n",
       "  <tbody>\n",
       "    <tr>\n",
       "      <th>a</th>\n",
       "      <td>1.400000</td>\n",
       "      <td>-4.5</td>\n",
       "    </tr>\n",
       "    <tr>\n",
       "      <th>b</th>\n",
       "      <td>7.100000</td>\n",
       "      <td>-4.5</td>\n",
       "    </tr>\n",
       "    <tr>\n",
       "      <th>c</th>\n",
       "      <td>3.083333</td>\n",
       "      <td>-4.5</td>\n",
       "    </tr>\n",
       "    <tr>\n",
       "      <th>d</th>\n",
       "      <td>0.750000</td>\n",
       "      <td>-1.3</td>\n",
       "    </tr>\n",
       "  </tbody>\n",
       "</table>\n",
       "</div>"
      ],
      "text/plain": [
       "        one  two\n",
       "a  1.400000 -4.5\n",
       "b  7.100000 -4.5\n",
       "c  3.083333 -4.5\n",
       "d  0.750000 -1.3"
      ]
     },
     "execution_count": 67,
     "metadata": {},
     "output_type": "execute_result"
    }
   ],
   "source": [
    "df['one'] = df['one'].fillna(value = one)\n",
    "df['two'] = df['two'].fillna(value = two)\n",
    "df"
   ]
  },
  {
   "cell_type": "markdown",
   "metadata": {},
   "source": [
    "##### - std() : 행, 열 전체 성분의 표준 편차를 계산하는 함수. axis = 0 열, axis = 1 행의 표준 편차를 계산한다."
   ]
  },
  {
   "cell_type": "code",
   "execution_count": 68,
   "metadata": {},
   "outputs": [
    {
     "data": {
      "text/plain": [
       "a    4.171930\n",
       "b    8.202439\n",
       "c    5.362226\n",
       "d    1.449569\n",
       "dtype: float64"
      ]
     },
     "execution_count": 68,
     "metadata": {},
     "output_type": "execute_result"
    }
   ],
   "source": [
    "df.std(axis = 1) # 각 행의 표준 편차를 계산"
   ]
  },
  {
   "cell_type": "code",
   "execution_count": 86,
   "metadata": {},
   "outputs": [
    {
     "data": {
      "text/plain": [
       "one    3.242523\n",
       "two    1.600000\n",
       "dtype: float64"
      ]
     },
     "execution_count": 86,
     "metadata": {},
     "output_type": "execute_result"
    }
   ],
   "source": [
    "df.std(axis = 0) # 각 열의 표준 편차를 계산"
   ]
  },
  {
   "cell_type": "markdown",
   "metadata": {},
   "source": [
    "##### - min() : 행, 열 전체 성분의 최소값을 계산\n",
    "##### - max() : 행, 열 전체 성분의 최대값을 계산\n",
    "#####  -> axis = 0 (열), axis = 1 (행)"
   ]
  },
  {
   "cell_type": "code",
   "execution_count": 69,
   "metadata": {},
   "outputs": [
    {
     "data": {
      "text/plain": [
       "one    0.75\n",
       "two   -4.50\n",
       "dtype: float64"
      ]
     },
     "execution_count": 69,
     "metadata": {},
     "output_type": "execute_result"
    }
   ],
   "source": [
    "df.min(axis = 0) # 열의 최소값 찾기"
   ]
  },
  {
   "cell_type": "code",
   "execution_count": 70,
   "metadata": {},
   "outputs": [
    {
     "data": {
      "text/plain": [
       "a   -4.5\n",
       "b   -4.5\n",
       "c   -4.5\n",
       "d   -1.3\n",
       "dtype: float64"
      ]
     },
     "execution_count": 70,
     "metadata": {},
     "output_type": "execute_result"
    }
   ],
   "source": [
    "df.min(axis = 1) # 행의 최소값 찾기"
   ]
  },
  {
   "cell_type": "code",
   "execution_count": 71,
   "metadata": {},
   "outputs": [
    {
     "data": {
      "text/plain": [
       "one    7.1\n",
       "two   -1.3\n",
       "dtype: float64"
      ]
     },
     "execution_count": 71,
     "metadata": {},
     "output_type": "execute_result"
    }
   ],
   "source": [
    "df.max(axis = 0) # 열의 최대값 찾기"
   ]
  },
  {
   "cell_type": "code",
   "execution_count": 72,
   "metadata": {},
   "outputs": [
    {
     "data": {
      "text/plain": [
       "a    1.400000\n",
       "b    7.100000\n",
       "c    3.083333\n",
       "d    0.750000\n",
       "dtype: float64"
      ]
     },
     "execution_count": 72,
     "metadata": {},
     "output_type": "execute_result"
    }
   ],
   "source": [
    "df.max(axis = 1) # 행의 최대값 찾기"
   ]
  },
  {
   "cell_type": "markdown",
   "metadata": {},
   "source": [
    "##### - count() : 행, 열 전체 성분의(NaN이 아닌) 값의 갯수를 계산하는 함수. axis = 0 (열), axis = 1 (행)"
   ]
  },
  {
   "cell_type": "code",
   "execution_count": 73,
   "metadata": {},
   "outputs": [
    {
     "data": {
      "text/plain": [
       "one    4\n",
       "two    4\n",
       "dtype: int64"
      ]
     },
     "execution_count": 73,
     "metadata": {},
     "output_type": "execute_result"
    }
   ],
   "source": [
    "df.count(axis = 0) # 열의 전체 값의 갯수"
   ]
  },
  {
   "cell_type": "code",
   "execution_count": 74,
   "metadata": {},
   "outputs": [
    {
     "data": {
      "text/plain": [
       "a    2\n",
       "b    2\n",
       "c    2\n",
       "d    2\n",
       "dtype: int64"
      ]
     },
     "execution_count": 74,
     "metadata": {},
     "output_type": "execute_result"
    }
   ],
   "source": [
    "df.count(axis = 1) # 행의 전체 값의 갯수"
   ]
  },
  {
   "cell_type": "markdown",
   "metadata": {},
   "source": [
    "##### - argmin() : 단일 열배열 성분의 최소값이 위치한 인덱스를 반환하는 함수\n",
    "##### - argmax() : 단일 열배열 성분의 최대값이 위치한 인덱스를 반환하는 함수\n",
    "##### - idxmin() : 전체 인덱스 중 최소값을 반환하는 함수\n",
    "##### - idxmax() : 전체 인덱스 중 최대값을 반환하는 함수\n",
    "##### - median() : 전체 성분의 중간값을 반환하는 함수\n",
    "##### - cumsum() : 맨 첫번째 성분부터 각 성분까지의 누적합을 계산하는 함수\n",
    "##### - mad() : 전체 성분의 평균값으로부터 절대 편차의 평균 계산"
   ]
  },
  {
   "cell_type": "code",
   "execution_count": 75,
   "metadata": {},
   "outputs": [
    {
     "data": {
      "text/plain": [
       "3"
      ]
     },
     "execution_count": 75,
     "metadata": {},
     "output_type": "execute_result"
    }
   ],
   "source": [
    "df['one'].argmin() # one열의 최소값이 위치한 인덱스"
   ]
  },
  {
   "cell_type": "code",
   "execution_count": 76,
   "metadata": {},
   "outputs": [
    {
     "data": {
      "text/plain": [
       "3"
      ]
     },
     "execution_count": 76,
     "metadata": {},
     "output_type": "execute_result"
    }
   ],
   "source": [
    "df['two'].argmax() # two열의 최대값이 위치한 인덱스"
   ]
  },
  {
   "cell_type": "code",
   "execution_count": 77,
   "metadata": {},
   "outputs": [
    {
     "data": {
      "text/plain": [
       "one    d\n",
       "two    a\n",
       "dtype: object"
      ]
     },
     "execution_count": 77,
     "metadata": {},
     "output_type": "execute_result"
    }
   ],
   "source": [
    "df.idxmin() # 전체 인덱스 중 최소값을 반환"
   ]
  },
  {
   "cell_type": "code",
   "execution_count": 78,
   "metadata": {},
   "outputs": [
    {
     "data": {
      "text/plain": [
       "one    b\n",
       "two    d\n",
       "dtype: object"
      ]
     },
     "execution_count": 78,
     "metadata": {},
     "output_type": "execute_result"
    }
   ],
   "source": [
    "df.idxmax() # 전체 인덱스 중 최대값을 반환"
   ]
  },
  {
   "cell_type": "code",
   "execution_count": 79,
   "metadata": {},
   "outputs": [
    {
     "data": {
      "text/plain": [
       "one    2.241667\n",
       "two   -4.500000\n",
       "dtype: float64"
      ]
     },
     "execution_count": 79,
     "metadata": {},
     "output_type": "execute_result"
    }
   ],
   "source": [
    "df.median() # 전체 열마다에 중간값을 반환 "
   ]
  },
  {
   "cell_type": "code",
   "execution_count": 80,
   "metadata": {},
   "outputs": [
    {
     "data": {
      "text/html": [
       "<div>\n",
       "<style scoped>\n",
       "    .dataframe tbody tr th:only-of-type {\n",
       "        vertical-align: middle;\n",
       "    }\n",
       "\n",
       "    .dataframe tbody tr th {\n",
       "        vertical-align: top;\n",
       "    }\n",
       "\n",
       "    .dataframe thead th {\n",
       "        text-align: right;\n",
       "    }\n",
       "</style>\n",
       "<table border=\"1\" class=\"dataframe\">\n",
       "  <thead>\n",
       "    <tr style=\"text-align: right;\">\n",
       "      <th></th>\n",
       "      <th>one</th>\n",
       "      <th>two</th>\n",
       "    </tr>\n",
       "  </thead>\n",
       "  <tbody>\n",
       "    <tr>\n",
       "      <th>a</th>\n",
       "      <td>1.400000</td>\n",
       "      <td>-4.5</td>\n",
       "    </tr>\n",
       "    <tr>\n",
       "      <th>b</th>\n",
       "      <td>8.500000</td>\n",
       "      <td>-9.0</td>\n",
       "    </tr>\n",
       "    <tr>\n",
       "      <th>c</th>\n",
       "      <td>11.583333</td>\n",
       "      <td>-13.5</td>\n",
       "    </tr>\n",
       "    <tr>\n",
       "      <th>d</th>\n",
       "      <td>12.333333</td>\n",
       "      <td>-14.8</td>\n",
       "    </tr>\n",
       "  </tbody>\n",
       "</table>\n",
       "</div>"
      ],
      "text/plain": [
       "         one   two\n",
       "a   1.400000  -4.5\n",
       "b   8.500000  -9.0\n",
       "c  11.583333 -13.5\n",
       "d  12.333333 -14.8"
      ]
     },
     "execution_count": 80,
     "metadata": {},
     "output_type": "execute_result"
    }
   ],
   "source": [
    "df.cumsum() # 맨 첫번째 성분부터 각 성분까지의 누적합을 계산하는 함수"
   ]
  },
  {
   "cell_type": "code",
   "execution_count": 81,
   "metadata": {},
   "outputs": [
    {
     "data": {
      "text/plain": [
       "one    2.008333\n",
       "two    1.200000\n",
       "dtype: float64"
      ]
     },
     "execution_count": 81,
     "metadata": {},
     "output_type": "execute_result"
    }
   ],
   "source": [
    "df.mad() # 전체 평균값으로부터 절대 편차의 평균 계산"
   ]
  },
  {
   "cell_type": "markdown",
   "metadata": {},
   "source": [
    "-------------------------------------------------------------------------"
   ]
  },
  {
   "cell_type": "markdown",
   "metadata": {},
   "source": [
    "#### 2. Pandas 데이터프레임 함수 사용하기"
   ]
  },
  {
   "cell_type": "code",
   "execution_count": 82,
   "metadata": {},
   "outputs": [
    {
     "data": {
      "text/html": [
       "<div>\n",
       "<style scoped>\n",
       "    .dataframe tbody tr th:only-of-type {\n",
       "        vertical-align: middle;\n",
       "    }\n",
       "\n",
       "    .dataframe tbody tr th {\n",
       "        vertical-align: top;\n",
       "    }\n",
       "\n",
       "    .dataframe thead th {\n",
       "        text-align: right;\n",
       "    }\n",
       "</style>\n",
       "<table border=\"1\" class=\"dataframe\">\n",
       "  <thead>\n",
       "    <tr style=\"text-align: right;\">\n",
       "      <th></th>\n",
       "      <th>one</th>\n",
       "      <th>two</th>\n",
       "    </tr>\n",
       "  </thead>\n",
       "  <tbody>\n",
       "    <tr>\n",
       "      <th>a</th>\n",
       "      <td>1.40</td>\n",
       "      <td>NaN</td>\n",
       "    </tr>\n",
       "    <tr>\n",
       "      <th>b</th>\n",
       "      <td>7.10</td>\n",
       "      <td>-4.5</td>\n",
       "    </tr>\n",
       "    <tr>\n",
       "      <th>c</th>\n",
       "      <td>NaN</td>\n",
       "      <td>NaN</td>\n",
       "    </tr>\n",
       "    <tr>\n",
       "      <th>d</th>\n",
       "      <td>0.75</td>\n",
       "      <td>-1.3</td>\n",
       "    </tr>\n",
       "  </tbody>\n",
       "</table>\n",
       "</div>"
      ],
      "text/plain": [
       "    one  two\n",
       "a  1.40  NaN\n",
       "b  7.10 -4.5\n",
       "c   NaN  NaN\n",
       "d  0.75 -1.3"
      ]
     },
     "execution_count": 82,
     "metadata": {},
     "output_type": "execute_result"
    }
   ],
   "source": [
    "import pandas as pd\n",
    "\n",
    "data = [[1.4, None], [7.1, -4.5], [None, None], [0.75, -1.3]]\n",
    "df = pd.DataFrame(data, columns = [\"one\", \"two\"], index = ['a','b','c','d'])\n",
    "df"
   ]
  },
  {
   "cell_type": "markdown",
   "metadata": {},
   "source": [
    "-------------------------------------------------------------------------"
   ]
  },
  {
   "cell_type": "markdown",
   "metadata": {},
   "source": [
    "#### 3. Pandas DataFrame 데이터분석용 함수 - 유용한 함수"
   ]
  },
  {
   "cell_type": "code",
   "execution_count": 88,
   "metadata": {},
   "outputs": [
    {
     "data": {
      "text/html": [
       "<div>\n",
       "<style scoped>\n",
       "    .dataframe tbody tr th:only-of-type {\n",
       "        vertical-align: middle;\n",
       "    }\n",
       "\n",
       "    .dataframe tbody tr th {\n",
       "        vertical-align: top;\n",
       "    }\n",
       "\n",
       "    .dataframe thead th {\n",
       "        text-align: right;\n",
       "    }\n",
       "</style>\n",
       "<table border=\"1\" class=\"dataframe\">\n",
       "  <thead>\n",
       "    <tr style=\"text-align: right;\">\n",
       "      <th></th>\n",
       "      <th>A</th>\n",
       "      <th>B</th>\n",
       "      <th>C</th>\n",
       "      <th>D</th>\n",
       "    </tr>\n",
       "  </thead>\n",
       "  <tbody>\n",
       "    <tr>\n",
       "      <th>2020-07-01</th>\n",
       "      <td>-1.339667</td>\n",
       "      <td>-2.113479</td>\n",
       "      <td>-1.934588</td>\n",
       "      <td>1.155603</td>\n",
       "    </tr>\n",
       "    <tr>\n",
       "      <th>2020-07-02</th>\n",
       "      <td>0.328791</td>\n",
       "      <td>-0.015977</td>\n",
       "      <td>-1.150003</td>\n",
       "      <td>-0.565820</td>\n",
       "    </tr>\n",
       "    <tr>\n",
       "      <th>2020-07-03</th>\n",
       "      <td>-0.770894</td>\n",
       "      <td>0.049530</td>\n",
       "      <td>-1.223894</td>\n",
       "      <td>-0.792124</td>\n",
       "    </tr>\n",
       "    <tr>\n",
       "      <th>2020-07-04</th>\n",
       "      <td>0.182139</td>\n",
       "      <td>-0.290130</td>\n",
       "      <td>-1.310142</td>\n",
       "      <td>0.351777</td>\n",
       "    </tr>\n",
       "    <tr>\n",
       "      <th>2020-07-05</th>\n",
       "      <td>-0.761203</td>\n",
       "      <td>1.369305</td>\n",
       "      <td>1.103396</td>\n",
       "      <td>-2.191459</td>\n",
       "    </tr>\n",
       "    <tr>\n",
       "      <th>2020-07-06</th>\n",
       "      <td>0.772096</td>\n",
       "      <td>0.612422</td>\n",
       "      <td>0.588861</td>\n",
       "      <td>0.348685</td>\n",
       "    </tr>\n",
       "  </tbody>\n",
       "</table>\n",
       "</div>"
      ],
      "text/plain": [
       "                   A         B         C         D\n",
       "2020-07-01 -1.339667 -2.113479 -1.934588  1.155603\n",
       "2020-07-02  0.328791 -0.015977 -1.150003 -0.565820\n",
       "2020-07-03 -0.770894  0.049530 -1.223894 -0.792124\n",
       "2020-07-04  0.182139 -0.290130 -1.310142  0.351777\n",
       "2020-07-05 -0.761203  1.369305  1.103396 -2.191459\n",
       "2020-07-06  0.772096  0.612422  0.588861  0.348685"
      ]
     },
     "execution_count": 88,
     "metadata": {},
     "output_type": "execute_result"
    }
   ],
   "source": [
    "import numpy as np\n",
    "import pandas as pd\n",
    "\n",
    "df2 = pd.DataFrame(np.random.randn(6,4), columns = ['A', 'B', 'C', 'D'],\n",
    "                  index=pd.date_range('20200701', periods=6))\n",
    "df2"
   ]
  },
  {
   "cell_type": "code",
   "execution_count": 89,
   "metadata": {},
   "outputs": [
    {
     "data": {
      "text/html": [
       "<div>\n",
       "<style scoped>\n",
       "    .dataframe tbody tr th:only-of-type {\n",
       "        vertical-align: middle;\n",
       "    }\n",
       "\n",
       "    .dataframe tbody tr th {\n",
       "        vertical-align: top;\n",
       "    }\n",
       "\n",
       "    .dataframe thead th {\n",
       "        text-align: right;\n",
       "    }\n",
       "</style>\n",
       "<table border=\"1\" class=\"dataframe\">\n",
       "  <thead>\n",
       "    <tr style=\"text-align: right;\">\n",
       "      <th></th>\n",
       "      <th>A</th>\n",
       "      <th>B</th>\n",
       "      <th>C</th>\n",
       "      <th>D</th>\n",
       "    </tr>\n",
       "  </thead>\n",
       "  <tbody>\n",
       "    <tr>\n",
       "      <th>2020-07-06</th>\n",
       "      <td>0.772096</td>\n",
       "      <td>0.612422</td>\n",
       "      <td>0.588861</td>\n",
       "      <td>0.348685</td>\n",
       "    </tr>\n",
       "    <tr>\n",
       "      <th>2020-07-05</th>\n",
       "      <td>-0.761203</td>\n",
       "      <td>1.369305</td>\n",
       "      <td>1.103396</td>\n",
       "      <td>-2.191459</td>\n",
       "    </tr>\n",
       "    <tr>\n",
       "      <th>2020-07-04</th>\n",
       "      <td>0.182139</td>\n",
       "      <td>-0.290130</td>\n",
       "      <td>-1.310142</td>\n",
       "      <td>0.351777</td>\n",
       "    </tr>\n",
       "    <tr>\n",
       "      <th>2020-07-03</th>\n",
       "      <td>-0.770894</td>\n",
       "      <td>0.049530</td>\n",
       "      <td>-1.223894</td>\n",
       "      <td>-0.792124</td>\n",
       "    </tr>\n",
       "    <tr>\n",
       "      <th>2020-07-02</th>\n",
       "      <td>0.328791</td>\n",
       "      <td>-0.015977</td>\n",
       "      <td>-1.150003</td>\n",
       "      <td>-0.565820</td>\n",
       "    </tr>\n",
       "    <tr>\n",
       "      <th>2020-07-01</th>\n",
       "      <td>-1.339667</td>\n",
       "      <td>-2.113479</td>\n",
       "      <td>-1.934588</td>\n",
       "      <td>1.155603</td>\n",
       "    </tr>\n",
       "  </tbody>\n",
       "</table>\n",
       "</div>"
      ],
      "text/plain": [
       "                   A         B         C         D\n",
       "2020-07-06  0.772096  0.612422  0.588861  0.348685\n",
       "2020-07-05 -0.761203  1.369305  1.103396 -2.191459\n",
       "2020-07-04  0.182139 -0.290130 -1.310142  0.351777\n",
       "2020-07-03 -0.770894  0.049530 -1.223894 -0.792124\n",
       "2020-07-02  0.328791 -0.015977 -1.150003 -0.565820\n",
       "2020-07-01 -1.339667 -2.113479 -1.934588  1.155603"
      ]
     },
     "execution_count": 89,
     "metadata": {},
     "output_type": "execute_result"
    }
   ],
   "source": [
    "df2.sort_index(axis = 0, ascending=False) # index를 열 기준으로 정렬\n",
    "# ascending=False : 내림차순 (사용하지 않을 경우 오름차순) "
   ]
  },
  {
   "cell_type": "code",
   "execution_count": 92,
   "metadata": {},
   "outputs": [
    {
     "data": {
      "text/html": [
       "<div>\n",
       "<style scoped>\n",
       "    .dataframe tbody tr th:only-of-type {\n",
       "        vertical-align: middle;\n",
       "    }\n",
       "\n",
       "    .dataframe tbody tr th {\n",
       "        vertical-align: top;\n",
       "    }\n",
       "\n",
       "    .dataframe thead th {\n",
       "        text-align: right;\n",
       "    }\n",
       "</style>\n",
       "<table border=\"1\" class=\"dataframe\">\n",
       "  <thead>\n",
       "    <tr style=\"text-align: right;\">\n",
       "      <th></th>\n",
       "      <th>A</th>\n",
       "      <th>B</th>\n",
       "      <th>C</th>\n",
       "      <th>D</th>\n",
       "      <th>E</th>\n",
       "      <th>F</th>\n",
       "    </tr>\n",
       "  </thead>\n",
       "  <tbody>\n",
       "    <tr>\n",
       "      <th>2020-07-01</th>\n",
       "      <td>-1.339667</td>\n",
       "      <td>-2.113479</td>\n",
       "      <td>-1.934588</td>\n",
       "      <td>1.155603</td>\n",
       "      <td>3</td>\n",
       "      <td>alpha</td>\n",
       "    </tr>\n",
       "    <tr>\n",
       "      <th>2020-07-02</th>\n",
       "      <td>0.328791</td>\n",
       "      <td>-0.015977</td>\n",
       "      <td>-1.150003</td>\n",
       "      <td>-0.565820</td>\n",
       "      <td>5</td>\n",
       "      <td>beta</td>\n",
       "    </tr>\n",
       "    <tr>\n",
       "      <th>2020-07-03</th>\n",
       "      <td>-0.770894</td>\n",
       "      <td>0.049530</td>\n",
       "      <td>-1.223894</td>\n",
       "      <td>-0.792124</td>\n",
       "      <td>1</td>\n",
       "      <td>gamma</td>\n",
       "    </tr>\n",
       "    <tr>\n",
       "      <th>2020-07-04</th>\n",
       "      <td>0.182139</td>\n",
       "      <td>-0.290130</td>\n",
       "      <td>-1.310142</td>\n",
       "      <td>0.351777</td>\n",
       "      <td>0</td>\n",
       "      <td>gamma</td>\n",
       "    </tr>\n",
       "    <tr>\n",
       "      <th>2020-07-05</th>\n",
       "      <td>-0.761203</td>\n",
       "      <td>1.369305</td>\n",
       "      <td>1.103396</td>\n",
       "      <td>-2.191459</td>\n",
       "      <td>4</td>\n",
       "      <td>alpha</td>\n",
       "    </tr>\n",
       "    <tr>\n",
       "      <th>2020-07-06</th>\n",
       "      <td>0.772096</td>\n",
       "      <td>0.612422</td>\n",
       "      <td>0.588861</td>\n",
       "      <td>0.348685</td>\n",
       "      <td>5</td>\n",
       "      <td>gamma</td>\n",
       "    </tr>\n",
       "  </tbody>\n",
       "</table>\n",
       "</div>"
      ],
      "text/plain": [
       "                   A         B         C         D  E      F\n",
       "2020-07-01 -1.339667 -2.113479 -1.934588  1.155603  3  alpha\n",
       "2020-07-02  0.328791 -0.015977 -1.150003 -0.565820  5   beta\n",
       "2020-07-03 -0.770894  0.049530 -1.223894 -0.792124  1  gamma\n",
       "2020-07-04  0.182139 -0.290130 -1.310142  0.351777  0  gamma\n",
       "2020-07-05 -0.761203  1.369305  1.103396 -2.191459  4  alpha\n",
       "2020-07-06  0.772096  0.612422  0.588861  0.348685  5  gamma"
      ]
     },
     "execution_count": 92,
     "metadata": {},
     "output_type": "execute_result"
    }
   ],
   "source": [
    "# df2의 E열과 F열을 추가해보자\n",
    "df2['E'] = np.random.randint(0,6, size=6)\n",
    "df2['F'] = ['alpha', 'beta', 'gamma', 'gamma', 'alpha', 'gamma']\n",
    "df2"
   ]
  },
  {
   "cell_type": "code",
   "execution_count": 95,
   "metadata": {},
   "outputs": [
    {
     "data": {
      "text/plain": [
       "array(['alpha', 'beta', 'gamma'], dtype=object)"
      ]
     },
     "execution_count": 95,
     "metadata": {},
     "output_type": "execute_result"
    }
   ],
   "source": [
    "# 특정열을 중복없는 열로 만들어주는 unique()를 사용해보자\n",
    "df2['F'].unique()"
   ]
  },
  {
   "cell_type": "code",
   "execution_count": 96,
   "metadata": {},
   "outputs": [
    {
     "data": {
      "text/plain": [
       "gamma    3\n",
       "alpha    2\n",
       "beta     1\n",
       "Name: F, dtype: int64"
      ]
     },
     "execution_count": 96,
     "metadata": {},
     "output_type": "execute_result"
    }
   ],
   "source": [
    "# 각 성분값들이 포함된 행의 갯수를 알려주는 value_counts()를 사용해보자\n",
    "df2['F'].value_counts()"
   ]
  },
  {
   "cell_type": "markdown",
   "metadata": {},
   "source": [
    "-------------------------------------------------------------------------"
   ]
  },
  {
   "cell_type": "markdown",
   "metadata": {},
   "source": [
    "## [실습] Pandas로 인구 구조 분석하기\n",
    "#### 1. 데이터를 읽어오기."
   ]
  },
  {
   "cell_type": "code",
   "execution_count": 1,
   "metadata": {},
   "outputs": [
    {
     "data": {
      "text/html": [
       "<div>\n",
       "<style scoped>\n",
       "    .dataframe tbody tr th:only-of-type {\n",
       "        vertical-align: middle;\n",
       "    }\n",
       "\n",
       "    .dataframe tbody tr th {\n",
       "        vertical-align: top;\n",
       "    }\n",
       "\n",
       "    .dataframe thead th {\n",
       "        text-align: right;\n",
       "    }\n",
       "</style>\n",
       "<table border=\"1\" class=\"dataframe\">\n",
       "  <thead>\n",
       "    <tr style=\"text-align: right;\">\n",
       "      <th></th>\n",
       "      <th>총인구수</th>\n",
       "      <th>연령구간인구수</th>\n",
       "      <th>0세</th>\n",
       "      <th>1세</th>\n",
       "      <th>2세</th>\n",
       "      <th>3세</th>\n",
       "      <th>4세</th>\n",
       "      <th>5세</th>\n",
       "      <th>6세</th>\n",
       "      <th>7세</th>\n",
       "      <th>...</th>\n",
       "      <th>91세</th>\n",
       "      <th>92세</th>\n",
       "      <th>93세</th>\n",
       "      <th>94세</th>\n",
       "      <th>95세</th>\n",
       "      <th>96세</th>\n",
       "      <th>97세</th>\n",
       "      <th>98세</th>\n",
       "      <th>99세</th>\n",
       "      <th>100세 이상</th>\n",
       "    </tr>\n",
       "    <tr>\n",
       "      <th>행정구역</th>\n",
       "      <th></th>\n",
       "      <th></th>\n",
       "      <th></th>\n",
       "      <th></th>\n",
       "      <th></th>\n",
       "      <th></th>\n",
       "      <th></th>\n",
       "      <th></th>\n",
       "      <th></th>\n",
       "      <th></th>\n",
       "      <th></th>\n",
       "      <th></th>\n",
       "      <th></th>\n",
       "      <th></th>\n",
       "      <th></th>\n",
       "      <th></th>\n",
       "      <th></th>\n",
       "      <th></th>\n",
       "      <th></th>\n",
       "      <th></th>\n",
       "      <th></th>\n",
       "    </tr>\n",
       "  </thead>\n",
       "  <tbody>\n",
       "    <tr>\n",
       "      <th>서울특별시  (1100000000)</th>\n",
       "      <td>9857426</td>\n",
       "      <td>9857426</td>\n",
       "      <td>61253</td>\n",
       "      <td>70532</td>\n",
       "      <td>74322</td>\n",
       "      <td>72482</td>\n",
       "      <td>71688</td>\n",
       "      <td>78941</td>\n",
       "      <td>75386</td>\n",
       "      <td>75929</td>\n",
       "      <td>...</td>\n",
       "      <td>5892</td>\n",
       "      <td>4695</td>\n",
       "      <td>3589</td>\n",
       "      <td>3501</td>\n",
       "      <td>2569</td>\n",
       "      <td>1851</td>\n",
       "      <td>1436</td>\n",
       "      <td>1010</td>\n",
       "      <td>736</td>\n",
       "      <td>5519</td>\n",
       "    </tr>\n",
       "    <tr>\n",
       "      <th>서울특별시 종로구 (1111000000)</th>\n",
       "      <td>154770</td>\n",
       "      <td>154770</td>\n",
       "      <td>652</td>\n",
       "      <td>794</td>\n",
       "      <td>911</td>\n",
       "      <td>895</td>\n",
       "      <td>859</td>\n",
       "      <td>1046</td>\n",
       "      <td>909</td>\n",
       "      <td>1012</td>\n",
       "      <td>...</td>\n",
       "      <td>149</td>\n",
       "      <td>115</td>\n",
       "      <td>95</td>\n",
       "      <td>79</td>\n",
       "      <td>81</td>\n",
       "      <td>60</td>\n",
       "      <td>46</td>\n",
       "      <td>37</td>\n",
       "      <td>26</td>\n",
       "      <td>226</td>\n",
       "    </tr>\n",
       "    <tr>\n",
       "      <th>서울특별시 종로구 청운효자동(1111051500)</th>\n",
       "      <td>13272</td>\n",
       "      <td>13272</td>\n",
       "      <td>81</td>\n",
       "      <td>82</td>\n",
       "      <td>90</td>\n",
       "      <td>105</td>\n",
       "      <td>97</td>\n",
       "      <td>116</td>\n",
       "      <td>117</td>\n",
       "      <td>116</td>\n",
       "      <td>...</td>\n",
       "      <td>12</td>\n",
       "      <td>14</td>\n",
       "      <td>7</td>\n",
       "      <td>7</td>\n",
       "      <td>8</td>\n",
       "      <td>3</td>\n",
       "      <td>5</td>\n",
       "      <td>1</td>\n",
       "      <td>1</td>\n",
       "      <td>17</td>\n",
       "    </tr>\n",
       "    <tr>\n",
       "      <th>서울특별시 종로구 사직동(1111053000)</th>\n",
       "      <td>9441</td>\n",
       "      <td>9441</td>\n",
       "      <td>43</td>\n",
       "      <td>63</td>\n",
       "      <td>75</td>\n",
       "      <td>68</td>\n",
       "      <td>76</td>\n",
       "      <td>81</td>\n",
       "      <td>74</td>\n",
       "      <td>83</td>\n",
       "      <td>...</td>\n",
       "      <td>11</td>\n",
       "      <td>13</td>\n",
       "      <td>7</td>\n",
       "      <td>5</td>\n",
       "      <td>7</td>\n",
       "      <td>3</td>\n",
       "      <td>6</td>\n",
       "      <td>4</td>\n",
       "      <td>4</td>\n",
       "      <td>17</td>\n",
       "    </tr>\n",
       "    <tr>\n",
       "      <th>서울특별시 종로구 삼청동(1111054000)</th>\n",
       "      <td>2907</td>\n",
       "      <td>2907</td>\n",
       "      <td>12</td>\n",
       "      <td>4</td>\n",
       "      <td>22</td>\n",
       "      <td>13</td>\n",
       "      <td>12</td>\n",
       "      <td>13</td>\n",
       "      <td>20</td>\n",
       "      <td>11</td>\n",
       "      <td>...</td>\n",
       "      <td>5</td>\n",
       "      <td>2</td>\n",
       "      <td>3</td>\n",
       "      <td>3</td>\n",
       "      <td>2</td>\n",
       "      <td>2</td>\n",
       "      <td>0</td>\n",
       "      <td>2</td>\n",
       "      <td>1</td>\n",
       "      <td>7</td>\n",
       "    </tr>\n",
       "  </tbody>\n",
       "</table>\n",
       "<p>5 rows × 103 columns</p>\n",
       "</div>"
      ],
      "text/plain": [
       "                                총인구수  연령구간인구수     0세     1세     2세     3세  \\\n",
       "행정구역                                                                        \n",
       "서울특별시  (1100000000)          9857426  9857426  61253  70532  74322  72482   \n",
       "서울특별시 종로구 (1111000000)        154770   154770    652    794    911    895   \n",
       "서울특별시 종로구 청운효자동(1111051500)    13272    13272     81     82     90    105   \n",
       "서울특별시 종로구 사직동(1111053000)       9441     9441     43     63     75     68   \n",
       "서울특별시 종로구 삼청동(1111054000)       2907     2907     12      4     22     13   \n",
       "\n",
       "                                4세     5세     6세     7세  ...   91세   92세  \\\n",
       "행정구역                                                     ...               \n",
       "서울특별시  (1100000000)          71688  78941  75386  75929  ...  5892  4695   \n",
       "서울특별시 종로구 (1111000000)         859   1046    909   1012  ...   149   115   \n",
       "서울특별시 종로구 청운효자동(1111051500)     97    116    117    116  ...    12    14   \n",
       "서울특별시 종로구 사직동(1111053000)       76     81     74     83  ...    11    13   \n",
       "서울특별시 종로구 삼청동(1111054000)       12     13     20     11  ...     5     2   \n",
       "\n",
       "                              93세   94세   95세   96세   97세   98세  99세  100세 이상  \n",
       "행정구역                                                                           \n",
       "서울특별시  (1100000000)          3589  3501  2569  1851  1436  1010  736     5519  \n",
       "서울특별시 종로구 (1111000000)         95    79    81    60    46    37   26      226  \n",
       "서울특별시 종로구 청운효자동(1111051500)     7     7     8     3     5     1    1       17  \n",
       "서울특별시 종로구 사직동(1111053000)       7     5     7     3     6     4    4       17  \n",
       "서울특별시 종로구 삼청동(1111054000)       3     3     2     2     0     2    1        7  \n",
       "\n",
       "[5 rows x 103 columns]"
      ]
     },
     "execution_count": 1,
     "metadata": {},
     "output_type": "execute_result"
    }
   ],
   "source": [
    "import pandas as pd\n",
    "df = pd.read_csv('age.csv', encoding='cp949', index_col = 0)\n",
    "df.head()"
   ]
  },
  {
   "cell_type": "markdown",
   "metadata": {},
   "source": [
    "#### 2. 연령별 인구 숫자를 비율로 변경하고, 총 인구수와 연령구간 인구수 데이터를 삭제한다."
   ]
  },
  {
   "cell_type": "code",
   "execution_count": 2,
   "metadata": {},
   "outputs": [
    {
     "data": {
      "text/html": [
       "<div>\n",
       "<style scoped>\n",
       "    .dataframe tbody tr th:only-of-type {\n",
       "        vertical-align: middle;\n",
       "    }\n",
       "\n",
       "    .dataframe tbody tr th {\n",
       "        vertical-align: top;\n",
       "    }\n",
       "\n",
       "    .dataframe thead th {\n",
       "        text-align: right;\n",
       "    }\n",
       "</style>\n",
       "<table border=\"1\" class=\"dataframe\">\n",
       "  <thead>\n",
       "    <tr style=\"text-align: right;\">\n",
       "      <th></th>\n",
       "      <th>0세</th>\n",
       "      <th>1세</th>\n",
       "      <th>2세</th>\n",
       "      <th>3세</th>\n",
       "      <th>4세</th>\n",
       "      <th>5세</th>\n",
       "      <th>6세</th>\n",
       "      <th>7세</th>\n",
       "      <th>8세</th>\n",
       "      <th>9세</th>\n",
       "      <th>...</th>\n",
       "      <th>91세</th>\n",
       "      <th>92세</th>\n",
       "      <th>93세</th>\n",
       "      <th>94세</th>\n",
       "      <th>95세</th>\n",
       "      <th>96세</th>\n",
       "      <th>97세</th>\n",
       "      <th>98세</th>\n",
       "      <th>99세</th>\n",
       "      <th>100세 이상</th>\n",
       "    </tr>\n",
       "    <tr>\n",
       "      <th>행정구역</th>\n",
       "      <th></th>\n",
       "      <th></th>\n",
       "      <th></th>\n",
       "      <th></th>\n",
       "      <th></th>\n",
       "      <th></th>\n",
       "      <th></th>\n",
       "      <th></th>\n",
       "      <th></th>\n",
       "      <th></th>\n",
       "      <th></th>\n",
       "      <th></th>\n",
       "      <th></th>\n",
       "      <th></th>\n",
       "      <th></th>\n",
       "      <th></th>\n",
       "      <th></th>\n",
       "      <th></th>\n",
       "      <th></th>\n",
       "      <th></th>\n",
       "      <th></th>\n",
       "    </tr>\n",
       "  </thead>\n",
       "  <tbody>\n",
       "    <tr>\n",
       "      <th>서울특별시  (1100000000)</th>\n",
       "      <td>0.006214</td>\n",
       "      <td>0.007155</td>\n",
       "      <td>0.007540</td>\n",
       "      <td>0.007353</td>\n",
       "      <td>0.007272</td>\n",
       "      <td>0.008008</td>\n",
       "      <td>0.007648</td>\n",
       "      <td>0.007703</td>\n",
       "      <td>0.007281</td>\n",
       "      <td>0.007726</td>\n",
       "      <td>...</td>\n",
       "      <td>0.000598</td>\n",
       "      <td>0.000476</td>\n",
       "      <td>0.000364</td>\n",
       "      <td>0.000355</td>\n",
       "      <td>0.000261</td>\n",
       "      <td>0.000188</td>\n",
       "      <td>0.000146</td>\n",
       "      <td>0.000102</td>\n",
       "      <td>0.000075</td>\n",
       "      <td>0.000560</td>\n",
       "    </tr>\n",
       "    <tr>\n",
       "      <th>서울특별시 종로구 (1111000000)</th>\n",
       "      <td>0.004213</td>\n",
       "      <td>0.005130</td>\n",
       "      <td>0.005886</td>\n",
       "      <td>0.005783</td>\n",
       "      <td>0.005550</td>\n",
       "      <td>0.006758</td>\n",
       "      <td>0.005873</td>\n",
       "      <td>0.006539</td>\n",
       "      <td>0.005938</td>\n",
       "      <td>0.006500</td>\n",
       "      <td>...</td>\n",
       "      <td>0.000963</td>\n",
       "      <td>0.000743</td>\n",
       "      <td>0.000614</td>\n",
       "      <td>0.000510</td>\n",
       "      <td>0.000523</td>\n",
       "      <td>0.000388</td>\n",
       "      <td>0.000297</td>\n",
       "      <td>0.000239</td>\n",
       "      <td>0.000168</td>\n",
       "      <td>0.001460</td>\n",
       "    </tr>\n",
       "    <tr>\n",
       "      <th>서울특별시 종로구 청운효자동(1111051500)</th>\n",
       "      <td>0.006103</td>\n",
       "      <td>0.006178</td>\n",
       "      <td>0.006781</td>\n",
       "      <td>0.007911</td>\n",
       "      <td>0.007309</td>\n",
       "      <td>0.008740</td>\n",
       "      <td>0.008816</td>\n",
       "      <td>0.008740</td>\n",
       "      <td>0.007685</td>\n",
       "      <td>0.008966</td>\n",
       "      <td>...</td>\n",
       "      <td>0.000904</td>\n",
       "      <td>0.001055</td>\n",
       "      <td>0.000527</td>\n",
       "      <td>0.000527</td>\n",
       "      <td>0.000603</td>\n",
       "      <td>0.000226</td>\n",
       "      <td>0.000377</td>\n",
       "      <td>0.000075</td>\n",
       "      <td>0.000075</td>\n",
       "      <td>0.001281</td>\n",
       "    </tr>\n",
       "    <tr>\n",
       "      <th>서울특별시 종로구 사직동(1111053000)</th>\n",
       "      <td>0.004555</td>\n",
       "      <td>0.006673</td>\n",
       "      <td>0.007944</td>\n",
       "      <td>0.007203</td>\n",
       "      <td>0.008050</td>\n",
       "      <td>0.008580</td>\n",
       "      <td>0.007838</td>\n",
       "      <td>0.008791</td>\n",
       "      <td>0.006991</td>\n",
       "      <td>0.009215</td>\n",
       "      <td>...</td>\n",
       "      <td>0.001165</td>\n",
       "      <td>0.001377</td>\n",
       "      <td>0.000741</td>\n",
       "      <td>0.000530</td>\n",
       "      <td>0.000741</td>\n",
       "      <td>0.000318</td>\n",
       "      <td>0.000636</td>\n",
       "      <td>0.000424</td>\n",
       "      <td>0.000424</td>\n",
       "      <td>0.001801</td>\n",
       "    </tr>\n",
       "    <tr>\n",
       "      <th>서울특별시 종로구 삼청동(1111054000)</th>\n",
       "      <td>0.004128</td>\n",
       "      <td>0.001376</td>\n",
       "      <td>0.007568</td>\n",
       "      <td>0.004472</td>\n",
       "      <td>0.004128</td>\n",
       "      <td>0.004472</td>\n",
       "      <td>0.006880</td>\n",
       "      <td>0.003784</td>\n",
       "      <td>0.007224</td>\n",
       "      <td>0.007224</td>\n",
       "      <td>...</td>\n",
       "      <td>0.001720</td>\n",
       "      <td>0.000688</td>\n",
       "      <td>0.001032</td>\n",
       "      <td>0.001032</td>\n",
       "      <td>0.000688</td>\n",
       "      <td>0.000688</td>\n",
       "      <td>0.000000</td>\n",
       "      <td>0.000688</td>\n",
       "      <td>0.000344</td>\n",
       "      <td>0.002408</td>\n",
       "    </tr>\n",
       "  </tbody>\n",
       "</table>\n",
       "<p>5 rows × 101 columns</p>\n",
       "</div>"
      ],
      "text/plain": [
       "                                   0세        1세        2세        3세        4세  \\\n",
       "행정구역                                                                            \n",
       "서울특별시  (1100000000)          0.006214  0.007155  0.007540  0.007353  0.007272   \n",
       "서울특별시 종로구 (1111000000)       0.004213  0.005130  0.005886  0.005783  0.005550   \n",
       "서울특별시 종로구 청운효자동(1111051500)  0.006103  0.006178  0.006781  0.007911  0.007309   \n",
       "서울특별시 종로구 사직동(1111053000)    0.004555  0.006673  0.007944  0.007203  0.008050   \n",
       "서울특별시 종로구 삼청동(1111054000)    0.004128  0.001376  0.007568  0.004472  0.004128   \n",
       "\n",
       "                                   5세        6세        7세        8세        9세  \\\n",
       "행정구역                                                                            \n",
       "서울특별시  (1100000000)          0.008008  0.007648  0.007703  0.007281  0.007726   \n",
       "서울특별시 종로구 (1111000000)       0.006758  0.005873  0.006539  0.005938  0.006500   \n",
       "서울특별시 종로구 청운효자동(1111051500)  0.008740  0.008816  0.008740  0.007685  0.008966   \n",
       "서울특별시 종로구 사직동(1111053000)    0.008580  0.007838  0.008791  0.006991  0.009215   \n",
       "서울특별시 종로구 삼청동(1111054000)    0.004472  0.006880  0.003784  0.007224  0.007224   \n",
       "\n",
       "                             ...       91세       92세       93세       94세  \\\n",
       "행정구역                         ...                                           \n",
       "서울특별시  (1100000000)          ...  0.000598  0.000476  0.000364  0.000355   \n",
       "서울특별시 종로구 (1111000000)       ...  0.000963  0.000743  0.000614  0.000510   \n",
       "서울특별시 종로구 청운효자동(1111051500)  ...  0.000904  0.001055  0.000527  0.000527   \n",
       "서울특별시 종로구 사직동(1111053000)    ...  0.001165  0.001377  0.000741  0.000530   \n",
       "서울특별시 종로구 삼청동(1111054000)    ...  0.001720  0.000688  0.001032  0.001032   \n",
       "\n",
       "                                  95세       96세       97세       98세       99세  \\\n",
       "행정구역                                                                            \n",
       "서울특별시  (1100000000)          0.000261  0.000188  0.000146  0.000102  0.000075   \n",
       "서울특별시 종로구 (1111000000)       0.000523  0.000388  0.000297  0.000239  0.000168   \n",
       "서울특별시 종로구 청운효자동(1111051500)  0.000603  0.000226  0.000377  0.000075  0.000075   \n",
       "서울특별시 종로구 사직동(1111053000)    0.000741  0.000318  0.000636  0.000424  0.000424   \n",
       "서울특별시 종로구 삼청동(1111054000)    0.000688  0.000688  0.000000  0.000688  0.000344   \n",
       "\n",
       "                              100세 이상  \n",
       "행정구역                                   \n",
       "서울특별시  (1100000000)          0.000560  \n",
       "서울특별시 종로구 (1111000000)       0.001460  \n",
       "서울특별시 종로구 청운효자동(1111051500)  0.001281  \n",
       "서울특별시 종로구 사직동(1111053000)    0.001801  \n",
       "서울특별시 종로구 삼청동(1111054000)    0.002408  \n",
       "\n",
       "[5 rows x 101 columns]"
      ]
     },
     "execution_count": 2,
     "metadata": {},
     "output_type": "execute_result"
    }
   ],
   "source": [
    "df = df.div(df['총인구수'], axis = 0) # 전체 데이터를 총인구수로 나눠서 비율로 변환\n",
    "del df['총인구수'], df['연령구간인구수'] # del:열 삭제\n",
    "df.head()"
   ]
  },
  {
   "cell_type": "markdown",
   "metadata": {},
   "source": [
    "#### 3. 궁금한 지역 이름 입력받고 해당 지역의 인구 구조 저장하기"
   ]
  },
  {
   "cell_type": "code",
   "execution_count": 4,
   "metadata": {},
   "outputs": [
    {
     "name": "stdout",
     "output_type": "stream",
     "text": [
      "원하는 지역의 이름을 입력해주세요 : 주례제2동\n"
     ]
    },
    {
     "data": {
      "text/html": [
       "<div>\n",
       "<style scoped>\n",
       "    .dataframe tbody tr th:only-of-type {\n",
       "        vertical-align: middle;\n",
       "    }\n",
       "\n",
       "    .dataframe tbody tr th {\n",
       "        vertical-align: top;\n",
       "    }\n",
       "\n",
       "    .dataframe thead th {\n",
       "        text-align: right;\n",
       "    }\n",
       "</style>\n",
       "<table border=\"1\" class=\"dataframe\">\n",
       "  <thead>\n",
       "    <tr style=\"text-align: right;\">\n",
       "      <th></th>\n",
       "      <th>0세</th>\n",
       "      <th>1세</th>\n",
       "      <th>2세</th>\n",
       "      <th>3세</th>\n",
       "      <th>4세</th>\n",
       "      <th>5세</th>\n",
       "      <th>6세</th>\n",
       "      <th>7세</th>\n",
       "      <th>8세</th>\n",
       "      <th>9세</th>\n",
       "      <th>...</th>\n",
       "      <th>91세</th>\n",
       "      <th>92세</th>\n",
       "      <th>93세</th>\n",
       "      <th>94세</th>\n",
       "      <th>95세</th>\n",
       "      <th>96세</th>\n",
       "      <th>97세</th>\n",
       "      <th>98세</th>\n",
       "      <th>99세</th>\n",
       "      <th>100세 이상</th>\n",
       "    </tr>\n",
       "    <tr>\n",
       "      <th>행정구역</th>\n",
       "      <th></th>\n",
       "      <th></th>\n",
       "      <th></th>\n",
       "      <th></th>\n",
       "      <th></th>\n",
       "      <th></th>\n",
       "      <th></th>\n",
       "      <th></th>\n",
       "      <th></th>\n",
       "      <th></th>\n",
       "      <th></th>\n",
       "      <th></th>\n",
       "      <th></th>\n",
       "      <th></th>\n",
       "      <th></th>\n",
       "      <th></th>\n",
       "      <th></th>\n",
       "      <th></th>\n",
       "      <th></th>\n",
       "      <th></th>\n",
       "      <th></th>\n",
       "    </tr>\n",
       "  </thead>\n",
       "  <tbody>\n",
       "    <tr>\n",
       "      <th>부산광역시 사상구 주례제2동(2653066000)</th>\n",
       "      <td>0.006647</td>\n",
       "      <td>0.007573</td>\n",
       "      <td>0.007211</td>\n",
       "      <td>0.00713</td>\n",
       "      <td>0.008339</td>\n",
       "      <td>0.008379</td>\n",
       "      <td>0.008298</td>\n",
       "      <td>0.00854</td>\n",
       "      <td>0.007372</td>\n",
       "      <td>0.007211</td>\n",
       "      <td>...</td>\n",
       "      <td>0.000564</td>\n",
       "      <td>0.000443</td>\n",
       "      <td>0.000201</td>\n",
       "      <td>0.000081</td>\n",
       "      <td>0.000201</td>\n",
       "      <td>0.000161</td>\n",
       "      <td>0.00004</td>\n",
       "      <td>0.00004</td>\n",
       "      <td>0.00004</td>\n",
       "      <td>0.000242</td>\n",
       "    </tr>\n",
       "  </tbody>\n",
       "</table>\n",
       "<p>1 rows × 101 columns</p>\n",
       "</div>"
      ],
      "text/plain": [
       "                                   0세        1세        2세       3세        4세  \\\n",
       "행정구역                                                                           \n",
       "부산광역시 사상구 주례제2동(2653066000)  0.006647  0.007573  0.007211  0.00713  0.008339   \n",
       "\n",
       "                                   5세        6세       7세        8세        9세  \\\n",
       "행정구역                                                                           \n",
       "부산광역시 사상구 주례제2동(2653066000)  0.008379  0.008298  0.00854  0.007372  0.007211   \n",
       "\n",
       "                             ...       91세       92세       93세       94세  \\\n",
       "행정구역                         ...                                           \n",
       "부산광역시 사상구 주례제2동(2653066000)  ...  0.000564  0.000443  0.000201  0.000081   \n",
       "\n",
       "                                  95세       96세      97세      98세      99세  \\\n",
       "행정구역                                                                         \n",
       "부산광역시 사상구 주례제2동(2653066000)  0.000201  0.000161  0.00004  0.00004  0.00004   \n",
       "\n",
       "                              100세 이상  \n",
       "행정구역                                   \n",
       "부산광역시 사상구 주례제2동(2653066000)  0.000242  \n",
       "\n",
       "[1 rows x 101 columns]"
      ]
     },
     "execution_count": 4,
     "metadata": {},
     "output_type": "execute_result"
    }
   ],
   "source": [
    "name = input('원하는 지역의 이름을 입력해주세요 : ') \n",
    "# 지역 이름을 입력받아 name 변수에 대입\n",
    "\n",
    "a = df.index.str.contains(name) \n",
    "# df.index.str.contains() \n",
    "# : 데이터프레임 인덱스 문자열에 원하는 문자열이 포함된 행을 찾아낸다\n",
    "\n",
    "df2 = df[a]\n",
    "df2\n",
    "# 주례제2동 검색"
   ]
  },
  {
   "cell_type": "markdown",
   "metadata": {},
   "source": [
    "#### 4. 데이터를 그래프로 그리기 위해 행과 열을 바꾼 후 plot()를 실행"
   ]
  },
  {
   "cell_type": "code",
   "execution_count": 9,
   "metadata": {},
   "outputs": [
    {
     "data": {
      "image/png": "[encoded data removed]",
      "text/plain": [
       "<Figure size 432x288 with 1 Axes>"
      ]
     },
     "metadata": {
      "needs_background": "light"
     },
     "output_type": "display_data"
    }
   ],
   "source": [
    "import matplotlib.pyplot as plt\n",
    "plt.rc('font', family='Malgun Gothic') # 폰트 지정\n",
    "df2.T.plot()\n",
    "plt.show()"
   ]
  },
  {
   "cell_type": "markdown",
   "metadata": {},
   "source": [
    "#### 5. 우리 동네와 인구 구조와 비슷한 지역틀을 그래프로 나타내기"
   ]
  },
  {
   "cell_type": "code",
   "execution_count": 10,
   "metadata": {},
   "outputs": [
    {
     "name": "stdout",
     "output_type": "stream",
     "text": [
      "원하는 지역의 이름을 입력해주세요 : 주례제2동\n"
     ]
    },
    {
     "data": {
      "image/png": "[encoded data removed]",
      "text/plain": [
       "<Figure size 432x288 with 1 Axes>"
      ]
     },
     "metadata": {
      "needs_background": "light"
     },
     "output_type": "display_data"
    }
   ],
   "source": [
    "import pandas as pd\n",
    "import numpy as np\n",
    "import matplotlib.pyplot as plt\n",
    "\n",
    "plt.rc('font', family = 'Malgun Gothic')\n",
    "df = pd.read_csv('age.csv', encoding='cp949', index_col = 0)\n",
    "\n",
    "df = df.div(df['총인구수'], axis = 0) # 전체 데이터를 총인구수로 나눠서 비율로 변환\n",
    "del df['총인구수'], df['연령구간인구수'] # del:열 삭제\n",
    "\n",
    "name = input('원하는 지역의 이름을 입력해주세요 : ') # 지역 이름을 입력받아 name 변수에 대입\n",
    "a = df.index.str.contains(name) # df.index.str.contains() : 데이터프레임 인덱스 문자열에 원하는 문자열이 포함된 행을 찾아낸다\n",
    "\n",
    "df2 = df[a]\n",
    "df.loc[np.power(df.sub(df2.iloc[0], axis = 1), 2).sum(axis = 1).sort_values(). index[:5]].T.plot()\n",
    "# power() : 첫번째 입력 array의 값들을 주번째 입력 array의 값으로 거듭 제곱한다.\n",
    "# -------> df.sub(df2.iloc[0], axis =1)을 두번 제곱한다는 의미\n",
    "# sub() : 사칙연산 중 빼기 함수\n",
    "# iloc : 행 번호를 기준으로 행 데이터를 읽기\n",
    "# sort_values() : 정렬 함수\n",
    "# sort_values().index[:5] : 그 차이가 가장 작은 지역 5곳을 찾는다.\n",
    "# T.plot() : 결과를 꺾은선 그래프로 보여준다.\n",
    "# 궁금한 지역의 인구 구조와 가장 비슷한 인구 구조를 가진 지역 5곳을 찾아 그 결과를 꺾은선 그래프로 보여준다.\n",
    "\n",
    "plt.show()"
   ]
  }
 ],
 "metadata": {
  "kernelspec": {
   "display_name": "Python 3",
   "language": "python",
   "name": "python3"
  },
  "language_info": {
   "codemirror_mode": {
    "name": "ipython",
    "version": 3
   },
   "file_extension": ".py",
   "mimetype": "text/x-python",
   "name": "python",
   "nbconvert_exporter": "python",
   "pygments_lexer": "ipython3",
   "version": "3.7.6"
  }
 },
 "nbformat": 4,
 "nbformat_minor": 4
}
