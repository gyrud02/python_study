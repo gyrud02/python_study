{
 "cells": [
  {
   "cell_type": "markdown",
   "metadata": {},
   "source": [
    "# 14주차 2강 실습"
   ]
  },
  {
   "cell_type": "markdown",
   "metadata": {},
   "source": [
    "## 1. 프로야구 연봉 데이터 살펴보기"
   ]
  },
  {
   "cell_type": "markdown",
   "metadata": {},
   "source": [
    "### [ 프로야구 연봉 데이터셋의 기본 정보 ]"
   ]
  },
  {
   "cell_type": "code",
   "execution_count": 2,
   "metadata": {},
   "outputs": [],
   "source": [
    "import pandas as pd\n",
    "import numpy as np\n",
    "import matplotlib.pyplot as plt\n",
    "import warnings\n",
    "import csv\n",
    "\n",
    "warnings.filterwarnings(\"ignore\")"
   ]
  },
  {
   "cell_type": "code",
   "execution_count": 13,
   "metadata": {},
   "outputs": [
    {
     "data": {
      "text/plain": [
       "Index(['선수명', '팀명', '승', '패', '세', '홀드', '블론', '경기', '선발', '이닝', '삼진/9',\n",
       "       '볼넷/9', '홈런/9', 'BABIP', 'LOB%', 'ERA', 'RA9-WAR', 'FIP', 'kFIP', 'WAR',\n",
       "       '연봉(2018)', '연봉(2017)'],\n",
       "      dtype='object')"
      ]
     },
     "execution_count": 13,
     "metadata": {},
     "output_type": "execute_result"
    }
   ],
   "source": [
    "picher_file_path = 'data/picher_stats_2017.csv'\n",
    "batter_file_path = 'data/batter_stats_2017.csv'\n",
    "picher = pd.read_csv(picher_file_path, sep = ',', encoding='utf8')\n",
    "batter = pd.read_csv(batter_file_path, sep = ',', encoding='utf8')\n",
    "\n",
    "picher.columns"
   ]
  },
  {
   "cell_type": "code",
   "execution_count": 14,
   "metadata": {},
   "outputs": [
    {
     "name": "stdout",
     "output_type": "stream",
     "text": [
      "(152, 22)\n",
      "(191, 21)\n"
     ]
    }
   ],
   "source": [
    "print(picher.shape)\n",
    "print(batter.shape)"
   ]
  },
  {
   "cell_type": "code",
   "execution_count": 15,
   "metadata": {},
   "outputs": [
    {
     "data": {
      "text/html": [
       "<div>\n",
       "<style scoped>\n",
       "    .dataframe tbody tr th:only-of-type {\n",
       "        vertical-align: middle;\n",
       "    }\n",
       "\n",
       "    .dataframe tbody tr th {\n",
       "        vertical-align: top;\n",
       "    }\n",
       "\n",
       "    .dataframe thead th {\n",
       "        text-align: right;\n",
       "    }\n",
       "</style>\n",
       "<table border=\"1\" class=\"dataframe\">\n",
       "  <thead>\n",
       "    <tr style=\"text-align: right;\">\n",
       "      <th></th>\n",
       "      <th>선수명</th>\n",
       "      <th>팀명</th>\n",
       "      <th>승</th>\n",
       "      <th>패</th>\n",
       "      <th>세</th>\n",
       "      <th>홀드</th>\n",
       "      <th>블론</th>\n",
       "      <th>경기</th>\n",
       "      <th>선발</th>\n",
       "      <th>이닝</th>\n",
       "      <th>...</th>\n",
       "      <th>홈런/9</th>\n",
       "      <th>BABIP</th>\n",
       "      <th>LOB%</th>\n",
       "      <th>ERA</th>\n",
       "      <th>RA9-WAR</th>\n",
       "      <th>FIP</th>\n",
       "      <th>kFIP</th>\n",
       "      <th>WAR</th>\n",
       "      <th>연봉(2018)</th>\n",
       "      <th>연봉(2017)</th>\n",
       "    </tr>\n",
       "  </thead>\n",
       "  <tbody>\n",
       "    <tr>\n",
       "      <th>0</th>\n",
       "      <td>켈리</td>\n",
       "      <td>SK</td>\n",
       "      <td>16</td>\n",
       "      <td>7</td>\n",
       "      <td>0</td>\n",
       "      <td>0</td>\n",
       "      <td>0</td>\n",
       "      <td>30</td>\n",
       "      <td>30</td>\n",
       "      <td>190.0</td>\n",
       "      <td>...</td>\n",
       "      <td>0.76</td>\n",
       "      <td>0.342</td>\n",
       "      <td>73.7</td>\n",
       "      <td>3.60</td>\n",
       "      <td>6.91</td>\n",
       "      <td>3.69</td>\n",
       "      <td>3.44</td>\n",
       "      <td>6.62</td>\n",
       "      <td>140000</td>\n",
       "      <td>85000</td>\n",
       "    </tr>\n",
       "    <tr>\n",
       "      <th>1</th>\n",
       "      <td>소사</td>\n",
       "      <td>LG</td>\n",
       "      <td>11</td>\n",
       "      <td>11</td>\n",
       "      <td>1</td>\n",
       "      <td>0</td>\n",
       "      <td>0</td>\n",
       "      <td>30</td>\n",
       "      <td>29</td>\n",
       "      <td>185.1</td>\n",
       "      <td>...</td>\n",
       "      <td>0.53</td>\n",
       "      <td>0.319</td>\n",
       "      <td>67.1</td>\n",
       "      <td>3.88</td>\n",
       "      <td>6.80</td>\n",
       "      <td>3.52</td>\n",
       "      <td>3.41</td>\n",
       "      <td>6.08</td>\n",
       "      <td>120000</td>\n",
       "      <td>50000</td>\n",
       "    </tr>\n",
       "    <tr>\n",
       "      <th>2</th>\n",
       "      <td>양현종</td>\n",
       "      <td>KIA</td>\n",
       "      <td>20</td>\n",
       "      <td>6</td>\n",
       "      <td>0</td>\n",
       "      <td>0</td>\n",
       "      <td>0</td>\n",
       "      <td>31</td>\n",
       "      <td>31</td>\n",
       "      <td>193.1</td>\n",
       "      <td>...</td>\n",
       "      <td>0.79</td>\n",
       "      <td>0.332</td>\n",
       "      <td>72.1</td>\n",
       "      <td>3.44</td>\n",
       "      <td>6.54</td>\n",
       "      <td>3.94</td>\n",
       "      <td>3.82</td>\n",
       "      <td>5.64</td>\n",
       "      <td>230000</td>\n",
       "      <td>150000</td>\n",
       "    </tr>\n",
       "    <tr>\n",
       "      <th>3</th>\n",
       "      <td>차우찬</td>\n",
       "      <td>LG</td>\n",
       "      <td>10</td>\n",
       "      <td>7</td>\n",
       "      <td>0</td>\n",
       "      <td>0</td>\n",
       "      <td>0</td>\n",
       "      <td>28</td>\n",
       "      <td>28</td>\n",
       "      <td>175.2</td>\n",
       "      <td>...</td>\n",
       "      <td>1.02</td>\n",
       "      <td>0.298</td>\n",
       "      <td>75.0</td>\n",
       "      <td>3.43</td>\n",
       "      <td>6.11</td>\n",
       "      <td>4.20</td>\n",
       "      <td>4.03</td>\n",
       "      <td>4.63</td>\n",
       "      <td>100000</td>\n",
       "      <td>100000</td>\n",
       "    </tr>\n",
       "    <tr>\n",
       "      <th>4</th>\n",
       "      <td>레일리</td>\n",
       "      <td>롯데</td>\n",
       "      <td>13</td>\n",
       "      <td>7</td>\n",
       "      <td>0</td>\n",
       "      <td>0</td>\n",
       "      <td>0</td>\n",
       "      <td>30</td>\n",
       "      <td>30</td>\n",
       "      <td>187.1</td>\n",
       "      <td>...</td>\n",
       "      <td>0.91</td>\n",
       "      <td>0.323</td>\n",
       "      <td>74.1</td>\n",
       "      <td>3.80</td>\n",
       "      <td>6.13</td>\n",
       "      <td>4.36</td>\n",
       "      <td>4.31</td>\n",
       "      <td>4.38</td>\n",
       "      <td>111000</td>\n",
       "      <td>85000</td>\n",
       "    </tr>\n",
       "    <tr>\n",
       "      <th>5</th>\n",
       "      <td>피어밴드</td>\n",
       "      <td>KT</td>\n",
       "      <td>8</td>\n",
       "      <td>10</td>\n",
       "      <td>0</td>\n",
       "      <td>0</td>\n",
       "      <td>0</td>\n",
       "      <td>26</td>\n",
       "      <td>26</td>\n",
       "      <td>160.0</td>\n",
       "      <td>...</td>\n",
       "      <td>1.12</td>\n",
       "      <td>0.289</td>\n",
       "      <td>76.1</td>\n",
       "      <td>3.04</td>\n",
       "      <td>6.52</td>\n",
       "      <td>4.42</td>\n",
       "      <td>4.32</td>\n",
       "      <td>3.94</td>\n",
       "      <td>85000</td>\n",
       "      <td>35000</td>\n",
       "    </tr>\n",
       "    <tr>\n",
       "      <th>6</th>\n",
       "      <td>고영표</td>\n",
       "      <td>KT</td>\n",
       "      <td>8</td>\n",
       "      <td>12</td>\n",
       "      <td>0</td>\n",
       "      <td>1</td>\n",
       "      <td>0</td>\n",
       "      <td>25</td>\n",
       "      <td>24</td>\n",
       "      <td>141.2</td>\n",
       "      <td>...</td>\n",
       "      <td>0.83</td>\n",
       "      <td>0.362</td>\n",
       "      <td>64.6</td>\n",
       "      <td>5.08</td>\n",
       "      <td>2.97</td>\n",
       "      <td>3.88</td>\n",
       "      <td>3.78</td>\n",
       "      <td>3.87</td>\n",
       "      <td>11500</td>\n",
       "      <td>5200</td>\n",
       "    </tr>\n",
       "    <tr>\n",
       "      <th>7</th>\n",
       "      <td>장원준</td>\n",
       "      <td>두산</td>\n",
       "      <td>14</td>\n",
       "      <td>9</td>\n",
       "      <td>0</td>\n",
       "      <td>0</td>\n",
       "      <td>0</td>\n",
       "      <td>29</td>\n",
       "      <td>29</td>\n",
       "      <td>180.1</td>\n",
       "      <td>...</td>\n",
       "      <td>0.60</td>\n",
       "      <td>0.293</td>\n",
       "      <td>75.8</td>\n",
       "      <td>3.14</td>\n",
       "      <td>7.28</td>\n",
       "      <td>4.26</td>\n",
       "      <td>4.35</td>\n",
       "      <td>3.85</td>\n",
       "      <td>100000</td>\n",
       "      <td>100000</td>\n",
       "    </tr>\n",
       "    <tr>\n",
       "      <th>8</th>\n",
       "      <td>함덕주</td>\n",
       "      <td>두산</td>\n",
       "      <td>9</td>\n",
       "      <td>8</td>\n",
       "      <td>0</td>\n",
       "      <td>2</td>\n",
       "      <td>0</td>\n",
       "      <td>35</td>\n",
       "      <td>24</td>\n",
       "      <td>137.1</td>\n",
       "      <td>...</td>\n",
       "      <td>0.52</td>\n",
       "      <td>0.321</td>\n",
       "      <td>73.1</td>\n",
       "      <td>3.67</td>\n",
       "      <td>4.99</td>\n",
       "      <td>3.91</td>\n",
       "      <td>3.67</td>\n",
       "      <td>3.78</td>\n",
       "      <td>16000</td>\n",
       "      <td>7000</td>\n",
       "    </tr>\n",
       "    <tr>\n",
       "      <th>9</th>\n",
       "      <td>팻딘</td>\n",
       "      <td>KIA</td>\n",
       "      <td>9</td>\n",
       "      <td>7</td>\n",
       "      <td>0</td>\n",
       "      <td>0</td>\n",
       "      <td>0</td>\n",
       "      <td>30</td>\n",
       "      <td>29</td>\n",
       "      <td>176.0</td>\n",
       "      <td>...</td>\n",
       "      <td>1.12</td>\n",
       "      <td>0.353</td>\n",
       "      <td>76.5</td>\n",
       "      <td>4.14</td>\n",
       "      <td>5.66</td>\n",
       "      <td>4.65</td>\n",
       "      <td>4.61</td>\n",
       "      <td>3.64</td>\n",
       "      <td>70000</td>\n",
       "      <td>70000</td>\n",
       "    </tr>\n",
       "  </tbody>\n",
       "</table>\n",
       "<p>10 rows × 22 columns</p>\n",
       "</div>"
      ],
      "text/plain": [
       "    선수명   팀명   승   패  세  홀드  블론  경기  선발     이닝  ...  홈런/9  BABIP  LOB%   ERA  \\\n",
       "0    켈리   SK  16   7  0   0   0  30  30  190.0  ...  0.76  0.342  73.7  3.60   \n",
       "1    소사   LG  11  11  1   0   0  30  29  185.1  ...  0.53  0.319  67.1  3.88   \n",
       "2   양현종  KIA  20   6  0   0   0  31  31  193.1  ...  0.79  0.332  72.1  3.44   \n",
       "3   차우찬   LG  10   7  0   0   0  28  28  175.2  ...  1.02  0.298  75.0  3.43   \n",
       "4   레일리   롯데  13   7  0   0   0  30  30  187.1  ...  0.91  0.323  74.1  3.80   \n",
       "5  피어밴드   KT   8  10  0   0   0  26  26  160.0  ...  1.12  0.289  76.1  3.04   \n",
       "6   고영표   KT   8  12  0   1   0  25  24  141.2  ...  0.83  0.362  64.6  5.08   \n",
       "7   장원준   두산  14   9  0   0   0  29  29  180.1  ...  0.60  0.293  75.8  3.14   \n",
       "8   함덕주   두산   9   8  0   2   0  35  24  137.1  ...  0.52  0.321  73.1  3.67   \n",
       "9    팻딘  KIA   9   7  0   0   0  30  29  176.0  ...  1.12  0.353  76.5  4.14   \n",
       "\n",
       "   RA9-WAR   FIP  kFIP   WAR  연봉(2018)  연봉(2017)  \n",
       "0     6.91  3.69  3.44  6.62    140000     85000  \n",
       "1     6.80  3.52  3.41  6.08    120000     50000  \n",
       "2     6.54  3.94  3.82  5.64    230000    150000  \n",
       "3     6.11  4.20  4.03  4.63    100000    100000  \n",
       "4     6.13  4.36  4.31  4.38    111000     85000  \n",
       "5     6.52  4.42  4.32  3.94     85000     35000  \n",
       "6     2.97  3.88  3.78  3.87     11500      5200  \n",
       "7     7.28  4.26  4.35  3.85    100000    100000  \n",
       "8     4.99  3.91  3.67  3.78     16000      7000  \n",
       "9     5.66  4.65  4.61  3.64     70000     70000  \n",
       "\n",
       "[10 rows x 22 columns]"
      ]
     },
     "execution_count": 15,
     "metadata": {},
     "output_type": "execute_result"
    }
   ],
   "source": [
    "picher.head(10)"
   ]
  },
  {
   "cell_type": "code",
   "execution_count": 16,
   "metadata": {},
   "outputs": [
    {
     "name": "stdout",
     "output_type": "stream",
     "text": [
      "<class 'pandas.core.frame.DataFrame'>\n",
      "RangeIndex: 152 entries, 0 to 151\n",
      "Data columns (total 22 columns):\n",
      " #   Column    Non-Null Count  Dtype  \n",
      "---  ------    --------------  -----  \n",
      " 0   선수명       152 non-null    object \n",
      " 1   팀명        152 non-null    object \n",
      " 2   승         152 non-null    int64  \n",
      " 3   패         152 non-null    int64  \n",
      " 4   세         152 non-null    int64  \n",
      " 5   홀드        152 non-null    int64  \n",
      " 6   블론        152 non-null    int64  \n",
      " 7   경기        152 non-null    int64  \n",
      " 8   선발        152 non-null    int64  \n",
      " 9   이닝        152 non-null    float64\n",
      " 10  삼진/9      152 non-null    float64\n",
      " 11  볼넷/9      152 non-null    float64\n",
      " 12  홈런/9      152 non-null    float64\n",
      " 13  BABIP     152 non-null    float64\n",
      " 14  LOB%      152 non-null    float64\n",
      " 15  ERA       152 non-null    float64\n",
      " 16  RA9-WAR   152 non-null    float64\n",
      " 17  FIP       152 non-null    float64\n",
      " 18  kFIP      152 non-null    float64\n",
      " 19  WAR       152 non-null    float64\n",
      " 20  연봉(2018)  152 non-null    int64  \n",
      " 21  연봉(2017)  152 non-null    int64  \n",
      "dtypes: float64(11), int64(9), object(2)\n",
      "memory usage: 26.2+ KB\n"
     ]
    }
   ],
   "source": [
    "picher.info()"
   ]
  },
  {
   "cell_type": "markdown",
   "metadata": {},
   "source": [
    "## 2. 예측 대상 Y값 분포 출력하기"
   ]
  },
  {
   "cell_type": "code",
   "execution_count": 18,
   "metadata": {},
   "outputs": [
    {
     "data": {
      "text/plain": [
       "count       152.000000\n",
       "mean      18932.236842\n",
       "std       30940.732924\n",
       "min        2700.000000\n",
       "25%        4000.000000\n",
       "50%        7550.000000\n",
       "75%       18500.000000\n",
       "max      230000.000000\n",
       "Name: 연봉(2018), dtype: float64"
      ]
     },
     "execution_count": 18,
     "metadata": {},
     "output_type": "execute_result"
    }
   ],
   "source": [
    "picher['연봉(2018)'].describe()"
   ]
  },
  {
   "cell_type": "code",
   "execution_count": 19,
   "metadata": {},
   "outputs": [
    {
     "data": {
      "text/plain": [
       "<matplotlib.axes._subplots.AxesSubplot at 0xf45bf76688>"
      ]
     },
     "execution_count": 19,
     "metadata": {},
     "output_type": "execute_result"
    },
    {
     "data": {
      "image/png": "[encoded data removed]",
      "text/plain": [
       "<Figure size 432x288 with 1 Axes>"
      ]
     },
     "metadata": {
      "needs_background": "light"
     },
     "output_type": "display_data"
    }
   ],
   "source": [
    "picher['연봉(2018)'].hist(bins = 100)"
   ]
  },
  {
   "cell_type": "code",
   "execution_count": 20,
   "metadata": {},
   "outputs": [
    {
     "data": {
      "text/plain": [
       "<matplotlib.axes._subplots.AxesSubplot at 0xf45c370d48>"
      ]
     },
     "execution_count": 20,
     "metadata": {},
     "output_type": "execute_result"
    },
    {
     "data": {
      "image/png": "[encoded data removed]",
      "text/plain": [
       "<Figure size 432x288 with 1 Axes>"
      ]
     },
     "metadata": {
      "needs_background": "light"
     },
     "output_type": "display_data"
    }
   ],
   "source": [
    "picher.boxplot(column = ['연봉(2018)'])"
   ]
  },
  {
   "cell_type": "markdown",
   "metadata": {},
   "source": [
    "### [ 회귀 분석에 사용할 피처 살펴보기 ]"
   ]
  },
  {
   "cell_type": "code",
   "execution_count": 35,
   "metadata": {},
   "outputs": [
    {
     "data": {
      "text/html": [
       "<div>\n",
       "<style scoped>\n",
       "    .dataframe tbody tr th:only-of-type {\n",
       "        vertical-align: middle;\n",
       "    }\n",
       "\n",
       "    .dataframe tbody tr th {\n",
       "        vertical-align: top;\n",
       "    }\n",
       "\n",
       "    .dataframe thead th {\n",
       "        text-align: right;\n",
       "    }\n",
       "</style>\n",
       "<table border=\"1\" class=\"dataframe\">\n",
       "  <thead>\n",
       "    <tr style=\"text-align: right;\">\n",
       "      <th></th>\n",
       "      <th>승</th>\n",
       "      <th>패</th>\n",
       "      <th>세</th>\n",
       "      <th>홀드</th>\n",
       "      <th>블론</th>\n",
       "      <th>경기</th>\n",
       "      <th>선발</th>\n",
       "      <th>이닝</th>\n",
       "      <th>삼진/9</th>\n",
       "      <th>볼넷/9</th>\n",
       "      <th>홈런/9</th>\n",
       "      <th>BABIP</th>\n",
       "      <th>LOB%</th>\n",
       "      <th>ERA</th>\n",
       "      <th>RA9-WAR</th>\n",
       "      <th>FIP</th>\n",
       "      <th>kFIP</th>\n",
       "      <th>WAR</th>\n",
       "      <th>연봉(2018)</th>\n",
       "      <th>연봉(2017)</th>\n",
       "    </tr>\n",
       "  </thead>\n",
       "  <tbody>\n",
       "    <tr>\n",
       "      <th>0</th>\n",
       "      <td>16</td>\n",
       "      <td>7</td>\n",
       "      <td>0</td>\n",
       "      <td>0</td>\n",
       "      <td>0</td>\n",
       "      <td>30</td>\n",
       "      <td>30</td>\n",
       "      <td>190.0</td>\n",
       "      <td>8.95</td>\n",
       "      <td>2.13</td>\n",
       "      <td>0.76</td>\n",
       "      <td>0.342</td>\n",
       "      <td>73.7</td>\n",
       "      <td>3.60</td>\n",
       "      <td>6.91</td>\n",
       "      <td>3.69</td>\n",
       "      <td>3.44</td>\n",
       "      <td>6.62</td>\n",
       "      <td>140000</td>\n",
       "      <td>85000</td>\n",
       "    </tr>\n",
       "    <tr>\n",
       "      <th>1</th>\n",
       "      <td>11</td>\n",
       "      <td>11</td>\n",
       "      <td>1</td>\n",
       "      <td>0</td>\n",
       "      <td>0</td>\n",
       "      <td>30</td>\n",
       "      <td>29</td>\n",
       "      <td>185.1</td>\n",
       "      <td>7.43</td>\n",
       "      <td>1.85</td>\n",
       "      <td>0.53</td>\n",
       "      <td>0.319</td>\n",
       "      <td>67.1</td>\n",
       "      <td>3.88</td>\n",
       "      <td>6.80</td>\n",
       "      <td>3.52</td>\n",
       "      <td>3.41</td>\n",
       "      <td>6.08</td>\n",
       "      <td>120000</td>\n",
       "      <td>50000</td>\n",
       "    </tr>\n",
       "    <tr>\n",
       "      <th>2</th>\n",
       "      <td>20</td>\n",
       "      <td>6</td>\n",
       "      <td>0</td>\n",
       "      <td>0</td>\n",
       "      <td>0</td>\n",
       "      <td>31</td>\n",
       "      <td>31</td>\n",
       "      <td>193.1</td>\n",
       "      <td>7.36</td>\n",
       "      <td>2.09</td>\n",
       "      <td>0.79</td>\n",
       "      <td>0.332</td>\n",
       "      <td>72.1</td>\n",
       "      <td>3.44</td>\n",
       "      <td>6.54</td>\n",
       "      <td>3.94</td>\n",
       "      <td>3.82</td>\n",
       "      <td>5.64</td>\n",
       "      <td>230000</td>\n",
       "      <td>150000</td>\n",
       "    </tr>\n",
       "    <tr>\n",
       "      <th>3</th>\n",
       "      <td>10</td>\n",
       "      <td>7</td>\n",
       "      <td>0</td>\n",
       "      <td>0</td>\n",
       "      <td>0</td>\n",
       "      <td>28</td>\n",
       "      <td>28</td>\n",
       "      <td>175.2</td>\n",
       "      <td>8.04</td>\n",
       "      <td>1.95</td>\n",
       "      <td>1.02</td>\n",
       "      <td>0.298</td>\n",
       "      <td>75.0</td>\n",
       "      <td>3.43</td>\n",
       "      <td>6.11</td>\n",
       "      <td>4.20</td>\n",
       "      <td>4.03</td>\n",
       "      <td>4.63</td>\n",
       "      <td>100000</td>\n",
       "      <td>100000</td>\n",
       "    </tr>\n",
       "    <tr>\n",
       "      <th>4</th>\n",
       "      <td>13</td>\n",
       "      <td>7</td>\n",
       "      <td>0</td>\n",
       "      <td>0</td>\n",
       "      <td>0</td>\n",
       "      <td>30</td>\n",
       "      <td>30</td>\n",
       "      <td>187.1</td>\n",
       "      <td>7.49</td>\n",
       "      <td>2.11</td>\n",
       "      <td>0.91</td>\n",
       "      <td>0.323</td>\n",
       "      <td>74.1</td>\n",
       "      <td>3.80</td>\n",
       "      <td>6.13</td>\n",
       "      <td>4.36</td>\n",
       "      <td>4.31</td>\n",
       "      <td>4.38</td>\n",
       "      <td>111000</td>\n",
       "      <td>85000</td>\n",
       "    </tr>\n",
       "    <tr>\n",
       "      <th>...</th>\n",
       "      <td>...</td>\n",
       "      <td>...</td>\n",
       "      <td>...</td>\n",
       "      <td>...</td>\n",
       "      <td>...</td>\n",
       "      <td>...</td>\n",
       "      <td>...</td>\n",
       "      <td>...</td>\n",
       "      <td>...</td>\n",
       "      <td>...</td>\n",
       "      <td>...</td>\n",
       "      <td>...</td>\n",
       "      <td>...</td>\n",
       "      <td>...</td>\n",
       "      <td>...</td>\n",
       "      <td>...</td>\n",
       "      <td>...</td>\n",
       "      <td>...</td>\n",
       "      <td>...</td>\n",
       "      <td>...</td>\n",
       "    </tr>\n",
       "    <tr>\n",
       "      <th>147</th>\n",
       "      <td>2</td>\n",
       "      <td>5</td>\n",
       "      <td>0</td>\n",
       "      <td>0</td>\n",
       "      <td>2</td>\n",
       "      <td>33</td>\n",
       "      <td>5</td>\n",
       "      <td>62.2</td>\n",
       "      <td>4.31</td>\n",
       "      <td>3.30</td>\n",
       "      <td>1.58</td>\n",
       "      <td>0.355</td>\n",
       "      <td>56.9</td>\n",
       "      <td>7.76</td>\n",
       "      <td>-1.21</td>\n",
       "      <td>6.21</td>\n",
       "      <td>6.48</td>\n",
       "      <td>-0.47</td>\n",
       "      <td>7100</td>\n",
       "      <td>8100</td>\n",
       "    </tr>\n",
       "    <tr>\n",
       "      <th>148</th>\n",
       "      <td>3</td>\n",
       "      <td>2</td>\n",
       "      <td>0</td>\n",
       "      <td>0</td>\n",
       "      <td>0</td>\n",
       "      <td>25</td>\n",
       "      <td>11</td>\n",
       "      <td>59.1</td>\n",
       "      <td>4.85</td>\n",
       "      <td>5.61</td>\n",
       "      <td>1.06</td>\n",
       "      <td>0.263</td>\n",
       "      <td>65.4</td>\n",
       "      <td>5.92</td>\n",
       "      <td>0.39</td>\n",
       "      <td>6.41</td>\n",
       "      <td>6.77</td>\n",
       "      <td>-0.49</td>\n",
       "      <td>7500</td>\n",
       "      <td>3100</td>\n",
       "    </tr>\n",
       "    <tr>\n",
       "      <th>149</th>\n",
       "      <td>0</td>\n",
       "      <td>2</td>\n",
       "      <td>0</td>\n",
       "      <td>0</td>\n",
       "      <td>0</td>\n",
       "      <td>9</td>\n",
       "      <td>2</td>\n",
       "      <td>14.2</td>\n",
       "      <td>4.91</td>\n",
       "      <td>4.91</td>\n",
       "      <td>2.45</td>\n",
       "      <td>0.382</td>\n",
       "      <td>52.8</td>\n",
       "      <td>11.66</td>\n",
       "      <td>-0.83</td>\n",
       "      <td>8.03</td>\n",
       "      <td>8.29</td>\n",
       "      <td>-0.61</td>\n",
       "      <td>10000</td>\n",
       "      <td>16000</td>\n",
       "    </tr>\n",
       "    <tr>\n",
       "      <th>150</th>\n",
       "      <td>0</td>\n",
       "      <td>3</td>\n",
       "      <td>0</td>\n",
       "      <td>1</td>\n",
       "      <td>0</td>\n",
       "      <td>41</td>\n",
       "      <td>0</td>\n",
       "      <td>43.2</td>\n",
       "      <td>7.63</td>\n",
       "      <td>7.01</td>\n",
       "      <td>1.44</td>\n",
       "      <td>0.341</td>\n",
       "      <td>73.9</td>\n",
       "      <td>5.77</td>\n",
       "      <td>-0.40</td>\n",
       "      <td>6.87</td>\n",
       "      <td>6.95</td>\n",
       "      <td>-0.70</td>\n",
       "      <td>4000</td>\n",
       "      <td>2900</td>\n",
       "    </tr>\n",
       "    <tr>\n",
       "      <th>151</th>\n",
       "      <td>4</td>\n",
       "      <td>4</td>\n",
       "      <td>0</td>\n",
       "      <td>0</td>\n",
       "      <td>0</td>\n",
       "      <td>24</td>\n",
       "      <td>14</td>\n",
       "      <td>81.0</td>\n",
       "      <td>5.78</td>\n",
       "      <td>5.89</td>\n",
       "      <td>2.00</td>\n",
       "      <td>0.312</td>\n",
       "      <td>65.3</td>\n",
       "      <td>7.67</td>\n",
       "      <td>-0.68</td>\n",
       "      <td>7.60</td>\n",
       "      <td>7.81</td>\n",
       "      <td>-1.01</td>\n",
       "      <td>4000</td>\n",
       "      <td>3000</td>\n",
       "    </tr>\n",
       "  </tbody>\n",
       "</table>\n",
       "<p>152 rows × 20 columns</p>\n",
       "</div>"
      ],
      "text/plain": [
       "      승   패  세  홀드  블론  경기  선발     이닝  삼진/9  볼넷/9  홈런/9  BABIP  LOB%    ERA  \\\n",
       "0    16   7  0   0   0  30  30  190.0  8.95  2.13  0.76  0.342  73.7   3.60   \n",
       "1    11  11  1   0   0  30  29  185.1  7.43  1.85  0.53  0.319  67.1   3.88   \n",
       "2    20   6  0   0   0  31  31  193.1  7.36  2.09  0.79  0.332  72.1   3.44   \n",
       "3    10   7  0   0   0  28  28  175.2  8.04  1.95  1.02  0.298  75.0   3.43   \n",
       "4    13   7  0   0   0  30  30  187.1  7.49  2.11  0.91  0.323  74.1   3.80   \n",
       "..   ..  .. ..  ..  ..  ..  ..    ...   ...   ...   ...    ...   ...    ...   \n",
       "147   2   5  0   0   2  33   5   62.2  4.31  3.30  1.58  0.355  56.9   7.76   \n",
       "148   3   2  0   0   0  25  11   59.1  4.85  5.61  1.06  0.263  65.4   5.92   \n",
       "149   0   2  0   0   0   9   2   14.2  4.91  4.91  2.45  0.382  52.8  11.66   \n",
       "150   0   3  0   1   0  41   0   43.2  7.63  7.01  1.44  0.341  73.9   5.77   \n",
       "151   4   4  0   0   0  24  14   81.0  5.78  5.89  2.00  0.312  65.3   7.67   \n",
       "\n",
       "     RA9-WAR   FIP  kFIP   WAR  연봉(2018)  연봉(2017)  \n",
       "0       6.91  3.69  3.44  6.62    140000     85000  \n",
       "1       6.80  3.52  3.41  6.08    120000     50000  \n",
       "2       6.54  3.94  3.82  5.64    230000    150000  \n",
       "3       6.11  4.20  4.03  4.63    100000    100000  \n",
       "4       6.13  4.36  4.31  4.38    111000     85000  \n",
       "..       ...   ...   ...   ...       ...       ...  \n",
       "147    -1.21  6.21  6.48 -0.47      7100      8100  \n",
       "148     0.39  6.41  6.77 -0.49      7500      3100  \n",
       "149    -0.83  8.03  8.29 -0.61     10000     16000  \n",
       "150    -0.40  6.87  6.95 -0.70      4000      2900  \n",
       "151    -0.68  7.60  7.81 -1.01      4000      3000  \n",
       "\n",
       "[152 rows x 20 columns]"
      ]
     },
     "execution_count": 35,
     "metadata": {},
     "output_type": "execute_result"
    }
   ],
   "source": [
    "picher_features_df = picher[['승', '패', '세', '홀드', '블론', '경기', '선발', '이닝', '삼진/9', '볼넷/9', '홈런/9', 'BABIP', 'LOB%', 'ERA', \n",
    "                             'RA9-WAR', 'FIP', 'kFIP', 'WAR', '연봉(2018)', '연봉(2017)']]\n",
    "\n",
    "picher_features_df"
   ]
  },
  {
   "cell_type": "code",
   "execution_count": 36,
   "metadata": {},
   "outputs": [
    {
     "ename": "AttributeError",
     "evalue": "'function' object has no attribute 'add_subplot'",
     "output_type": "error",
     "traceback": [
      "\u001b[1;31m---------------------------------------------------------------------------\u001b[0m",
      "\u001b[1;31mAttributeError\u001b[0m                            Traceback (most recent call last)",
      "\u001b[1;32m<ipython-input-36-2975712a8dbe>\u001b[0m in \u001b[0;36m<module>\u001b[1;34m\u001b[0m\n\u001b[0;32m     10\u001b[0m             \u001b[0max\u001b[0m\u001b[1;33m.\u001b[0m\u001b[0mset_title\u001b[0m\u001b[1;33m(\u001b[0m\u001b[0mdf\u001b[0m\u001b[1;33m.\u001b[0m\u001b[0mcolumns\u001b[0m\u001b[1;33m[\u001b[0m\u001b[0mi\u001b[0m\u001b[1;33m]\u001b[0m\u001b[1;33m)\u001b[0m\u001b[1;33m\u001b[0m\u001b[1;33m\u001b[0m\u001b[0m\n\u001b[0;32m     11\u001b[0m         \u001b[0mplt\u001b[0m\u001b[1;33m.\u001b[0m\u001b[0mshow\u001b[0m\u001b[1;33m(\u001b[0m\u001b[1;33m)\u001b[0m\u001b[1;33m\u001b[0m\u001b[1;33m\u001b[0m\u001b[0m\n\u001b[1;32m---> 12\u001b[1;33m \u001b[0mplot_hist_each_column\u001b[0m\u001b[1;33m(\u001b[0m\u001b[0mpicher_features_df\u001b[0m\u001b[1;33m)\u001b[0m\u001b[1;33m\u001b[0m\u001b[1;33m\u001b[0m\u001b[0m\n\u001b[0m",
      "\u001b[1;32m<ipython-input-36-2975712a8dbe>\u001b[0m in \u001b[0;36mplot_hist_each_column\u001b[1;34m(df)\u001b[0m\n\u001b[0;32m      6\u001b[0m         \u001b[1;31m# df의 column 갯수 만큼의 subplot을 출력한다.\u001b[0m\u001b[1;33m\u001b[0m\u001b[1;33m\u001b[0m\u001b[1;33m\u001b[0m\u001b[0m\n\u001b[0;32m      7\u001b[0m         \u001b[1;32mfor\u001b[0m \u001b[0mi\u001b[0m \u001b[1;32min\u001b[0m \u001b[0mrange\u001b[0m\u001b[1;33m(\u001b[0m\u001b[0mlen\u001b[0m\u001b[1;33m(\u001b[0m\u001b[0mdf\u001b[0m\u001b[1;33m.\u001b[0m\u001b[0mcolumns\u001b[0m\u001b[1;33m)\u001b[0m\u001b[1;33m)\u001b[0m\u001b[1;33m:\u001b[0m\u001b[1;33m\u001b[0m\u001b[1;33m\u001b[0m\u001b[0m\n\u001b[1;32m----> 8\u001b[1;33m             \u001b[0max\u001b[0m \u001b[1;33m=\u001b[0m \u001b[0mfig\u001b[0m\u001b[1;33m.\u001b[0m\u001b[0madd_subplot\u001b[0m\u001b[1;33m(\u001b[0m\u001b[1;36m5\u001b[0m\u001b[1;33m,\u001b[0m \u001b[1;36m5\u001b[0m\u001b[1;33m,\u001b[0m \u001b[0mi\u001b[0m\u001b[1;33m+\u001b[0m\u001b[1;36m1\u001b[0m\u001b[1;33m)\u001b[0m\u001b[1;33m\u001b[0m\u001b[1;33m\u001b[0m\u001b[0m\n\u001b[0m\u001b[0;32m      9\u001b[0m             \u001b[0mplt\u001b[0m\u001b[1;33m.\u001b[0m\u001b[0mhist\u001b[0m\u001b[1;33m(\u001b[0m\u001b[0mdf\u001b[0m\u001b[1;33m[\u001b[0m\u001b[0mdf\u001b[0m\u001b[1;33m.\u001b[0m\u001b[0mcolumns\u001b[0m\u001b[1;33m[\u001b[0m\u001b[0mi\u001b[0m\u001b[1;33m]\u001b[0m\u001b[1;33m]\u001b[0m\u001b[1;33m,\u001b[0m \u001b[0mbins\u001b[0m \u001b[1;33m=\u001b[0m \u001b[1;36m50\u001b[0m\u001b[1;33m)\u001b[0m\u001b[1;33m\u001b[0m\u001b[1;33m\u001b[0m\u001b[0m\n\u001b[0;32m     10\u001b[0m             \u001b[0max\u001b[0m\u001b[1;33m.\u001b[0m\u001b[0mset_title\u001b[0m\u001b[1;33m(\u001b[0m\u001b[0mdf\u001b[0m\u001b[1;33m.\u001b[0m\u001b[0mcolumns\u001b[0m\u001b[1;33m[\u001b[0m\u001b[0mi\u001b[0m\u001b[1;33m]\u001b[0m\u001b[1;33m)\u001b[0m\u001b[1;33m\u001b[0m\u001b[1;33m\u001b[0m\u001b[0m\n",
      "\u001b[1;31mAttributeError\u001b[0m: 'function' object has no attribute 'add_subplot'"
     ]
    }
   ],
   "source": [
    "# 피처 각각에 대한 bistogram을 출력한다.\n",
    "def plot_hist_each_column(df):\n",
    "        plt.rcParams['figure.figsize'] = [20, 16]\n",
    "        fig = plt.figure\n",
    "        \n",
    "        # df의 column 갯수 만큼의 subplot을 출력한다.\n",
    "        for i in range(len(df.columns)):\n",
    "            ax = fig.add_subplot(5, 5, i+1)\n",
    "            plt.hist(df[df.columns[i]], bins = 50)\n",
    "            ax.set_title(df.columns[i])\n",
    "        plt.show()\n",
    "plot_hist_each_column(picher_features_df)"
   ]
  },
  {
   "cell_type": "markdown",
   "metadata": {},
   "source": [
    "# 14주차 3강 실습"
   ]
  },
  {
   "cell_type": "markdown",
   "metadata": {},
   "source": [
    "## 1. 투수의 연봉 예측하기"
   ]
  },
  {
   "cell_type": "code",
   "execution_count": 37,
   "metadata": {},
   "outputs": [],
   "source": [
    "import pandas as pd\n",
    "import numpy as np\n",
    "import matplotlib.pyplot as plt\n",
    "import warnings\n",
    "warnings.filterwarnings('ignore')\n",
    "\n",
    "picher_file_path = 'data/picher_stats_2017.csv'\n",
    "batter_file_path = 'data/batter_stats_2017.csv'\n",
    "picher = pd.read_csv(picher_file_path, sep = ',', encoding='utf8')\n",
    "batter = pd.read_csv(batter_file_path, sep = ',', encoding='utf8')"
   ]
  },
  {
   "cell_type": "markdown",
   "metadata": {},
   "source": [
    "### [ 피처들의 단위 맞춰주기 : 피처 스케일링 ]"
   ]
  },
  {
   "cell_type": "code",
   "execution_count": 40,
   "metadata": {},
   "outputs": [
    {
     "ename": "SyntaxError",
     "evalue": "unexpected EOF while parsing (<ipython-input-40-3188ebd227d5>, line 15)",
     "output_type": "error",
     "traceback": [
      "\u001b[1;36m  File \u001b[1;32m\"<ipython-input-40-3188ebd227d5>\"\u001b[1;36m, line \u001b[1;32m15\u001b[0m\n\u001b[1;33m    # picher_df.head(10)\u001b[0m\n\u001b[1;37m                        ^\u001b[0m\n\u001b[1;31mSyntaxError\u001b[0m\u001b[1;31m:\u001b[0m unexpected EOF while parsing\n"
     ]
    }
   ],
   "source": [
    "pd.options.mode.chained_assignment = None\n",
    "\n",
    "def standard_scailng(df, scale_columns):\n",
    "    for col in scale_columns:\n",
    "        series_mean = df[col].mean()\n",
    "        series_std = df[col].std()\n",
    "        df[col] = df[col].apply(lambda x: (s-series_mean)/series_std)\n",
    "    return df\n",
    "\n",
    "# 피처 각각에 대한 scaling을 수행한다.\n",
    "scale_columns = ['승', '패', '세', '홀드', '블론', '경기', '선발', '이닝', '삼진/9', '볼넷/9', '홈런/9', 'BABIP', 'LOB%', 'ERA', \n",
    "                             'RA9-WAR', 'FIP', 'kFIP', 'WAR', '연봉(2017)']\n",
    "picher_df = standard_scaling(picher, scale_columns)\n",
    "picher_df = picher_df.renamd(columns = {'연봉(2018)' : 'y'}\n",
    "picher_df.head(10)"
   ]
  },
  {
   "cell_type": "markdown",
   "metadata": {},
   "source": [
    "### [ 피처들의 단위 맞춰주기 : one-hot-encoding ]"
   ]
  },
  {
   "cell_type": "code",
   "execution_count": 41,
   "metadata": {},
   "outputs": [
    {
     "ename": "NameError",
     "evalue": "name 'picher_df' is not defined",
     "output_type": "error",
     "traceback": [
      "\u001b[1;31m---------------------------------------------------------------------------\u001b[0m",
      "\u001b[1;31mNameError\u001b[0m                                 Traceback (most recent call last)",
      "\u001b[1;32m<ipython-input-41-3963531586a6>\u001b[0m in \u001b[0;36m<module>\u001b[1;34m\u001b[0m\n\u001b[1;32m----> 1\u001b[1;33m \u001b[0mteam_encoding\u001b[0m \u001b[1;33m=\u001b[0m \u001b[0mpd\u001b[0m\u001b[1;33m.\u001b[0m\u001b[0mget_dummies\u001b[0m\u001b[1;33m(\u001b[0m\u001b[0mpicher_df\u001b[0m\u001b[1;33m[\u001b[0m\u001b[1;34m'팀명'\u001b[0m\u001b[1;33m]\u001b[0m\u001b[1;33m)\u001b[0m\u001b[1;33m\u001b[0m\u001b[1;33m\u001b[0m\u001b[0m\n\u001b[0m\u001b[0;32m      2\u001b[0m \u001b[0mpicher_df\u001b[0m \u001b[1;33m=\u001b[0m \u001b[0mpicher_df\u001b[0m\u001b[1;33m.\u001b[0m\u001b[0mdrop\u001b[0m\u001b[1;33m(\u001b[0m\u001b[1;34m'팀명'\u001b[0m\u001b[1;33m,\u001b[0m \u001b[0maxis\u001b[0m \u001b[1;33m=\u001b[0m \u001b[1;36m1\u001b[0m\u001b[1;33m)\u001b[0m\u001b[1;33m\u001b[0m\u001b[1;33m\u001b[0m\u001b[0m\n\u001b[0;32m      3\u001b[0m \u001b[0mpicher_df\u001b[0m \u001b[1;33m=\u001b[0m \u001b[0mpicher\u001b[0m\u001b[1;33m.\u001b[0m\u001b[0mdf\u001b[0m\u001b[1;33m.\u001b[0m\u001b[0mjoin\u001b[0m\u001b[1;33m(\u001b[0m\u001b[0mteam_encoding\u001b[0m\u001b[1;33m)\u001b[0m\u001b[1;33m\u001b[0m\u001b[1;33m\u001b[0m\u001b[0m\n\u001b[0;32m      4\u001b[0m \u001b[0mteam_encoding\u001b[0m\u001b[1;33m.\u001b[0m\u001b[0mhead\u001b[0m\u001b[1;33m(\u001b[0m\u001b[1;36m5\u001b[0m\u001b[1;33m)\u001b[0m\u001b[1;33m\u001b[0m\u001b[1;33m\u001b[0m\u001b[0m\n",
      "\u001b[1;31mNameError\u001b[0m: name 'picher_df' is not defined"
     ]
    }
   ],
   "source": [
    "team_encoding = pd.get_dummies(picher_df['팀명'])\n",
    "picher_df = picher_df.drop('팀명', axis = 1)\n",
    "picher_df = picher.df.join(team_encoding)\n",
    "team_encoding.head(5)"
   ]
  },
  {
   "cell_type": "code",
   "execution_count": 42,
   "metadata": {},
   "outputs": [
    {
     "ename": "NameError",
     "evalue": "name 'picher_df' is not defined",
     "output_type": "error",
     "traceback": [
      "\u001b[1;31m---------------------------------------------------------------------------\u001b[0m",
      "\u001b[1;31mNameError\u001b[0m                                 Traceback (most recent call last)",
      "\u001b[1;32m<ipython-input-42-f625703f2801>\u001b[0m in \u001b[0;36m<module>\u001b[1;34m\u001b[0m\n\u001b[1;32m----> 1\u001b[1;33m \u001b[0mpicher_df\u001b[0m\u001b[1;33m.\u001b[0m\u001b[0mhead\u001b[0m\u001b[1;33m(\u001b[0m\u001b[1;33m)\u001b[0m\u001b[1;33m\u001b[0m\u001b[1;33m\u001b[0m\u001b[0m\n\u001b[0m",
      "\u001b[1;31mNameError\u001b[0m: name 'picher_df' is not defined"
     ]
    }
   ],
   "source": [
    "picher_df.head()"
   ]
  },
  {
   "cell_type": "markdown",
   "metadata": {},
   "source": [
    "### [ 회귀 분석 적용하기 ]"
   ]
  },
  {
   "cell_type": "markdown",
   "metadata": {},
   "source": [
    "#### 회귀 분석을 위한 학습, 테스트 데이터셋 분리"
   ]
  },
  {
   "cell_type": "code",
   "execution_count": 43,
   "metadata": {},
   "outputs": [
    {
     "ename": "NameError",
     "evalue": "name 'picher_df' is not defined",
     "output_type": "error",
     "traceback": [
      "\u001b[1;31m---------------------------------------------------------------------------\u001b[0m",
      "\u001b[1;31mNameError\u001b[0m                                 Traceback (most recent call last)",
      "\u001b[1;32m<ipython-input-43-8347770ab9e1>\u001b[0m in \u001b[0;36m<module>\u001b[1;34m\u001b[0m\n\u001b[0;32m      5\u001b[0m \u001b[1;33m\u001b[0m\u001b[0m\n\u001b[0;32m      6\u001b[0m \u001b[1;31m# 학습 데이터와 테스트 데이터로 분리한다.\u001b[0m\u001b[1;33m\u001b[0m\u001b[1;33m\u001b[0m\u001b[1;33m\u001b[0m\u001b[0m\n\u001b[1;32m----> 7\u001b[1;33m \u001b[0mX\u001b[0m \u001b[1;33m=\u001b[0m \u001b[0mpicher_df\u001b[0m\u001b[1;33m[\u001b[0m\u001b[0mpicher_df\u001b[0m\u001b[1;33m.\u001b[0m\u001b[0mcolumns\u001b[0m\u001b[1;33m.\u001b[0m\u001b[0mdifference\u001b[0m\u001b[1;33m(\u001b[0m\u001b[1;33m[\u001b[0m\u001b[1;34m'선수명'\u001b[0m\u001b[1;33m,\u001b[0m \u001b[1;34m'y'\u001b[0m\u001b[1;33m]\u001b[0m\u001b[1;33m)\u001b[0m\u001b[1;33m]\u001b[0m\u001b[1;33m\u001b[0m\u001b[1;33m\u001b[0m\u001b[0m\n\u001b[0m\u001b[0;32m      8\u001b[0m \u001b[0mY\u001b[0m \u001b[1;33m=\u001b[0m \u001b[0mpicher_df\u001b[0m\u001b[1;33m[\u001b[0m\u001b[1;34m'y'\u001b[0m\u001b[1;33m]\u001b[0m\u001b[1;33m\u001b[0m\u001b[1;33m\u001b[0m\u001b[0m\n\u001b[0;32m      9\u001b[0m \u001b[0mX_train\u001b[0m\u001b[1;33m,\u001b[0m \u001b[0mX_test\u001b[0m\u001b[1;33m,\u001b[0m \u001b[0my_train\u001b[0m\u001b[1;33m,\u001b[0m \u001b[0my_test\u001b[0m \u001b[1;33m=\u001b[0m \u001b[0mtrain_test_split\u001b[0m\u001b[1;33m(\u001b[0m\u001b[0mX\u001b[0m\u001b[1;33m,\u001b[0m \u001b[0my\u001b[0m\u001b[1;33m,\u001b[0m \u001b[0mtest_size\u001b[0m \u001b[1;33m=\u001b[0m \u001b[1;36m0.2\u001b[0m\u001b[1;33m,\u001b[0m \u001b[0mrandom_state\u001b[0m \u001b[1;33m=\u001b[0m \u001b[1;36m19\u001b[0m\u001b[1;33m)\u001b[0m\u001b[1;33m\u001b[0m\u001b[1;33m\u001b[0m\u001b[0m\n",
      "\u001b[1;31mNameError\u001b[0m: name 'picher_df' is not defined"
     ]
    }
   ],
   "source": [
    "from sklearn import linear_model\n",
    "from sklearn.model_selection import train_test_split\n",
    "from sklearn.metrics import mean_squared_error\n",
    "from math import sqrt\n",
    "\n",
    "# 학습 데이터와 테스트 데이터로 분리한다.\n",
    "X = picher_df[picher_df.columns.difference(['선수명', 'y'])] \n",
    "Y = picher_df['y']\n",
    "X_train, X_test, y_train, y_test = train_test_split(X, y, test_size = 0.2, random_state = 19)"
   ]
  },
  {
   "cell_type": "markdown",
   "metadata": {},
   "source": [
    "#### 회귀 분석 계수 학습 & 학습된 계수 출력"
   ]
  },
  {
   "cell_type": "code",
   "execution_count": 44,
   "metadata": {},
   "outputs": [
    {
     "ename": "NameError",
     "evalue": "name 'linear_model_LinearRegression' is not defined",
     "output_type": "error",
     "traceback": [
      "\u001b[1;31m---------------------------------------------------------------------------\u001b[0m",
      "\u001b[1;31mNameError\u001b[0m                                 Traceback (most recent call last)",
      "\u001b[1;32m<ipython-input-44-53c5aab3c73b>\u001b[0m in \u001b[0;36m<module>\u001b[1;34m\u001b[0m\n\u001b[1;32m----> 1\u001b[1;33m \u001b[0mlr\u001b[0m \u001b[1;33m=\u001b[0m \u001b[0mlinear_model_LinearRegression\u001b[0m\u001b[1;33m(\u001b[0m\u001b[1;33m)\u001b[0m\u001b[1;33m\u001b[0m\u001b[1;33m\u001b[0m\u001b[0m\n\u001b[0m\u001b[0;32m      2\u001b[0m \u001b[0mmodel\u001b[0m \u001b[1;33m=\u001b[0m \u001b[0mlr\u001b[0m\u001b[1;33m.\u001b[0m\u001b[0mfit\u001b[0m\u001b[1;33m(\u001b[0m\u001b[0mX_train\u001b[0m\u001b[1;33m,\u001b[0m \u001b[0my_train\u001b[0m\u001b[1;33m)\u001b[0m\u001b[1;33m\u001b[0m\u001b[1;33m\u001b[0m\u001b[0m\n\u001b[0;32m      3\u001b[0m \u001b[0mprint\u001b[0m\u001b[1;33m(\u001b[0m\u001b[0mlr\u001b[0m\u001b[1;33m.\u001b[0m\u001b[0mcoef_\u001b[0m\u001b[1;33m)\u001b[0m\u001b[1;33m\u001b[0m\u001b[1;33m\u001b[0m\u001b[0m\n",
      "\u001b[1;31mNameError\u001b[0m: name 'linear_model_LinearRegression' is not defined"
     ]
    }
   ],
   "source": [
    "lr = linear_model_LinearRegression()\n",
    "model = lr.fit(X_train, y_train)\n",
    "print(lr.coef_)"
   ]
  },
  {
   "cell_type": "code",
   "execution_count": 45,
   "metadata": {},
   "outputs": [
    {
     "ename": "NameError",
     "evalue": "name 'picher_df' is not defined",
     "output_type": "error",
     "traceback": [
      "\u001b[1;31m---------------------------------------------------------------------------\u001b[0m",
      "\u001b[1;31mNameError\u001b[0m                                 Traceback (most recent call last)",
      "\u001b[1;32m<ipython-input-45-9c33bdc623df>\u001b[0m in \u001b[0;36m<module>\u001b[1;34m\u001b[0m\n\u001b[1;32m----> 1\u001b[1;33m \u001b[0mpicher_df\u001b[0m\u001b[1;33m.\u001b[0m\u001b[0mcolumns\u001b[0m\u001b[1;33m\u001b[0m\u001b[1;33m\u001b[0m\u001b[0m\n\u001b[0m",
      "\u001b[1;31mNameError\u001b[0m: name 'picher_df' is not defined"
     ]
    }
   ],
   "source": [
    "picher_df.columns"
   ]
  },
  {
   "cell_type": "markdown",
   "metadata": {},
   "source": [
    "## 2. 예측 모델 평가하기"
   ]
  },
  {
   "cell_type": "code",
   "execution_count": 46,
   "metadata": {},
   "outputs": [
    {
     "ename": "NameError",
     "evalue": "name 'picher_df' is not defined",
     "output_type": "error",
     "traceback": [
      "\u001b[1;31m---------------------------------------------------------------------------\u001b[0m",
      "\u001b[1;31mNameError\u001b[0m                                 Traceback (most recent call last)",
      "\u001b[1;32m<ipython-input-46-4363c56ff1d8>\u001b[0m in \u001b[0;36m<module>\u001b[1;34m\u001b[0m\n\u001b[0;32m      2\u001b[0m \u001b[1;33m\u001b[0m\u001b[0m\n\u001b[0;32m      3\u001b[0m \u001b[1;31m# 피처간의 상관계수 행렬을 계산한다.\u001b[0m\u001b[1;33m\u001b[0m\u001b[1;33m\u001b[0m\u001b[1;33m\u001b[0m\u001b[0m\n\u001b[1;32m----> 4\u001b[1;33m \u001b[0mcorr\u001b[0m \u001b[1;33m=\u001b[0m \u001b[0mpicher_df\u001b[0m\u001b[1;33m[\u001b[0m\u001b[0mscale_columns\u001b[0m\u001b[1;33m]\u001b[0m\u001b[1;33m.\u001b[0m\u001b[0mcorr\u001b[0m\u001b[1;33m(\u001b[0m\u001b[0mmethod\u001b[0m \u001b[1;33m=\u001b[0m \u001b[1;34m'pearson'\u001b[0m\u001b[1;33m)\u001b[0m\u001b[1;33m\u001b[0m\u001b[1;33m\u001b[0m\u001b[0m\n\u001b[0m\u001b[0;32m      5\u001b[0m show_cols = ['win', 'lose', 'save', 'hold', 'blon', 'match', 'start'\n\u001b[0;32m      6\u001b[0m              \u001b[1;33m,\u001b[0m\u001b[1;34m'inning'\u001b[0m\u001b[1;33m,\u001b[0m \u001b[1;34m'strike3'\u001b[0m\u001b[1;33m,\u001b[0m \u001b[1;34m'ball4'\u001b[0m\u001b[1;33m,\u001b[0m \u001b[1;34m'homerun'\u001b[0m\u001b[1;33m,\u001b[0m \u001b[1;34m'BABIP'\u001b[0m\u001b[1;33m,\u001b[0m \u001b[1;34m'LOB'\u001b[0m\u001b[1;33m,\u001b[0m\u001b[1;33m\u001b[0m\u001b[1;33m\u001b[0m\u001b[0m\n",
      "\u001b[1;31mNameError\u001b[0m: name 'picher_df' is not defined"
     ]
    }
   ],
   "source": [
    "import seaborn as sns\n",
    "\n",
    "# 피처간의 상관계수 행렬을 계산한다.\n",
    "corr = picher_df[scale_columns].corr(method = 'pearson')\n",
    "show_cols = ['win', 'lose', 'save', 'hold', 'blon', 'match', 'start'\n",
    "             ,'inning', 'strike3', 'ball4', 'homerun', 'BABIP', 'LOB',\n",
    "              'ERA', 'RA9-WAR', 'FIP', 'kFIP', 'WAR', '2017']\n",
    "\n",
    "# corr 행렬 히트맵을 시각화한다.\n",
    "plt.rc('font', family = 'NanumGothicOTF')\n",
    "sns.set(font_scale = 1.5)\n",
    "hm = sns.heatmap(corr.values, cbar=True, annot=True, square=True,\n",
    "                              fmt='.2f', annot_kws={'size':15},\n",
    "                              yticklabels=show_cols, xticklabels=show_cols)\n",
    "\n",
    "plt.tight_layout()\n",
    "plt.show()"
   ]
  }
 ],
 "metadata": {
  "kernelspec": {
   "display_name": "Python 3",
   "language": "python",
   "name": "python3"
  },
  "language_info": {
   "codemirror_mode": {
    "name": "ipython",
    "version": 3
   },
   "file_extension": ".py",
   "mimetype": "text/x-python",
   "name": "python",
   "nbconvert_exporter": "python",
   "pygments_lexer": "ipython3",
   "version": "3.7.6"
  }
 },
 "nbformat": 4,
 "nbformat_minor": 4
}
