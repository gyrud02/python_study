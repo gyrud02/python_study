{
 "cells": [
  {
   "cell_type": "markdown",
   "metadata": {},
   "source": [
    "# 13주차 2강 실습"
   ]
  },
  {
   "cell_type": "markdown",
   "metadata": {},
   "source": [
    "## < 텍스트 마이닝 >\n",
    "- 비정형 데이터, 텍스트 데이터로부터 유의미한 정보를 추출하는 데이터 분석을 텍스트 마이닝(Text Mining)이라고 한다."
   ]
  },
  {
   "cell_type": "markdown",
   "metadata": {},
   "source": [
    "### 1. 웹 크롤링으로 기초 데이터 수집\n",
    "- 대상 페이지의 구조 살펴보기\n",
    "- www.namu.wiki\n",
    "- 웹 크롤링 라이브러리 사용하기"
   ]
  },
  {
   "cell_type": "code",
   "execution_count": 1,
   "metadata": {},
   "outputs": [],
   "source": [
    "import pandas as pd\n",
    "import numpy as np\n",
    "import matplotlib.pyplot as plt\n",
    "import requests\n",
    "from bs4 import BeautifulSoup\n",
    "import re"
   ]
  },
  {
   "cell_type": "code",
   "execution_count": 2,
   "metadata": {},
   "outputs": [],
   "source": [
    "source_url = \"https://namu.wiki/RecentChanges\"\n",
    "req = requests.get(source_url)\n",
    "html = req.content"
   ]
  },
  {
   "cell_type": "code",
   "execution_count": 3,
   "metadata": {},
   "outputs": [
    {
     "data": {
      "text/plain": [
       "b'<!DOCTYPE html>\\n<!--[if lt IE 7]> <html class=\"no-js ie6 oldie\" lang=\"en-US\"> <![endif]-->\\n<!--[if IE 7]>    <html class=\"no-js ie7 oldie\" lang=\"en-US\"> <![endif]-->\\n<!--[if IE 8]>    <html class=\"no-js ie8 oldie\" lang=\"en-US\"> <![endif]-->\\n<!--[if gt IE 8]><!--> <html class=\"no-js\" lang=\"en-US\"> <!--<![endif]-->\\n<head>\\n\\n<title>Please Wait... | Cloudflare</title>\\n  \\n<meta name=\"captcha-bypass\" id=\"captcha-bypass\" />\\n<meta charset=\"UTF-8\" />\\n<meta http-equiv=\"Content-Type\" content=\"text/html; charset=UTF-8\" />\\n<meta http-equiv=\"X-UA-Compatible\" content=\"IE=Edge,chrome=1\" />\\n<meta name=\"robots\" content=\"noindex, nofollow\" />\\n<meta name=\"viewport\" content=\"width=device-width,initial-scale=1\" />\\n<link rel=\"stylesheet\" id=\"cf_styles-css\" href=\"/cdn-cgi/styles/cf.errors.css\" type=\"text/css\" media=\"screen,projection\" />\\n<!--[if lt IE 9]><link rel=\"stylesheet\" id=\\'cf_styles-ie-css\\' href=\"/cdn-cgi/styles/cf.errors.ie.css\" type=\"text/css\" media=\"screen,projection\" /><![endif]-->\\n<style type=\"text/css\">body{margin:0;padding:0}</style>\\n\\n\\n<!--[if gte IE 10]><!-->\\n<script>\\n  if (!navigator.cookieEnabled) {\\n    window.addEventListener(\\'DOMContentLoaded\\', function () {\\n      var cookieEl = document.getElementById(\\'cookie-alert\\');\\n      cookieEl.style.display = \\'block\\';\\n    })\\n  }\\n</script>\\n<!--<![endif]-->\\n\\n\\n  \\n    <script type=\"text/javascript\">\\n    //<![CDATA[\\n    (function(){\\n      window._cf_chl_opt={\\n        cvId: \"2\",\\n        cType: \"managed\",\\n        cNounce: \"80445\",\\n        cRay: \"6626a9569dc1e9cc\",\\n        cHash: \"fc88e996809a838\",\\n        cFPWv: \"g\",\\n        cTTimeMs: \"4000\",\\n        cLt: \"n\",\\n        cRq: {\\n          ru: \"aHR0cHM6Ly9uYW11Lndpa2kvUmVjZW50Q2hhbmdlcw==\",\\n          ra: \"cHl0aG9uLXJlcXVlc3RzLzIuMjIuMA==\",\\n          rm: \"R0VU\",\\n          d: \"SwG0QHuVkJXZjtXS7hlB2XelIg7p1CFs/W2YqDICxRrKztOFwmyhibKY/ENcqRj1DNwDF/IcjhS85lMVKMbrVMGM8j5iE0s5xZVXICTJopzQkslDELLwQShNgKUsEWzwrgzZkC5Hjnh2PaRGvA0DeuDelM1JJpijWQzWebqy6DFRbWKxAJDT9TR8OM7bSSA8N/5Ky9HeEcA4GFZXd1cCPHZYgrcbObToYh+NfPJ0hu7tb/JBePhyr4GgSTj4Beyd8c4CMGVuf/iz5NoAQrSPV0uVfUW7YP6cuA7S22T36/8gRBO1nzhopu0CypIydOdagzpwWmGUdSpR/mgKPM1PkT6AewJm65XPMtbu+PKJ7gLxP7qIpyXHmldFVdudS7XONZA19seBBv6A56Uws4KAwr0fVqAuBuRELscoM0JqmELFE5HtJ6ArkM/MPpbbJxRR3UZCQBmoUqm7+hJMz3T8KXYuNfmOxUIEBp2DvHvkFqE65AoAnPb4qZeChIBVg5gPHzGAdyTl/ovYWUV7m0lhfBsqI3kxw4NxEOxKXGcOWhq27LGphvFxmuIoHCtH2eHIq805i9XTb2HxX0MxvlKw3xAIxx5aRUftYzpgcx85in+H5FQOTy5ZuA54h4BmPcJyp5wjsopJ/5F2r7qPI8GY+FsHBSHZ/gREH0keuaPJ5UD4f5osYfXjl0kBZkLIngltzuGQHWmQZhjXm6wvCuNrHhtJfiPuT+0BdlCP08XjSmk8mRP8rWUtn7lV2pDlWrPNJI71rPwmoiIxeqdaHN1BhQz5Im1n6nQZCT+yLEoJ3ugTyap9jP0wBLdpwItZLhgKnCw02P9TORdF7G3vrcgKEy3R5tAwqAO9ArFv3lAxOT04em4GFRhUdwQo/6hO1+JrbNmif/jw8S9j2S4cIIRoz+QpAuZldekmWbmUp0493T9TSCS5Zwex6Rfn0Ka36+uO\",\\n          t: \"MTYyNDIwOTU2MC4wOTQwMDA=\",\\n          m: \"/IhRf2Dk9TvnpDjvf2auVJuYUKLDK3VV2r7XXPhC+VA=\",\\n          i1: \"z8bgkpNFVl6YgsHaBSFH6g==\",\\n          i2: \"IjjqzsGmDMfh8F3ADrzqOQ==\",\\n          zh: \"m8uLQymzcNrDBUWxIxJVRWWsai2gcUDknsM9ZyUGxkE=\",\\n          uh: \"JnPNhFrP9JDZz++jrWFNK99fEBZafo8DSm+TpH36hUY=\",\\n          hh: \"jeNn0+60emESsWxgCwQYeRlqvrbki4H9y8kT5uzN11k=\",\\n        }\\n      };\\n    }());\\n    //]]>\\n    </script>\\n  \\n\\n<style type=\"text/css\">\\n  #cf-wrapper #spinner {width:69px; margin:  auto;}\\n  #cf-wrapper #cf-please-wait{text-align:center}\\n  .attribution {margin-top: 32px;}\\n  .bubbles { background-color: #f58220; width:20px; height: 20px; margin:2px; border-radius:100%; display:inline-block; }\\n  #cf-wrapper #challenge-form { padding-top:25px; padding-bottom:25px; }\\n  #cf-hcaptcha-container { text-align:center;}\\n  #cf-hcaptcha-container iframe { display: inline-block;}\\n  @keyframes fader     { 0% {opacity: 0.2;} 50% {opacity: 1.0;} 100% {opacity: 0.2;} }\\n  #cf-wrapper #cf-bubbles { width:69px; }\\n  @-webkit-keyframes fader { 0% {opacity: 0.2;} 50% {opacity: 1.0;} 100% {opacity: 0.2;} }\\n  #cf-bubbles > .bubbles { animation: fader 1.6s infinite;}\\n  #cf-bubbles > .bubbles:nth-child(2) { animation-delay: .2s;}\\n  #cf-bubbles > .bubbles:nth-child(3) { animation-delay: .4s;}\\n</style>\\n</head>\\n<body>\\n  <div id=\"cf-wrapper\">\\n    <div class=\"cf-alert cf-alert-error cf-cookie-error\" id=\"cookie-alert\" data-translate=\"enable_cookies\">Please enable cookies.</div>\\n    <div id=\"cf-error-details\" class=\"cf-error-details-wrapper\">\\n      <div class=\"cf-wrapper cf-header cf-error-overview\">\\n      \\n        <h1 data-translate=\"managed_challenge_headline\">Please wait...</h1>\\n        <h2 class=\"cf-subheadline\"><span data-translate=\"managed_checking_msg\">We are checking your browser...</span> namu.wiki</h2>\\n      \\n      </div>\\n      \\n      <div class=\"cf-section cf-highlight cf-captcha-container\">\\n        <div class=\"cf-wrapper\">\\n          <div class=\"cf-columns two\">\\n            <div class=\"cf-column\">\\n            \\n              <div class=\"cf-highlight-inverse cf-form-stacked\">\\n                <form class=\"challenge-form managed-form\" id=\"challenge-form\" action=\"/RecentChanges?__cf_chl_managed_tk__=709f70ccf679c8c43a6a301fe14d4dcf758f4545-1624209560-0-AZr4mAm1SWN5ZCPQqJQjOiCcLS20gyTfhQfvPoOR9xV00_o9ETPhGyST_Ha2M1QGNsqoTFhHiAeweZJoBi4J9aWPmEG4AXaCJ0kfdZHBhZRR9gri4M3i9t7PFgKs2C_LnUx-BNAGShXbJDTUqdGkvsfmcQL2hIc-hxNjQqcUTJPWjUQ3kfYVbbWzIJhRBe868Jb4-k5OryCwfwHLOn3pxVG8_tOnU4eQzNgKV4zeg9LiLp5iArEIPOFxSPx6BbQ_JguiMu5ByWGaWixumeBIRfsn2MryAa3nTHEx6heBtJqt6WzoOs3TH_-iGlzmLOwBN4gAow0yht-geno5mxAZWr_7NVOXej5w9ky0QmmSE0v7mRXl9wFI4rZJmNTurAJk24wpunBPh3UAl0RfJEVbfy_sBK5CB9j3euCC6gTgedLHJyyIzGZQqAV8d0fTa9FWOg7SEzAvntpEUhSrh-9xuLHoCzkOGmPVHkrEYnNcPPoFCjMrJpHqdolsqFGvGVnBZCOiHjcnGk6qXfQqkeyE42K69uv5LHz5YHsa3VIYSE3Wk9e8AxaYWzoC0Hm7wMFMymZ3jpBqXNa0c9O9jaTryZDEGPCn0anT1cEcjjzK-M3S8V4O3D46E6w34pTEsdLDjb2fIQOwVx9aYX60hClCAoNYWvnIUzS71WZQcvUumLuhCRXMTAw8QGhP10wUNKCpPw\" method=\"POST\" enctype=\"application/x-www-form-urlencoded\">\\n  \\n    <div id=\\'cf-please-wait\\'>\\n      <div id=\\'spinner\\'>\\n        <div id=\"cf-bubbles\">\\n            <div class=\"bubbles\"></div>\\n            <div class=\"bubbles\"></div>\\n            <div class=\"bubbles\"></div>\\n        </div>\\n      </div>\\n      <p data-translate=\"please_wait\" id=\"cf-spinner-please-wait\">Please stand by, while we are checking your browser...</p>\\n      <p data-translate=\"redirecting\" id=\"cf-spinner-redirecting\" style=\"display:none\">Redirecting...</p>\\n      </div>\\n  \\n  <input type=\"hidden\" name=\"r\" value=\"250a45b0ccb719e05fe254cb126a623b48b6c83a-1624209560-0-AWXTPrutgie+ahwF3b3E1n9b9HpzzSgFURpj152dl4637OA0OW4y59B5Et6V8P7CVl8ptCB6v+wIX79kqLzP9HkbjfDAqcR9NcZBimvf5idUQ1sz3IOTZFA0jBkym08wATV6w8QDDOjM3TIbGBnstAexC8lJ1jIfC+Be71hg9fm9h+YTG4sih//yOGfJvnpOkuLgTy2njC+f8tUK1qnfFlamNIQ8aIrReFV8fMfXy9cGsR5AlSEibkfffkBvKaS4pV432YF4dNM9+kaBbxo05pQoRj+kxHLCiDMi5CVxuNvieTKqYqKZVdKrLM7o9JWgIafA/yRluCzSzMIA/XJvsq/lGGpMgkCuyOLV5g6RLl74Amm9lQZgieuR/qwYPHke5McksUJiXhGz8BDewrJ3BzA0L7BVRcw+86I1hcNeVNrEJhuFNFzi4RYXg67WcqhxIsYn7gZCYaDFWELsN4lKseq3llLmn3KHScRdlpI4HB+PvqXFjPxA3mqT+Wp9jDenpEf819d4NqAid3fQlJeQQxxVJgHRGK6OApuwjLoVWnIb/mBiu1C4GQuH8AifoLReKOFxugTtU9lrAC8KNUY4h3VU8X31QmHT7eQgGG385QTUzf0TXrtA/RBgqNYKACHb3ywUAoXY1qeF46aKo00Ha19oHQ0Re1POCesfX4ny0fLlqsfoDoXgc9pV5vMjdVJlit4wHLQ6OzuZ/mhA1faezv4G0usIWXfqiE6CGp65hK3egQMLZmWiilkcz5J2JzqTtoPWjhWCBgXfkmGza9AL8NKZq+yFBpsPAMOoDcSMm+tnfMcyDcm+kOT5AG1tPnj/+tebiITyEdUGckOaOLwdDlP0KWfM0A+9QbV0RqbeqfStvwK8+ZSYEcui2KzvW1g08Zp4zJ+653JIPcmz6NHqOZqXSfJdok5971/QAsEKzPhlkXKjFLoWk9W/bX6Kg6y+2OxyCTQfzlbm/57OfICiAAadsMZTc7K8vDywz34gJ/PXX6MbfI0lP5RHAyf/pFEypMLvTeZrzfYpeD2lXooxAdY6G0PMqmFDc0X6SNBGM39+wlyq3EJcGP8Vray346ARZOJy5Azij5Jml26lUYmVN3cYtuX4leGAdDkJC8pKb2/5gg5T2Sd4iTrVdhCmGoqCFGdstR5RDrGfz3dPf1nnCKSgHiH+QggbMjTcorJC+UZc2Z14ZA6fSBappk5lZKZlsTVfIeYyOVjyhtJEH+/JQHCbc7v4kkO2DD8A+1BQhrdZbsLD6GBSBSN3bsnNHZ28J9G8LlKVm/QES+ni8kBPr0Pk+eh69xbroWdKVSKBY+Q9H3giFS1yKhIEaiUEy97pBki6l20RHZnwyyp6uJ0EepOQoDAyRMsD5lLPD+taIjC5ZWi9JJiw7hQyqBi46WgPU1tmZFlN3jRAcB6qcQgR83b4eWLvCiFBgp4s7M9dw4SV2NnDc2mVihkdqnVf2GgzlaCPdm5EoLgN3o9pvnM1r/L/fcSy9mrglGHoZfSlJ+HQFPod6XHRYp2V0ws1l3+JP4W+vldrQC/qs9mXRdX/Raxp3A8z0iHeXOwnhoe728SQ3KIbjJDXMQV1/eHHlpzig2LA+MKXu+lTqtjDkLv+T1KHCb0bZohnyjrTk/Zgf3dP2KsgtKh03NdtVmhpB6LsX9dBkrDYiH3Kv+xmz+YM6arXX1ElK9a/vSGAJvH0RhXP84epowdDiBHee6GHOMllXvkY+KUvNPu4/6TM/AoprkY=\">\\n  <input type=\"hidden\" name=\"cf_captcha_kind\" value=\"h\">\\n  <input type=\"hidden\" name=\"vc\" value=\"e08944a28b377616a51a944fdd196f13\">\\n  \\n  <noscript id=\"cf-captcha-bookmark\" class=\"cf-captcha-info\">\\n  <h1 data-translate=\"turn_on_js\" style=\"color:#bd2426;\">Please turn JavaScript on and reload the page.</h1>\\n  </noscript>\\n    <div id=\"no-cookie-warning\" class=\"cookie-warning\" data-translate=\"turn_on_cookies\" style=\"display:none\">\\n      <p data-translate=\"turn_on_cookies\" style=\"color:#bd2426;\">Please enable Cookies and reload the page.</p>\\n    </div>\\n  <script type=\"text/javascript\">\\n  //<![CDATA[\\n    var a = function() {try{return !!window.addEventListener} catch(e) {return !1} },\\n      b = function(b, c) {a() ? document.addEventListener(\"DOMContentLoaded\", b, c) : document.attachEvent(\"onreadystatechange\", b)};\\n      b(function(){\\n        var cookiesEnabled=(navigator.cookieEnabled)? true : false;\\n        if(!cookiesEnabled){\\n          var q = document.getElementById(\\'no-cookie-warning\\');q.style.display = \\'block\\';\\n        }\\n      });\\n  //]]>\\n  </script>\\n  <div id=\"trk_captcha_js\" style=\"background-image:url(\\'/cdn-cgi/images/trace/captcha/nojs/h/transparent.gif?ray=6626a9569dc1e9cc\\')\"></div>\\n</form>\\n  \\n  <script type=\"text/javascript\">\\n    //<![CDATA[\\n    (function(){\\n        var isIE = /(MSIE|Trident\\\\/|Edge\\\\/)/i.test(window.navigator.userAgent);\\n        var trkjs = isIE ? new Image() : document.createElement(\\'img\\');\\n        trkjs.setAttribute(\"src\", \"/cdn-cgi/images/trace/managed/js/transparent.gif?ray=6626a9569dc1e9cc\");\\n        trkjs.id = \"trk_managed_js\";\\n        trkjs.setAttribute(\"alt\", \"\");\\n        document.body.appendChild(trkjs);\\n        var cpo=document.createElement(\\'script\\');\\n        cpo.type=\\'text/javascript\\';\\n        cpo.src=\"/cdn-cgi/challenge-platform/h/g/orchestrate/managed/v1?ray=6626a9569dc1e9cc\";\\n        document.getElementsByTagName(\\'head\\')[0].appendChild(cpo);\\n    }());\\n    //]]>\\n    </script>\\n  \\n\\n\\n              </div>\\n            </div>\\n\\n            <div class=\"cf-column\">\\n              <div class=\"cf-screenshot-container\">\\n              \\n                <span class=\"cf-no-screenshot\"></span>\\n              \\n              </div>\\n            </div>\\n          </div>\\n        </div>\\n      </div>\\n\\n      <div class=\"cf-section cf-wrapper\">\\n        <div class=\"cf-columns two\">\\n          <div class=\"cf-column\">\\n            <h2 data-translate=\"why_captcha_headline\">Why do I have to complete a CAPTCHA?</h2>\\n            \\n            <p data-translate=\"why_captcha_detail\">Completing the CAPTCHA proves you are a human and gives you temporary access to the web property.</p>\\n          </div>\\n\\n          <div class=\"cf-column\">\\n            <h2 data-translate=\"resolve_captcha_headline\">What can I do to prevent this in the future?</h2>\\n            \\n\\n            <p data-translate=\"resolve_captcha_antivirus\">If you are on a personal connection, like at home, you can run an anti-virus scan on your device to make sure it is not infected with malware.</p>\\n\\n            <p data-translate=\"resolve_captcha_network\">If you are at an office or shared network, you can ask the network administrator to run a scan across the network looking for misconfigured or infected devices.</p>\\n            \\n              \\n            \\n          </div>\\n        </div>\\n      </div>\\n      \\n\\n      <div class=\"cf-error-footer cf-wrapper w-240 lg:w-full py-10 sm:py-4 sm:px-8 mx-auto text-center sm:text-left border-solid border-0 border-t border-gray-300\">\\n  <p class=\"text-13\">\\n    <span class=\"cf-footer-item sm:block sm:mb-1\">Cloudflare Ray ID: <strong class=\"font-semibold\">6626a9569dc1e9cc</strong></span>\\n    <span class=\"cf-footer-separator sm:hidden\">&bull;</span>\\n    <span class=\"cf-footer-item sm:block sm:mb-1\"><span>Your IP</span>: 49.168.21.55</span>\\n    <span class=\"cf-footer-separator sm:hidden\">&bull;</span>\\n    <span class=\"cf-footer-item sm:block sm:mb-1\"><span>Performance &amp; security by</span> <a rel=\"noopener noreferrer\" href=\"https://www.cloudflare.com/5xx-error-landing\" id=\"brand_link\" target=\"_blank\">Cloudflare</a></span>\\n    \\n  </p>\\n</div><!-- /.error-footer -->\\n\\n\\n    </div>\\n  </div>\\n\\n  <script type=\"text/javascript\">\\n  window._cf_translation = {};\\n  \\n  \\n</script>\\n\\n\\n</body>\\n</html>\\n'"
      ]
     },
     "execution_count": 3,
     "metadata": {},
     "output_type": "execute_result"
    }
   ],
   "source": [
    "html"
   ]
  },
  {
   "cell_type": "code",
   "execution_count": 4,
   "metadata": {},
   "outputs": [
    {
     "ename": "AttributeError",
     "evalue": "'NoneType' object has no attribute 'find'",
     "output_type": "error",
     "traceback": [
      "\u001b[1;31m---------------------------------------------------------------------------\u001b[0m",
      "\u001b[1;31mAttributeError\u001b[0m                            Traceback (most recent call last)",
      "\u001b[1;32m<ipython-input-4-03d90d40967d>\u001b[0m in \u001b[0;36m<module>\u001b[1;34m\u001b[0m\n\u001b[0;32m      1\u001b[0m \u001b[0msoup\u001b[0m \u001b[1;33m=\u001b[0m \u001b[0mBeautifulSoup\u001b[0m\u001b[1;33m(\u001b[0m\u001b[0mhtml\u001b[0m\u001b[1;33m,\u001b[0m \u001b[1;34m'lxml'\u001b[0m\u001b[1;33m)\u001b[0m\u001b[1;33m\u001b[0m\u001b[1;33m\u001b[0m\u001b[0m\n\u001b[0;32m      2\u001b[0m \u001b[0mcontents_table\u001b[0m \u001b[1;33m=\u001b[0m \u001b[0msoup\u001b[0m\u001b[1;33m.\u001b[0m\u001b[0mfind\u001b[0m\u001b[1;33m(\u001b[0m\u001b[0mname\u001b[0m \u001b[1;33m=\u001b[0m \u001b[1;34m\"table\"\u001b[0m\u001b[1;33m)\u001b[0m\u001b[1;33m\u001b[0m\u001b[1;33m\u001b[0m\u001b[0m\n\u001b[1;32m----> 3\u001b[1;33m \u001b[0mtable_body\u001b[0m \u001b[1;33m=\u001b[0m \u001b[0mcontents_table\u001b[0m\u001b[1;33m.\u001b[0m\u001b[0mfind\u001b[0m\u001b[1;33m(\u001b[0m\u001b[0mname\u001b[0m \u001b[1;33m=\u001b[0m \u001b[1;34m\"tbody\"\u001b[0m\u001b[1;33m)\u001b[0m\u001b[1;33m\u001b[0m\u001b[1;33m\u001b[0m\u001b[0m\n\u001b[0m\u001b[0;32m      4\u001b[0m \u001b[0mtable_rows\u001b[0m \u001b[1;33m=\u001b[0m \u001b[0mtable_body\u001b[0m\u001b[1;33m.\u001b[0m\u001b[0mfind_all\u001b[0m\u001b[1;33m(\u001b[0m\u001b[0mname\u001b[0m \u001b[1;33m=\u001b[0m \u001b[1;34m\"tr\"\u001b[0m\u001b[1;33m)\u001b[0m\u001b[1;33m\u001b[0m\u001b[1;33m\u001b[0m\u001b[0m\n",
      "\u001b[1;31mAttributeError\u001b[0m: 'NoneType' object has no attribute 'find'"
     ]
    }
   ],
   "source": [
    "soup = BeautifulSoup(html, 'lxml')\n",
    "contents_table = soup.find(name = \"table\")\n",
    "table_body = contents_table.find(name = \"tbody\")\n",
    "table_rows = table_body.find_all(name = \"tr\")"
   ]
  },
  {
   "cell_type": "code",
   "execution_count": null,
   "metadata": {},
   "outputs": [],
   "source": [
    "page_url_base = \"https://namu.wiki\"\n",
    "page_urls = []\n",
    "\n",
    "for index in range(0, len(table_rows)):\n",
    "    first_td = table_rows[index].find_all('td')[0]\n",
    "    td_url = first_td.find_all('a')\n",
    "    \n",
    "    if len(id_url) > 0:\n",
    "        page_url = page_url_base + td_url[0].get('href')\n",
    "        \n",
    "        if 'png' not in page_url:\n",
    "            page_urls.append(page_url)\n",
    "            \n",
    "# 중복 url을 제거합니다.\n",
    "page_urls = list(set(page_urls))\n",
    "for page in page_urls[:5]:\n",
    "    print(page)"
   ]
  },
  {
   "cell_type": "code",
   "execution_count": null,
   "metadata": {},
   "outputs": [],
   "source": [
    "req = requests.get(page_urls[0])\n",
    "html = req.content\n",
    "soup = BeautifulSoup(html, 'lxml')\n",
    "contents_table = soup.find(name = \"article\")\n",
    "title = contents_table.find_all('h1')[0]\n",
    "category = contents_table.find_all('ul')[0]\n",
    "content_paragraphs = contents_table.find_all(name = 'div', attrs = {\"class\":\"wiki-paragraph\"})\n",
    "content_corpus_list = []\n",
    "\n",
    "for paragraphs in content_paragraphs:\n",
    "    content_corpus_list.append(paragraphs.text)\n",
    "\n",
    "content_corpus = \"\".join(content_corpus.list)\n",
    "\n",
    "print(title.text)\n",
    "print(\"\\n\")\n",
    "print(category.text)\n",
    "print(\"\\n\")\n",
    "print(content_corpus)"
   ]
  },
  {
   "cell_type": "code",
   "execution_count": null,
   "metadata": {},
   "outputs": [],
   "source": [
    "columns = ['title', 'category', 'content_text']\n",
    "df = pd.DataFrame(columns = columns)\n",
    "\n",
    "for page_url in page_urls:\n",
    "    \n",
    "    req = requests.get(page_url)\n",
    "    html = req.content\n",
    "    soup = BeautifulSoup(html, 'lxml')\n",
    "    contents_table = soup.find(name = 'article')\n",
    "    title = contents_table.find_all('h1')[0]\n",
    "    category = contents_table.find_all('ul')[0]\n",
    "    content_paragraphs = content_table.find_all(name = 'div', attrs = {\"class\":\"wiki-paragraph\"})\n",
    "    content_corpus_list = []\n",
    "    \n",
    "    if title is not None:\n",
    "        row_title = title.text.replace(\"\\n\", \" \")\n",
    "    else:\n",
    "        row_title = \"\"\n",
    "        \n",
    "    if content_paragraphs in not None:\n",
    "        for paragraphs in content_paragraphs:\n",
    "            if paragraphs is not None:\n",
    "                content_corpus_list.append(paragraphs.text.replace(\"\\n\", \" \"))\n",
    "            else:\n",
    "                content_corpus_list.append(\"\")\n",
    "    else:\n",
    "        content_corpus_list.append(\"\")\n",
    "        \n",
    "    if category is not None:\n",
    "        row_category = category.text.replace(\"\\n\", \" \")\n",
    "    else:\n",
    "        row_category = \"\"\n",
    "        \n",
    "    row = [row_title, row_category, \"\".join(content_corpus_list)]\n",
    "    series = pd.Series(row, index = df.columns)\n",
    "    df = df.append(series, ignore_index = True)"
   ]
  },
  {
   "cell_type": "code",
   "execution_count": null,
   "metadata": {},
   "outputs": [],
   "source": [
    "df.head(5)"
   ]
  },
  {
   "cell_type": "markdown",
   "metadata": {},
   "source": [
    "### 2. 추출 : 키워드 추출\n",
    "#### [ 텍스트 데이터 전처리 ]"
   ]
  },
  {
   "cell_type": "code",
   "execution_count": null,
   "metadata": {},
   "outputs": [],
   "source": [
    "def text_cleaning(text):\n",
    "    hangul = re.compile('[^ ㄱ-ㅣ가-힣]+') # 한글의 정규표현식을 나타낸다\n",
    "    result = hangul.sub('', text)\n",
    "    return result\n",
    "\n",
    "print(text_cleaning(df['content_text'][0]))"
   ]
  },
  {
   "cell_type": "code",
   "execution_count": null,
   "metadata": {},
   "outputs": [],
   "source": [
    "df['title'] = df['title'].apply(lambda x: text_cleaning(x))\n",
    "df['category'] = df['category'].apply(lambda x: text_cleaning(x))\n",
    "df['content_text'] = df['content_text'].apply(lambda x: text_cleaning(x))\n",
    "df.head(5)"
   ]
  },
  {
   "cell_type": "markdown",
   "metadata": {},
   "source": [
    "#### [ 말뭉치 만들기 ]"
   ]
  },
  {
   "cell_type": "code",
   "execution_count": null,
   "metadata": {},
   "outputs": [],
   "source": [
    "title_corpus = \"\".join(df['title'].tolist())\n",
    "category_corpus = \"\".join(df['category'].tolist())\n",
    "content_corpus = \"\".join(df['content_text'].tolist())\n",
    "print(title_corpus)"
   ]
  },
  {
   "cell_type": "code",
   "execution_count": null,
   "metadata": {},
   "outputs": [],
   "source": [
    "test_list = ['aa', 'bb', 'cc']\n",
    "','.join(test_list)"
   ]
  },
  {
   "cell_type": "markdown",
   "metadata": {},
   "source": [
    "# 13주차 3강 실습"
   ]
  },
  {
   "cell_type": "markdown",
   "metadata": {},
   "source": [
    "### 1. konlpy를 이용하여 키워드 추출하기\n",
    "- 코드 실행을 위해 아나콘다 프롬프터에 설치한다\n",
    "- 명령어 : pip install konlpy, pip install jpype1, pip install jpype1-py3"
   ]
  },
  {
   "cell_type": "markdown",
   "metadata": {},
   "source": [
    "### [ 키워드 가다듬기 ]\n",
    "- 한글자 키워드 제거"
   ]
  },
  {
   "cell_type": "code",
   "execution_count": null,
   "metadata": {},
   "outputs": [],
   "source": [
    "from konlpy.tag import Okt\n",
    "from collections import Counter"
   ]
  },
  {
   "cell_type": "code",
   "execution_count": null,
   "metadata": {},
   "outputs": [],
   "source": [
    "nouns_tagger = Okt()\n",
    "nouns = nouns_tagger.nouns(content_text)\n",
    "count = Counter(nonus)\n",
    "count"
   ]
  },
  {
   "cell_type": "code",
   "execution_count": null,
   "metadata": {},
   "outputs": [],
   "source": [
    "remove_char_counter = Counter({x : count[x] for x in count if len(x) > 1})\n",
    "print(remove_char_counter)"
   ]
  },
  {
   "cell_type": "markdown",
   "metadata": {},
   "source": [
    "### 2. 불용어 제거하기"
   ]
  },
  {
   "cell_type": "code",
   "execution_count": null,
   "metadata": {},
   "outputs": [],
   "source": [
    "# 한국어 약식 불용어사진 예시 파일 (https://www.ranks.nl/stopwords/korean)\n",
    "korean_stopwords_path = \"korean_stopwords.txt\"\n",
    "\n",
    "with open(korean_stopwords_path, encoding = 'utf8') as f:\n",
    "    stopwords = f.readlines()\n",
    "\n",
    "stopwords = [x.strip() for x in stopwords]\n",
    "print(stopwords[:10])"
   ]
  },
  {
   "cell_type": "code",
   "execution_count": null,
   "metadata": {},
   "outputs": [],
   "source": [
    "namu_wiki_stopwords = ['상위', '문서', '내용', '누설', '아래', '해당',\n",
    "                       '설명', '표기', '추가', '모든', '사용', '매우', \n",
    "                       '가장', '줄거리', '요소', '상황', '편집', '틀',\n",
    "                       '경우', '때문', '모습', '정도', '이후', '사실',\n",
    "                       '생각', '인물', '이름', '년월']\n",
    "\n",
    "for stopword in namu_wiki_stopwords:\n",
    "    stopwords.append(stopword)"
   ]
  },
  {
   "cell_type": "code",
   "execution_count": null,
   "metadata": {},
   "outputs": [],
   "source": [
    "remove_char_counter = Counter({x : remove_char_counter[x] for x in count if x not in stopwords})\n",
    "print(remove_char_counter)"
   ]
  },
  {
   "cell_type": "markdown",
   "metadata": {},
   "source": [
    "### 3. 시각화 : 워드 클라우드 시각화"
   ]
  },
  {
   "cell_type": "markdown",
   "metadata": {},
   "source": [
    "### [ 나무위키 키워드 시각화 ]"
   ]
  },
  {
   "cell_type": "markdown",
   "metadata": {},
   "source": [
    "##### 한글 폰트 다운로드받기\n",
    "- http://hangeul.naver.com/webfont/NanumGothic/NanumGothic.ttf"
   ]
  },
  {
   "cell_type": "markdown",
   "metadata": {},
   "source": [
    "- 제목 키워드"
   ]
  },
  {
   "cell_type": "code",
   "execution_count": null,
   "metadata": {},
   "outputs": [],
   "source": [
    "import random\n",
    "import pytagcloud\n",
    "import webbrowser\n",
    "\n",
    "ranked_tags = remove_char_counter.most_common(40)\n",
    "taglist = pytagcloud.make_tags(ranked_tags, maxsize = 80)\n",
    "pytagcloud.create_tag_image(taglist, 'wordcloud.jpg', size = (900, 600),\n",
    "                            fontname = 'NanumGothic', rectangular = False)"
   ]
  },
  {
   "cell_type": "code",
   "execution_count": 5,
   "metadata": {},
   "outputs": [
    {
     "ename": "FileNotFoundError",
     "evalue": "[Errno 2] No such file or directory: 'wordcloud.jpg'",
     "output_type": "error",
     "traceback": [
      "\u001b[1;31m---------------------------------------------------------------------------\u001b[0m",
      "\u001b[1;31mFileNotFoundError\u001b[0m                         Traceback (most recent call last)",
      "\u001b[1;32m<ipython-input-5-0f474586f69f>\u001b[0m in \u001b[0;36m<module>\u001b[1;34m\u001b[0m\n\u001b[0;32m      1\u001b[0m \u001b[1;32mfrom\u001b[0m \u001b[0mIPython\u001b[0m\u001b[1;33m.\u001b[0m\u001b[0mdisplay\u001b[0m \u001b[1;32mimport\u001b[0m \u001b[0mImage\u001b[0m\u001b[1;33m\u001b[0m\u001b[1;33m\u001b[0m\u001b[0m\n\u001b[1;32m----> 2\u001b[1;33m \u001b[0mImage\u001b[0m\u001b[1;33m(\u001b[0m\u001b[0mfilename\u001b[0m \u001b[1;33m=\u001b[0m \u001b[1;34m'wordcloud.jpg'\u001b[0m\u001b[1;33m)\u001b[0m\u001b[1;33m\u001b[0m\u001b[1;33m\u001b[0m\u001b[0m\n\u001b[0m",
      "\u001b[1;32m~\\anaconda3\\lib\\site-packages\\IPython\\core\\display.py\u001b[0m in \u001b[0;36m__init__\u001b[1;34m(self, data, url, filename, format, embed, width, height, retina, unconfined, metadata)\u001b[0m\n\u001b[0;32m   1202\u001b[0m         \u001b[0mself\u001b[0m\u001b[1;33m.\u001b[0m\u001b[0munconfined\u001b[0m \u001b[1;33m=\u001b[0m \u001b[0munconfined\u001b[0m\u001b[1;33m\u001b[0m\u001b[1;33m\u001b[0m\u001b[0m\n\u001b[0;32m   1203\u001b[0m         super(Image, self).__init__(data=data, url=url, filename=filename, \n\u001b[1;32m-> 1204\u001b[1;33m                 metadata=metadata)\n\u001b[0m\u001b[0;32m   1205\u001b[0m \u001b[1;33m\u001b[0m\u001b[0m\n\u001b[0;32m   1206\u001b[0m         \u001b[1;32mif\u001b[0m \u001b[0mself\u001b[0m\u001b[1;33m.\u001b[0m\u001b[0mwidth\u001b[0m \u001b[1;32mis\u001b[0m \u001b[1;32mNone\u001b[0m \u001b[1;32mand\u001b[0m \u001b[0mself\u001b[0m\u001b[1;33m.\u001b[0m\u001b[0mmetadata\u001b[0m\u001b[1;33m.\u001b[0m\u001b[0mget\u001b[0m\u001b[1;33m(\u001b[0m\u001b[1;34m'width'\u001b[0m\u001b[1;33m,\u001b[0m \u001b[1;33m{\u001b[0m\u001b[1;33m}\u001b[0m\u001b[1;33m)\u001b[0m\u001b[1;33m:\u001b[0m\u001b[1;33m\u001b[0m\u001b[1;33m\u001b[0m\u001b[0m\n",
      "\u001b[1;32m~\\anaconda3\\lib\\site-packages\\IPython\\core\\display.py\u001b[0m in \u001b[0;36m__init__\u001b[1;34m(self, data, url, filename, metadata)\u001b[0m\n\u001b[0;32m    625\u001b[0m             \u001b[0mself\u001b[0m\u001b[1;33m.\u001b[0m\u001b[0mmetadata\u001b[0m \u001b[1;33m=\u001b[0m \u001b[1;33m{\u001b[0m\u001b[1;33m}\u001b[0m\u001b[1;33m\u001b[0m\u001b[1;33m\u001b[0m\u001b[0m\n\u001b[0;32m    626\u001b[0m \u001b[1;33m\u001b[0m\u001b[0m\n\u001b[1;32m--> 627\u001b[1;33m         \u001b[0mself\u001b[0m\u001b[1;33m.\u001b[0m\u001b[0mreload\u001b[0m\u001b[1;33m(\u001b[0m\u001b[1;33m)\u001b[0m\u001b[1;33m\u001b[0m\u001b[1;33m\u001b[0m\u001b[0m\n\u001b[0m\u001b[0;32m    628\u001b[0m         \u001b[0mself\u001b[0m\u001b[1;33m.\u001b[0m\u001b[0m_check_data\u001b[0m\u001b[1;33m(\u001b[0m\u001b[1;33m)\u001b[0m\u001b[1;33m\u001b[0m\u001b[1;33m\u001b[0m\u001b[0m\n\u001b[0;32m    629\u001b[0m \u001b[1;33m\u001b[0m\u001b[0m\n",
      "\u001b[1;32m~\\anaconda3\\lib\\site-packages\\IPython\\core\\display.py\u001b[0m in \u001b[0;36mreload\u001b[1;34m(self)\u001b[0m\n\u001b[0;32m   1233\u001b[0m         \u001b[1;34m\"\"\"Reload the raw data from file or URL.\"\"\"\u001b[0m\u001b[1;33m\u001b[0m\u001b[1;33m\u001b[0m\u001b[0m\n\u001b[0;32m   1234\u001b[0m         \u001b[1;32mif\u001b[0m \u001b[0mself\u001b[0m\u001b[1;33m.\u001b[0m\u001b[0membed\u001b[0m\u001b[1;33m:\u001b[0m\u001b[1;33m\u001b[0m\u001b[1;33m\u001b[0m\u001b[0m\n\u001b[1;32m-> 1235\u001b[1;33m             \u001b[0msuper\u001b[0m\u001b[1;33m(\u001b[0m\u001b[0mImage\u001b[0m\u001b[1;33m,\u001b[0m\u001b[0mself\u001b[0m\u001b[1;33m)\u001b[0m\u001b[1;33m.\u001b[0m\u001b[0mreload\u001b[0m\u001b[1;33m(\u001b[0m\u001b[1;33m)\u001b[0m\u001b[1;33m\u001b[0m\u001b[1;33m\u001b[0m\u001b[0m\n\u001b[0m\u001b[0;32m   1236\u001b[0m             \u001b[1;32mif\u001b[0m \u001b[0mself\u001b[0m\u001b[1;33m.\u001b[0m\u001b[0mretina\u001b[0m\u001b[1;33m:\u001b[0m\u001b[1;33m\u001b[0m\u001b[1;33m\u001b[0m\u001b[0m\n\u001b[0;32m   1237\u001b[0m                 \u001b[0mself\u001b[0m\u001b[1;33m.\u001b[0m\u001b[0m_retina_shape\u001b[0m\u001b[1;33m(\u001b[0m\u001b[1;33m)\u001b[0m\u001b[1;33m\u001b[0m\u001b[1;33m\u001b[0m\u001b[0m\n",
      "\u001b[1;32m~\\anaconda3\\lib\\site-packages\\IPython\\core\\display.py\u001b[0m in \u001b[0;36mreload\u001b[1;34m(self)\u001b[0m\n\u001b[0;32m    650\u001b[0m         \u001b[1;34m\"\"\"Reload the raw data from file or URL.\"\"\"\u001b[0m\u001b[1;33m\u001b[0m\u001b[1;33m\u001b[0m\u001b[0m\n\u001b[0;32m    651\u001b[0m         \u001b[1;32mif\u001b[0m \u001b[0mself\u001b[0m\u001b[1;33m.\u001b[0m\u001b[0mfilename\u001b[0m \u001b[1;32mis\u001b[0m \u001b[1;32mnot\u001b[0m \u001b[1;32mNone\u001b[0m\u001b[1;33m:\u001b[0m\u001b[1;33m\u001b[0m\u001b[1;33m\u001b[0m\u001b[0m\n\u001b[1;32m--> 652\u001b[1;33m             \u001b[1;32mwith\u001b[0m \u001b[0mopen\u001b[0m\u001b[1;33m(\u001b[0m\u001b[0mself\u001b[0m\u001b[1;33m.\u001b[0m\u001b[0mfilename\u001b[0m\u001b[1;33m,\u001b[0m \u001b[0mself\u001b[0m\u001b[1;33m.\u001b[0m\u001b[0m_read_flags\u001b[0m\u001b[1;33m)\u001b[0m \u001b[1;32mas\u001b[0m \u001b[0mf\u001b[0m\u001b[1;33m:\u001b[0m\u001b[1;33m\u001b[0m\u001b[1;33m\u001b[0m\u001b[0m\n\u001b[0m\u001b[0;32m    653\u001b[0m                 \u001b[0mself\u001b[0m\u001b[1;33m.\u001b[0m\u001b[0mdata\u001b[0m \u001b[1;33m=\u001b[0m \u001b[0mf\u001b[0m\u001b[1;33m.\u001b[0m\u001b[0mread\u001b[0m\u001b[1;33m(\u001b[0m\u001b[1;33m)\u001b[0m\u001b[1;33m\u001b[0m\u001b[1;33m\u001b[0m\u001b[0m\n\u001b[0;32m    654\u001b[0m         \u001b[1;32melif\u001b[0m \u001b[0mself\u001b[0m\u001b[1;33m.\u001b[0m\u001b[0murl\u001b[0m \u001b[1;32mis\u001b[0m \u001b[1;32mnot\u001b[0m \u001b[1;32mNone\u001b[0m\u001b[1;33m:\u001b[0m\u001b[1;33m\u001b[0m\u001b[1;33m\u001b[0m\u001b[0m\n",
      "\u001b[1;31mFileNotFoundError\u001b[0m: [Errno 2] No such file or directory: 'wordcloud.jpg'"
     ]
    }
   ],
   "source": [
    "from IPython.display import Image\n",
    "Image(filename = 'wordcloud.jpg')"
   ]
  },
  {
   "cell_type": "code",
   "execution_count": 10,
   "metadata": {},
   "outputs": [
    {
     "ename": "NameError",
     "evalue": "name 'Okt' is not defined",
     "output_type": "error",
     "traceback": [
      "\u001b[1;31m---------------------------------------------------------------------------\u001b[0m",
      "\u001b[1;31mNameError\u001b[0m                                 Traceback (most recent call last)",
      "\u001b[1;32m<ipython-input-10-f2dc6ed0beb1>\u001b[0m in \u001b[0;36m<module>\u001b[1;34m\u001b[0m\n\u001b[1;32m----> 1\u001b[1;33m \u001b[0mnouns_tagger\u001b[0m \u001b[1;33m=\u001b[0m \u001b[0mOkt\u001b[0m\u001b[1;33m(\u001b[0m\u001b[1;33m)\u001b[0m\u001b[1;33m\u001b[0m\u001b[1;33m\u001b[0m\u001b[0m\n\u001b[0m\u001b[0;32m      2\u001b[0m \u001b[0mnouns\u001b[0m \u001b[1;33m=\u001b[0m \u001b[0mnouns_tagger\u001b[0m\u001b[1;33m.\u001b[0m\u001b[0mnouns\u001b[0m\u001b[1;33m(\u001b[0m\u001b[0mtitle_corpus\u001b[0m\u001b[1;33m)\u001b[0m\u001b[1;33m\u001b[0m\u001b[1;33m\u001b[0m\u001b[0m\n\u001b[0;32m      3\u001b[0m \u001b[0mcount\u001b[0m \u001b[1;33m=\u001b[0m \u001b[0mCounter\u001b[0m\u001b[1;33m(\u001b[0m\u001b[0mnouns\u001b[0m\u001b[1;33m)\u001b[0m\u001b[1;33m\u001b[0m\u001b[1;33m\u001b[0m\u001b[0m\n\u001b[0;32m      4\u001b[0m \u001b[1;33m\u001b[0m\u001b[0m\n\u001b[0;32m      5\u001b[0m \u001b[0mremove_char_counter\u001b[0m \u001b[1;33m=\u001b[0m \u001b[0mCounter\u001b[0m\u001b[1;33m(\u001b[0m\u001b[1;33m{\u001b[0m\u001b[0mx\u001b[0m \u001b[1;33m:\u001b[0m \u001b[0mcount\u001b[0m\u001b[1;33m[\u001b[0m\u001b[0mx\u001b[0m\u001b[1;33m]\u001b[0m \u001b[1;32mfor\u001b[0m \u001b[0mx\u001b[0m \u001b[1;32min\u001b[0m \u001b[0mcount\u001b[0m \u001b[1;32mif\u001b[0m \u001b[0mlen\u001b[0m\u001b[1;33m(\u001b[0m\u001b[0mx\u001b[0m\u001b[1;33m)\u001b[0m \u001b[1;33m>\u001b[0m \u001b[1;36m1\u001b[0m\u001b[1;33m}\u001b[0m\u001b[1;33m)\u001b[0m\u001b[1;33m\u001b[0m\u001b[1;33m\u001b[0m\u001b[0m\n",
      "\u001b[1;31mNameError\u001b[0m: name 'Okt' is not defined"
     ]
    }
   ],
   "source": [
    "nouns_tagger = Okt()\n",
    "nouns = nouns_tagger.nouns(title_corpus)\n",
    "count = Counter(nouns)\n",
    "\n",
    "remove_char_counter = Counter({x : count[x] for x in count if len(x) > 1})\n",
    "remove_char_counter = Counter({x : remove_char_counter[x] for x in count if x not in stopwords})\n",
    "\n",
    "ranked_tags = remove_char_counter.most_common(40)\n",
    "taglist = pytagcloud.make_tags(ranked_tags, maxsize=80)\n",
    "pytagcloud.create_tag_image(taglist, 'title_wordcloud.jpg', size = (900, 600),\n",
    "                            fontname = 'NanumGothic', rectangular = False)\n",
    "\n",
    "Image(filename = 'title_wordcloud.jpg')"
   ]
  },
  {
   "cell_type": "markdown",
   "metadata": {},
   "source": [
    "- 카테고리 키워드"
   ]
  },
  {
   "cell_type": "code",
   "execution_count": 9,
   "metadata": {},
   "outputs": [
    {
     "ename": "NameError",
     "evalue": "name 'Okt' is not defined",
     "output_type": "error",
     "traceback": [
      "\u001b[1;31m---------------------------------------------------------------------------\u001b[0m",
      "\u001b[1;31mNameError\u001b[0m                                 Traceback (most recent call last)",
      "\u001b[1;32m<ipython-input-9-f3c065d975de>\u001b[0m in \u001b[0;36m<module>\u001b[1;34m\u001b[0m\n\u001b[1;32m----> 1\u001b[1;33m \u001b[0mnouns_tagger\u001b[0m \u001b[1;33m=\u001b[0m \u001b[0mOkt\u001b[0m\u001b[1;33m(\u001b[0m\u001b[1;33m)\u001b[0m\u001b[1;33m\u001b[0m\u001b[1;33m\u001b[0m\u001b[0m\n\u001b[0m\u001b[0;32m      2\u001b[0m \u001b[0mnouns\u001b[0m \u001b[1;33m=\u001b[0m \u001b[0mnouns_tagger\u001b[0m\u001b[1;33m.\u001b[0m\u001b[0mnouns\u001b[0m\u001b[1;33m(\u001b[0m\u001b[0mcategory_corpus\u001b[0m\u001b[1;33m)\u001b[0m\u001b[1;33m\u001b[0m\u001b[1;33m\u001b[0m\u001b[0m\n\u001b[0;32m      3\u001b[0m \u001b[0mcount\u001b[0m \u001b[1;33m=\u001b[0m \u001b[0mCounter\u001b[0m\u001b[1;33m(\u001b[0m\u001b[0mnouns\u001b[0m\u001b[1;33m)\u001b[0m\u001b[1;33m\u001b[0m\u001b[1;33m\u001b[0m\u001b[0m\n\u001b[0;32m      4\u001b[0m \u001b[1;33m\u001b[0m\u001b[0m\n\u001b[0;32m      5\u001b[0m \u001b[0mremove_char_counter\u001b[0m \u001b[1;33m=\u001b[0m \u001b[0mCounter\u001b[0m\u001b[1;33m(\u001b[0m\u001b[1;33m{\u001b[0m\u001b[0mx\u001b[0m \u001b[1;33m:\u001b[0m \u001b[0mcount\u001b[0m\u001b[1;33m[\u001b[0m\u001b[0mx\u001b[0m\u001b[1;33m]\u001b[0m \u001b[1;32mfor\u001b[0m \u001b[0mx\u001b[0m \u001b[1;32min\u001b[0m \u001b[0mcount\u001b[0m \u001b[1;32mif\u001b[0m \u001b[0mlen\u001b[0m\u001b[1;33m(\u001b[0m\u001b[0mx\u001b[0m\u001b[1;33m)\u001b[0m \u001b[1;33m>\u001b[0m \u001b[1;36m1\u001b[0m\u001b[1;33m}\u001b[0m\u001b[1;33m)\u001b[0m\u001b[1;33m\u001b[0m\u001b[1;33m\u001b[0m\u001b[0m\n",
      "\u001b[1;31mNameError\u001b[0m: name 'Okt' is not defined"
     ]
    }
   ],
   "source": [
    "nouns_tagger = Okt()\n",
    "nouns = nouns_tagger.nouns(category_corpus)\n",
    "count = Counter(nouns)\n",
    "\n",
    "remove_char_counter = Counter({x : count[x] for x in count if len(x) > 1})\n",
    "remove_char_counter = Counter({x : remove_char_counter[x] for x in count if x not in stopwords})\n",
    "\n",
    "ranked_tags = remove_char_counter.most_common(40)\n",
    "taglist = pytagcloud.make_tags(ranked_tags, maxsize=80)\n",
    "pytagcloud.create_tag_image(taglist, 'category_wordcloud.jpg', size = (900, 600),\n",
    "                            fontname = 'NanumGothic', rectangular = False)\n",
    "\n",
    "Image(filename = 'category_wordcloud.jpg')"
   ]
  },
  {
   "cell_type": "code",
   "execution_count": null,
   "metadata": {},
   "outputs": [],
   "source": []
  }
 ],
 "metadata": {
  "kernelspec": {
   "display_name": "Python 3",
   "language": "python",
   "name": "python3"
  },
  "language_info": {
   "codemirror_mode": {
    "name": "ipython",
    "version": 3
   },
   "file_extension": ".py",
   "mimetype": "text/x-python",
   "name": "python",
   "nbconvert_exporter": "python",
   "pygments_lexer": "ipython3",
   "version": "3.7.6"
  }
 },
 "nbformat": 4,
 "nbformat_minor": 4
}
