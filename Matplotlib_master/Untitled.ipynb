{
 "cells": [
  {
   "cell_type": "markdown",
   "metadata": {},
   "source": [
    "### < JTBC의 뉴스 기사를 파싱하여 날짜별로 통계를 구하여 시각화하기 >"
   ]
  },
  {
   "cell_type": "code",
   "execution_count": 5,
   "metadata": {},
   "outputs": [
    {
     "name": "stdout",
     "output_type": "stream",
     "text": [
      "Requirement already satisfied: requests in c:\\anaconda\\lib\\site-packages (2.22.0)\n",
      "Requirement already satisfied: idna<2.9,>=2.5 in c:\\anaconda\\lib\\site-packages (from requests) (2.8)\n",
      "Requirement already satisfied: certifi>=2017.4.17 in c:\\anaconda\\lib\\site-packages (from requests) (2019.11.28)\n",
      "Requirement already satisfied: urllib3!=1.25.0,!=1.25.1,<1.26,>=1.21.1 in c:\\anaconda\\lib\\site-packages (from requests) (1.25.8)\n",
      "Requirement already satisfied: chardet<3.1.0,>=3.0.2 in c:\\anaconda\\lib\\site-packages (from requests) (3.0.4)\n",
      "Note: you may need to restart the kernel to use updated packages.\n"
     ]
    }
   ],
   "source": [
    "pip install requests"
   ]
  },
  {
   "cell_type": "code",
   "execution_count": 6,
   "metadata": {},
   "outputs": [
    {
     "name": "stdout",
     "output_type": "stream",
     "text": [
      "Requirement already satisfied: beautifulsoup4 in c:\\anaconda\\lib\\site-packages (4.8.2)\n",
      "Requirement already satisfied: soupsieve>=1.2 in c:\\anaconda\\lib\\site-packages (from beautifulsoup4) (1.9.5)\n",
      "Note: you may need to restart the kernel to use updated packages.\n"
     ]
    }
   ],
   "source": [
    "pip install beautifulsoup4"
   ]
  },
  {
   "cell_type": "code",
   "execution_count": 7,
   "metadata": {},
   "outputs": [],
   "source": [
    "# beautifulsoup4 모듈과 requests 모듈 설치하기"
   ]
  },
  {
   "cell_type": "markdown",
   "metadata": {},
   "source": [
    "#####################################################################################################"
   ]
  },
  {
   "cell_type": "code",
   "execution_count": 22,
   "metadata": {},
   "outputs": [],
   "source": [
    "import urllib.request\n",
    "\n",
    "from bs4 import BeautifulSoup\n",
    "\n",
    "import matplotlib.pyplot as plt\n",
    "\n",
    "# http://news.jtbc.joins.com/section/index.aspx?scode=70\n",
    "\n",
    "# 참고\n",
    "# find_all()는 List형태로 찾은 문자를 리턴한다.\n",
    "\n",
    "# 참고\n",
    "# get_text()는 모든 문자열을 하나의 문자열로 합쳐서 되돌려준다.\n",
    "\n",
    "# 참고\n",
    "# strip()는 파이썬의 문자열에서 공백을 제거한다.\n",
    "\n",
    "def main():\n",
    "    url = \"http://news.jtbc.joins.com/section/index.aspx?scode=70\"\n",
    "    sourcecode = urllib.request.urlopen(url).read()\n",
    "    soup = BeautifulSoup(sourcecode, \"html.parser\")\n",
    "    times = []\n",
    "    \n",
    "    for i in range(0,20): # 20번 반복한다.\n",
    "       times.append(soup.find_all(\"span\", class_=\"date\")[i].get_text().strip())\n",
    "    \n",
    "    print(times)\n",
    "    # [ 2020-09-02 21:05', '2020-09-02 08:25', .... ]\n",
    "\n",
    "    edited = []\n",
    "    \n",
    "    # 2020-09-02 21:05 중에서.. 02일만 잘라내서 edited리스트에 추가한다.\n",
    "    for i in range(0, len(times)):\n",
    "        edited.append(times[i][8:10]) # 8번째 index부터 9번째 index까지 슬라이싱한다.\n",
    "    \n",
    "    print(edited) \n",
    "    # ['02', '02', '02', '02', '31', '28', '28', '26', '24', '24', '23', '20', '20', '18', '17', '15', '14', '14', '13', '13']\n",
    "    \n",
    "    count1 = 0 # 9/2일 작성된 기사 갯수를 저장할 변수\n",
    "    count2 = 0 # 8/31일 작성된 기사 갯수를 저장할 변수\n",
    "    count3 = 0 # 8/28일 작성된 기사 갯수를 저장할 변수\n",
    "    count4 = 0 # 8/24일 작성된 기사 갯수를 저장할 변수\n",
    "    \n",
    "    for i in range(0, len(edited)):\n",
    "        if edited[i] == \"02\": # 9/2일에 작성된 기사라면\n",
    "            count1 = count1 + 1\n",
    "        elif edited[i] == \"31\":\n",
    "            count2 = count2 + 1\n",
    "        elif edited[i] == \"28\":\n",
    "            count3 = count3 + 1\n",
    "        elif edited[i] == \"24\":\n",
    "            count4 = count4 + 1\n",
    "        \n",
    "    # 각 범주가 데이터에서 차지하는 비율(일별 기사 갯수)\n",
    "    days = [count1, count2, count3, count4]\n",
    "    #        02일,   31일,   28일,   24일\n",
    "    \n",
    "    # 범주데이터를 준비한다.\n",
    "    activities = ['02', '31', '28', '24']\n",
    "    \n",
    "    # 차트 색상값을 리스트에 저장하여 준비한다\n",
    "    colors = ['pink', 'skyblue', 'green', 'yellow']\n",
    "    \n",
    "    # 파이차트 그리기\n",
    "    plt.pie(days, \n",
    "            labels = activities,\n",
    "            colors = colors, \n",
    "            startangle = 90, \n",
    "            autopct = '%.2f%%')\n",
    "    \n",
    "    plt.show()"
   ]
  },
  {
   "cell_type": "code",
   "execution_count": 23,
   "metadata": {},
   "outputs": [
    {
     "name": "stdout",
     "output_type": "stream",
     "text": [
      "['2020-09-02 21:05', '2020-09-02 08:25', '2020-09-02 오후 9:05:00', '2020-09-02 오전 8:25:00', '2020-08-31 오후 9:49:00', '2020-08-28 오후 9:06:00', '2020-08-28 오전 9:47:00', '2020-08-26 오후 10:07:00', '2020-08-24 오후 9:36:00', '2020-08-24 오전 9:43:00', '2020-08-23 오후 8:12:00', '2020-08-20 오후 9:40:00', '2020-08-20 오전 9:25:00', '2020-08-18 오후 9:31:00', '2020-08-17 오후 9:38:00', '2020-08-15 오후 7:48:00', '2020-08-14 오후 9:17:00', '2020-08-14 오전 9:42:00', '2020-08-13 오후 9:43:00', '2020-08-13 오후 9:19:00']\n",
      "['02', '02', '02', '02', '31', '28', '28', '26', '24', '24', '23', '20', '20', '18', '17', '15', '14', '14', '13', '13']\n"
     ]
    },
    {
     "data": {
      "image/png": "[encoded data removed]",
      "text/plain": [
       "<Figure size 432x288 with 1 Axes>"
      ]
     },
     "metadata": {},
     "output_type": "display_data"
    }
   ],
   "source": [
    "main()"
   ]
  },
  {
   "cell_type": "code",
   "execution_count": null,
   "metadata": {},
   "outputs": [],
   "source": []
  }
 ],
 "metadata": {
  "kernelspec": {
   "display_name": "Python 3",
   "language": "python",
   "name": "python3"
  },
  "language_info": {
   "codemirror_mode": {
    "name": "ipython",
    "version": 3
   },
   "file_extension": ".py",
   "mimetype": "text/x-python",
   "name": "python",
   "nbconvert_exporter": "python",
   "pygments_lexer": "ipython3",
   "version": "3.7.6"
  }
 },
 "nbformat": 4,
 "nbformat_minor": 4
}
