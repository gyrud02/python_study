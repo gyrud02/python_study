{
 "cells": [
  {
   "cell_type": "markdown",
   "metadata": {},
   "source": [
    "### Numpy모듈의 기본 사용법"
   ]
  },
  {
   "cell_type": "markdown",
   "metadata": {},
   "source": [
    "- Numpy는  C언어로 구현된 파이썬 라이브러리로써, 고성능의 수치계산을 위해 제작 되었음.\n",
    "- Numpy는 벡터 및 행렬연산에 있어서 매우 편리한 기능을 제공 합니다.\n",
    "- 또한 이는 데이터분석을 할 때 사용되는 라이브러리인  pandas와 matplotlib의 기반으로 사용되기도 합니다."
   ]
  },
  {
   "cell_type": "code",
   "execution_count": 1,
   "metadata": {},
   "outputs": [],
   "source": [
    "#numpy는  np라는 별칭을 이용해서 호출하기 위해서 불러옴\n",
    "import numpy as np"
   ]
  },
  {
   "cell_type": "markdown",
   "metadata": {},
   "source": [
    "#### Numpy모듈로 배열 만들기"
   ]
  },
  {
   "cell_type": "markdown",
   "metadata": {},
   "source": [
    "- numpy는  np.array함수를 활용하여 배열을 생성함 -> ndarray라는 이름의 배열을 생성함\n",
    "- numpy의 ndarray배열에는 하나의 데이터 type만 배열에 넣을 수 있음"
   ]
  },
  {
   "cell_type": "code",
   "execution_count": 2,
   "metadata": {},
   "outputs": [
    {
     "data": {
      "text/plain": [
       "array([1., 4., 5., 8.])"
      ]
     },
     "execution_count": 2,
     "metadata": {},
     "output_type": "execute_result"
    }
   ],
   "source": [
    "# float타입을 지정해서 ndarray배열을 생성하면 들어가는 값들이 실수값들로 저장된다.\n",
    "test_arry = np.array([1, 4, 5, 8], float)\n",
    "test_arry\n",
    "#출력결과를 보면  1.    4.   5.   8.  실수값들이 배열에 저장되어 출력되는 것을 알수 있다\n",
    "#참고  :  여기서 1.  -> 1.0 을 말함"
   ]
  },
  {
   "cell_type": "code",
   "execution_count": 3,
   "metadata": {},
   "outputs": [
    {
     "data": {
      "text/plain": [
       "numpy.float64"
      ]
     },
     "execution_count": 3,
     "metadata": {},
     "output_type": "execute_result"
    }
   ],
   "source": [
    "# 3인덱스 위치에 저장된 데이터의 type을 출력하면  float64 즉! 실수값 이라는 것을 알수있다\n",
    "# 출력된  float64의  64는 64비트를 말함 -> \n",
    "# 8이라는 데이터가 배열 한칸 8Byte(32bit)크기에 만들어져 있다라는 뜻임\n",
    "type(test_arry[3])"
   ]
  },
  {
   "cell_type": "code",
   "execution_count": 4,
   "metadata": {},
   "outputs": [
    {
     "data": {
      "text/plain": [
       "array([1., 4., 5., 8.])"
      ]
     },
     "execution_count": 4,
     "metadata": {},
     "output_type": "execute_result"
    }
   ],
   "source": [
    "# String type의 데이터를 입력해도  \"8\" -> 8.0으로 변환되어  ndarry배열에 저장됨\n",
    "test_array1 = np.array([1, 4, 5, \"8\"], float)\n",
    "test_array1"
   ]
  },
  {
   "cell_type": "code",
   "execution_count": 5,
   "metadata": {},
   "outputs": [
    {
     "data": {
      "text/plain": [
       "numpy.float64"
      ]
     },
     "execution_count": 5,
     "metadata": {},
     "output_type": "execute_result"
    }
   ],
   "source": [
    "type(test_array1[3])# String -> Float Type으로 자동 형변환되어 저장된값이 8.0의 타입 확인"
   ]
  },
  {
   "cell_type": "code",
   "execution_count": 6,
   "metadata": {},
   "outputs": [
    {
     "data": {
      "text/plain": [
       "dtype('float64')"
      ]
     },
     "execution_count": 6,
     "metadata": {},
     "output_type": "execute_result"
    }
   ],
   "source": [
    "#dtype함수 : ndarray배열에 저장된 전체 데이터들의 type을 반환함\n",
    "test_array1.dtype"
   ]
  },
  {
   "cell_type": "code",
   "execution_count": 7,
   "metadata": {},
   "outputs": [
    {
     "data": {
      "text/plain": [
       "(4,)"
      ]
     },
     "execution_count": 7,
     "metadata": {},
     "output_type": "execute_result"
    }
   ],
   "source": [
    "#shape()함수:\n",
    "#numpy에서는 해당 array의 크기를 알수 있다.\n",
    "#shape을 확인함으로써 몇개의 데이터가 있는지, 몇 차원으로 존재하는지 등을 확인할수 있다\n",
    "#test_array1.shape의 결과는 (4, )으로써, 1차원의 데이터이며\n",
    "#총 4라는 크기를 갖고 있음을 알수 있다.\n",
    "test_array1.shape"
   ]
  },
  {
   "cell_type": "code",
   "execution_count": 8,
   "metadata": {},
   "outputs": [
    {
     "data": {
      "text/plain": [
       "array([[ 1,  2,  3],\n",
       "       [ 4,  5,  6],\n",
       "       [ 7,  8,  9],\n",
       "       [10, 11, 12]])"
      ]
     },
     "execution_count": 8,
     "metadata": {},
     "output_type": "execute_result"
    }
   ],
   "source": [
    "arr4 = np.array([\n",
    "                  [1,2,3],\n",
    "                  [4,5,6],\n",
    "                  [7,8,9],\n",
    "                  [10,11,12]\n",
    "                ])\n",
    "arr4"
   ]
  },
  {
   "cell_type": "code",
   "execution_count": 9,
   "metadata": {},
   "outputs": [
    {
     "data": {
      "text/plain": [
       "(4, 3)"
      ]
     },
     "execution_count": 9,
     "metadata": {},
     "output_type": "execute_result"
    }
   ],
   "source": [
    "#shape()함수를 이용하여 출력결과는 (4,3)으로써 2차원의 데이터이며\n",
    "# 4 * 3 크기를 갖고 있는  ndarray배열이다.\n",
    "arr4.shape"
   ]
  },
  {
   "cell_type": "markdown",
   "metadata": {},
   "source": [
    "#### np.zeros(),   np.ones(),   np.arange() 함수\n",
    "##### numpy에서 array를 정의 할때 사용되는 함수들이다.\n",
    "##### 아래 실습을 통해 각각 어떻게 다른지 살펴 본다."
   ]
  },
  {
   "cell_type": "code",
   "execution_count": 10,
   "metadata": {},
   "outputs": [
    {
     "data": {
      "text/plain": [
       "array([0., 0., 0., 0., 0., 0., 0., 0., 0., 0.])"
      ]
     },
     "execution_count": 10,
     "metadata": {},
     "output_type": "execute_result"
    }
   ],
   "source": [
    "# np.zeros()함수는 인자로 받는 크기만큼 , 모든 요소가 0인 array를 만든다.\n",
    "np.zeros(10)"
   ]
  },
  {
   "cell_type": "code",
   "execution_count": 11,
   "metadata": {},
   "outputs": [
    {
     "data": {
      "text/plain": [
       "array([[0., 0., 0., 0., 0.],\n",
       "       [0., 0., 0., 0., 0.],\n",
       "       [0., 0., 0., 0., 0.]])"
      ]
     },
     "execution_count": 11,
     "metadata": {},
     "output_type": "execute_result"
    }
   ],
   "source": [
    "np.zeros((3,5)) # 모든요소가 0인? 3행 5열의 2차원 array배열을 만든다."
   ]
  },
  {
   "cell_type": "code",
   "execution_count": 12,
   "metadata": {},
   "outputs": [],
   "source": [
    "#####################################################################"
   ]
  },
  {
   "cell_type": "code",
   "execution_count": 13,
   "metadata": {},
   "outputs": [
    {
     "data": {
      "text/plain": [
       "array([1., 1., 1., 1., 1., 1., 1., 1., 1.])"
      ]
     },
     "execution_count": 13,
     "metadata": {},
     "output_type": "execute_result"
    }
   ],
   "source": [
    "# np.onses()함수는 인자로 받는 크기만큼 모든요소가 1인 arry배열을 만든다.\n",
    "np.ones(9)"
   ]
  },
  {
   "cell_type": "code",
   "execution_count": 14,
   "metadata": {},
   "outputs": [
    {
     "data": {
      "text/plain": [
       "array([[1., 1., 1., 1., 1., 1., 1., 1., 1., 1.],\n",
       "       [1., 1., 1., 1., 1., 1., 1., 1., 1., 1.]])"
      ]
     },
     "execution_count": 14,
     "metadata": {},
     "output_type": "execute_result"
    }
   ],
   "source": [
    "# 모든요소가 1인? 2행 10열의 2차원 arry배열을 만든다\n",
    "np.ones((2,10))"
   ]
  },
  {
   "cell_type": "code",
   "execution_count": 15,
   "metadata": {},
   "outputs": [],
   "source": [
    "##########################################################################"
   ]
  },
  {
   "cell_type": "code",
   "execution_count": 16,
   "metadata": {},
   "outputs": [
    {
     "data": {
      "text/plain": [
       "array([0, 1, 2, 3, 4, 5, 6, 7, 8, 9])"
      ]
     },
     "execution_count": 16,
     "metadata": {},
     "output_type": "execute_result"
    }
   ],
   "source": [
    "# np.arange()함수는 인자로 받는 값보다 1작은 값만큼 1씩 증가하는 1차원 array를 만든다\n",
    "# 이때 하나의 인자만 입력하면  0 ~ 입력한 인자 값 만큼의 크기를 가진다.\n",
    "np.arange(10)"
   ]
  },
  {
   "cell_type": "code",
   "execution_count": 17,
   "metadata": {},
   "outputs": [
    {
     "data": {
      "text/plain": [
       "array([3, 4, 5, 6, 7, 8, 9])"
      ]
     },
     "execution_count": 17,
     "metadata": {},
     "output_type": "execute_result"
    }
   ],
   "source": [
    "# 3부터  9까지의 값을 같는 array배열을 만든다\n",
    "np.arange(3,10)"
   ]
  },
  {
   "cell_type": "markdown",
   "metadata": {},
   "source": [
    "### Array 연산\n",
    "#### 기본적으로 numpy에서 연산을 할때는 크기가 서로 동일한 array끼리 연산이 진행된다. 이때 깥은 위치에 있는 요소들 끼리 연산이 진행된다."
   ]
  },
  {
   "cell_type": "code",
   "execution_count": 18,
   "metadata": {},
   "outputs": [
    {
     "data": {
      "text/plain": [
       "array([[1, 2, 3],\n",
       "       [4, 5, 6]])"
      ]
     },
     "execution_count": 18,
     "metadata": {},
     "output_type": "execute_result"
    }
   ],
   "source": [
    "#2행 3열 2차원배열 생성\n",
    "arr1 = np.array([\n",
    "                     [1,2,3],\n",
    "                     [4,5,6]\n",
    "                ])\n",
    "arr1"
   ]
  },
  {
   "cell_type": "code",
   "execution_count": 19,
   "metadata": {},
   "outputs": [
    {
     "data": {
      "text/plain": [
       "(2, 3)"
      ]
     },
     "execution_count": 19,
     "metadata": {},
     "output_type": "execute_result"
    }
   ],
   "source": [
    "arr1.shape  # 2차원 array이며 총 열의 갯수가 3개라는 뜻이다."
   ]
  },
  {
   "cell_type": "code",
   "execution_count": 22,
   "metadata": {},
   "outputs": [
    {
     "data": {
      "text/plain": [
       "array([[10, 11, 12],\n",
       "       [13, 14, 15]])"
      ]
     },
     "execution_count": 22,
     "metadata": {},
     "output_type": "execute_result"
    }
   ],
   "source": [
    "#2행 3열의 2차원 배열 생성\n",
    "arr2 = np.array(\n",
    "                [\n",
    "                 [10,11,12],\n",
    "                 [13,14,15]\n",
    "                ]\n",
    "                )\n",
    "arr2"
   ]
  },
  {
   "cell_type": "markdown",
   "metadata": {},
   "source": [
    "### Array덧셈"
   ]
  },
  {
   "cell_type": "code",
   "execution_count": 23,
   "metadata": {},
   "outputs": [
    {
     "data": {
      "text/plain": [
       "array([[11, 13, 15],\n",
       "       [17, 19, 21]])"
      ]
     },
     "execution_count": 23,
     "metadata": {},
     "output_type": "execute_result"
    }
   ],
   "source": [
    "arr1 + arr2"
   ]
  },
  {
   "cell_type": "markdown",
   "metadata": {},
   "source": [
    "### Array뺄셈"
   ]
  },
  {
   "cell_type": "code",
   "execution_count": 24,
   "metadata": {},
   "outputs": [
    {
     "data": {
      "text/plain": [
       "array([[-9, -9, -9],\n",
       "       [-9, -9, -9]])"
      ]
     },
     "execution_count": 24,
     "metadata": {},
     "output_type": "execute_result"
    }
   ],
   "source": [
    "arr1 - arr2"
   ]
  },
  {
   "cell_type": "markdown",
   "metadata": {},
   "source": [
    "### Array 곱셈\n",
    "주의하자. 행령의 곱처럼 곱셈이 진행되는 것이 아니라 각요소별로 곱셈이 진행된다."
   ]
  },
  {
   "cell_type": "code",
   "execution_count": 25,
   "metadata": {},
   "outputs": [
    {
     "data": {
      "text/plain": [
       "array([[10, 22, 36],\n",
       "       [52, 70, 90]])"
      ]
     },
     "execution_count": 25,
     "metadata": {},
     "output_type": "execute_result"
    }
   ],
   "source": [
    "arr1 * arr2"
   ]
  },
  {
   "cell_type": "markdown",
   "metadata": {},
   "source": [
    "### Array 나눗셈"
   ]
  },
  {
   "cell_type": "code",
   "execution_count": 26,
   "metadata": {},
   "outputs": [
    {
     "data": {
      "text/plain": [
       "array([[0.1       , 0.18181818, 0.25      ],\n",
       "       [0.30769231, 0.35714286, 0.4       ]])"
      ]
     },
     "execution_count": 26,
     "metadata": {},
     "output_type": "execute_result"
    }
   ],
   "source": [
    "arr1 / arr2"
   ]
  },
  {
   "cell_type": "markdown",
   "metadata": {},
   "source": [
    "### Array의 브로드 캐스트\n",
    "위에서는 array가 같은 크기를 가져야 연산이 가능하다고 했지만,\n",
    "numpy에서는 브로드 캐스트라는 기능을 제공한다."
   ]
  },
  {
   "cell_type": "markdown",
   "metadata": {},
   "source": [
    "### 브로드 캐스트란? 서로 크기가 다른 array가 연산이 가능하게끔 하는 기능"
   ]
  },
  {
   "cell_type": "code",
   "execution_count": 29,
   "metadata": {},
   "outputs": [
    {
     "data": {
      "text/plain": [
       "array([[1, 2, 3],\n",
       "       [4, 5, 6]])"
      ]
     },
     "execution_count": 29,
     "metadata": {},
     "output_type": "execute_result"
    }
   ],
   "source": [
    "arr1 #위에 선언된 2차원 2행 3열 배열 출력"
   ]
  },
  {
   "cell_type": "code",
   "execution_count": 30,
   "metadata": {},
   "outputs": [
    {
     "data": {
      "text/plain": [
       "(2, 3)"
      ]
     },
     "execution_count": 30,
     "metadata": {},
     "output_type": "execute_result"
    }
   ],
   "source": [
    "arr1.shape"
   ]
  },
  {
   "cell_type": "code",
   "execution_count": 28,
   "metadata": {},
   "outputs": [
    {
     "data": {
      "text/plain": [
       "array([10, 11, 12])"
      ]
     },
     "execution_count": 28,
     "metadata": {},
     "output_type": "execute_result"
    }
   ],
   "source": [
    "#새롭게 1차원 배열 생성\n",
    "arr3 = np.array([10,11,12])\n",
    "arr3"
   ]
  },
  {
   "cell_type": "code",
   "execution_count": 31,
   "metadata": {},
   "outputs": [
    {
     "data": {
      "text/plain": [
       "(3,)"
      ]
     },
     "execution_count": 31,
     "metadata": {},
     "output_type": "execute_result"
    }
   ],
   "source": [
    "arr3.shape"
   ]
  },
  {
   "cell_type": "code",
   "execution_count": 32,
   "metadata": {},
   "outputs": [
    {
     "data": {
      "text/plain": [
       "array([[11, 13, 15],\n",
       "       [14, 16, 18]])"
      ]
     },
     "execution_count": 32,
     "metadata": {},
     "output_type": "execute_result"
    }
   ],
   "source": [
    "arr1 + arr3"
   ]
  },
  {
   "cell_type": "markdown",
   "metadata": {},
   "source": [
    "### 위와 같이 서로 크기가 다른 arr1과 arr3의 연산이 가능하다.\n",
    "### 연산결과를 살펴보면 arr3이 [10,11,12] 에서 \n",
    "### [[10.11,12],[10,11,12]]로 확장되어 계산되었음을 확인할수 있다."
   ]
  },
  {
   "cell_type": "markdown",
   "metadata": {},
   "source": [
    "## 동일한 방식으로 하나의 array에 스칼라 연산도 가능함"
   ]
  },
  {
   "cell_type": "code",
   "execution_count": 33,
   "metadata": {},
   "outputs": [
    {
     "data": {
      "text/plain": [
       "array([[1, 2, 3],\n",
       "       [4, 5, 6]])"
      ]
     },
     "execution_count": 33,
     "metadata": {},
     "output_type": "execute_result"
    }
   ],
   "source": [
    "arr1"
   ]
  },
  {
   "cell_type": "code",
   "execution_count": 34,
   "metadata": {},
   "outputs": [
    {
     "data": {
      "text/plain": [
       "array([[10, 20, 30],\n",
       "       [40, 50, 60]])"
      ]
     },
     "execution_count": 34,
     "metadata": {},
     "output_type": "execute_result"
    }
   ],
   "source": [
    "arr1 * 10"
   ]
  },
  {
   "cell_type": "code",
   "execution_count": 35,
   "metadata": {},
   "outputs": [
    {
     "data": {
      "text/plain": [
       "array([[ 1,  4,  9],\n",
       "       [16, 25, 36]], dtype=int32)"
      ]
     },
     "execution_count": 35,
     "metadata": {},
     "output_type": "execute_result"
    }
   ],
   "source": [
    "#요소에 대해 제곱처리\n",
    "arr1 ** 2"
   ]
  },
  {
   "cell_type": "markdown",
   "metadata": {},
   "source": [
    "### Array 인덱싱\n",
    "#### numpy에서 사용되는 인덱싱은 기본적으로 python 인덱싱과 동일하다\n",
    "#### 이때, python에서와 같이 인덱스 위치값이 1번째로 시작하는 것이 아니라, 0번째로 시작하는 것에 주의 한다."
   ]
  },
  {
   "cell_type": "code",
   "execution_count": 36,
   "metadata": {},
   "outputs": [
    {
     "data": {
      "text/plain": [
       "array([0, 1, 2, 3, 4, 5, 6, 7, 8, 9])"
      ]
     },
     "execution_count": 36,
     "metadata": {},
     "output_type": "execute_result"
    }
   ],
   "source": [
    "#숫자 0부터~ 9사이 1씩증가되는 요소값들로 구성된 1차원 array배열을 생성\n",
    "arr1 = np.arange(10)\n",
    "arr1"
   ]
  },
  {
   "cell_type": "code",
   "execution_count": 37,
   "metadata": {},
   "outputs": [
    {
     "data": {
      "text/plain": [
       "0"
      ]
     },
     "execution_count": 37,
     "metadata": {},
     "output_type": "execute_result"
    }
   ],
   "source": [
    "# 인덱스 0번째 요소 의 값을 얻자\n",
    "arr1[0]"
   ]
  },
  {
   "cell_type": "code",
   "execution_count": 38,
   "metadata": {},
   "outputs": [
    {
     "data": {
      "text/plain": [
       "3"
      ]
     },
     "execution_count": 38,
     "metadata": {},
     "output_type": "execute_result"
    }
   ],
   "source": [
    "# 인덱스 3번째 요소의 값을 얻자\n",
    "arr1[3]"
   ]
  },
  {
   "cell_type": "code",
   "execution_count": 39,
   "metadata": {},
   "outputs": [
    {
     "data": {
      "text/plain": [
       "array([3, 4, 5, 6, 7, 8])"
      ]
     },
     "execution_count": 39,
     "metadata": {},
     "output_type": "execute_result"
    }
   ],
   "source": [
    "# 인덱스 3번째 요소 부터 인덱스 8의 요소를 잘라내어  새로운 array생성\n",
    "arr1[3:9]"
   ]
  },
  {
   "cell_type": "code",
   "execution_count": 40,
   "metadata": {},
   "outputs": [
    {
     "data": {
      "text/plain": [
       "array([0, 1, 2, 3, 4, 5, 6, 7, 8, 9])"
      ]
     },
     "execution_count": 40,
     "metadata": {},
     "output_type": "execute_result"
    }
   ],
   "source": [
    "# 시작인덱스 번호와 끝인덱스 번호를 생략하면 모든 요소를 선택해서\n",
    "# array배열로 만들어 준다.\n",
    "arr1[ : ]"
   ]
  },
  {
   "cell_type": "markdown",
   "metadata": {},
   "source": [
    "### 물론 1차원이 아닌 그이상의 차원에서도 인덱싱이 가능하다."
   ]
  },
  {
   "cell_type": "code",
   "execution_count": 41,
   "metadata": {},
   "outputs": [
    {
     "data": {
      "text/plain": [
       "array([[ 1,  2,  3,  4],\n",
       "       [ 5,  6,  7,  8],\n",
       "       [ 9, 10, 11, 12]])"
      ]
     },
     "execution_count": 41,
     "metadata": {},
     "output_type": "execute_result"
    }
   ],
   "source": [
    "#3행 4열 2차원 배열 생성\n",
    "arr2 = np.array([\n",
    "                    [1,2,3,4],\n",
    "                    [5,6,7,8],\n",
    "                    [9,10,11,12]\n",
    "                ])\n",
    "arr2\n"
   ]
  },
  {
   "cell_type": "code",
   "execution_count": null,
   "metadata": {},
   "outputs": [],
   "source": [
    "# 모든 행의 데이터들중... 3번쨰 인덱스 위치의 열 요소 꺼내기(인덱싱)"
   ]
  },
  {
   "cell_type": "code",
   "execution_count": 46,
   "metadata": {},
   "outputs": [
    {
     "data": {
      "text/plain": [
       "array([ 4,  8, 12])"
      ]
     },
     "execution_count": 46,
     "metadata": {},
     "output_type": "execute_result"
    }
   ],
   "source": [
    "arr2[ : , 3]"
   ]
  },
  {
   "cell_type": "code",
   "execution_count": null,
   "metadata": {},
   "outputs": [],
   "source": [
    "# 2차원의 array에서 2인덱스 위치의 행의 모든 요소 꺼내기(인덱싱)"
   ]
  },
  {
   "cell_type": "code",
   "execution_count": 45,
   "metadata": {},
   "outputs": [
    {
     "data": {
      "text/plain": [
       "array([ 9, 10, 11, 12])"
      ]
     },
     "execution_count": 45,
     "metadata": {},
     "output_type": "execute_result"
    }
   ],
   "source": [
    "arr2[2 , : ]"
   ]
  },
  {
   "cell_type": "code",
   "execution_count": 43,
   "metadata": {},
   "outputs": [
    {
     "data": {
      "text/plain": [
       "1"
      ]
     },
     "execution_count": 43,
     "metadata": {},
     "output_type": "execute_result"
    }
   ],
   "source": [
    "#2차원의 array에서 인덱싱을 하기 위해서 2개의 인자를 입력해야 합니다.\n",
    "arr2[0,0] # 0인덱스 행의 0인덱스열 위치에 존재하는 1을 인덱싱 합니다."
   ]
  },
  {
   "cell_type": "code",
   "execution_count": 44,
   "metadata": {},
   "outputs": [
    {
     "data": {
      "text/plain": [
       "12"
      ]
     },
     "execution_count": 44,
     "metadata": {},
     "output_type": "execute_result"
    }
   ],
   "source": [
    "#2행의 3번째 요소 꺼내기\n",
    "arr2[2,3]"
   ]
  },
  {
   "cell_type": "code",
   "execution_count": 47,
   "metadata": {},
   "outputs": [],
   "source": [
    "###############################################################"
   ]
  },
  {
   "cell_type": "markdown",
   "metadata": {},
   "source": [
    "### Array boolean 인덱싱(마스크)\n",
    "위에서 이용한 다차원의 인덱싱을 응용하여 boolean 인데싱을 할수 있다.\n",
    "해당 기능은 주로 마스크라고 이야기 하는데.....\n",
    "boolean인덱싱을 통해 만들어낸 array를 통해 \n",
    "우리가 원하는 행 또는 열의 값을 뽑아낼수 있다.\n",
    "즉, 마스크처럼 우리가 가리고 싶은 부분은 가리고, 원하는 요소만 꺼낼수 있다."
   ]
  },
  {
   "cell_type": "code",
   "execution_count": 50,
   "metadata": {},
   "outputs": [
    {
     "data": {
      "text/plain": [
       "array(['Beomwoo', 'Beomwoo', 'Kim', 'Joan', 'Lee', 'Beomwoo', 'Park',\n",
       "       'Beomwoo'], dtype='<U7')"
      ]
     },
     "execution_count": 50,
     "metadata": {},
     "output_type": "execute_result"
    }
   ],
   "source": [
    "names = np.array(['Beomwoo',\n",
    "                  'Beomwoo', 'Kim', 'Joan', 'Lee','Beomwoo' ,'Park', 'Beomwoo'])\n",
    "names"
   ]
  },
  {
   "cell_type": "code",
   "execution_count": 51,
   "metadata": {},
   "outputs": [
    {
     "data": {
      "text/plain": [
       "(8,)"
      ]
     },
     "execution_count": 51,
     "metadata": {},
     "output_type": "execute_result"
    }
   ],
   "source": [
    "#8개의 요소를 가지는 1차원 array\n",
    "names.shape"
   ]
  },
  {
   "cell_type": "code",
   "execution_count": 61,
   "metadata": {},
   "outputs": [
    {
     "data": {
      "text/plain": [
       "array([[-2.47684107, -0.49477998, -0.53373937,  1.9205557 ],\n",
       "       [ 1.22842672, -1.17461627,  0.34660591,  0.13229732],\n",
       "       [ 0.00894254,  0.62731938,  0.47030174, -0.61093409],\n",
       "       [-0.745695  , -0.38935075, -0.36267025,  0.15588417],\n",
       "       [ 0.805314  , -1.11836899,  1.0770776 ,  0.55894783],\n",
       "       [ 0.04327009, -1.83191303, -0.385426  ,  0.55992461],\n",
       "       [-1.08785312, -0.07095483, -0.03317648,  1.83172835],\n",
       "       [-0.98557144,  0.21706282, -0.94352469,  2.18040582]])"
      ]
     },
     "execution_count": 61,
     "metadata": {},
     "output_type": "execute_result"
    }
   ],
   "source": [
    "#아래에서 사용되는 np.random.randn()함수는\n",
    "# 기대값이 0이고, 표준편차가 1인 가우시안 정규 분포를 따르는 난수를 발생시키는 함수이다\n",
    "# 8행 4열의 array배열 생성 \n",
    "data = np.random.randn(8,4)\n",
    "data"
   ]
  },
  {
   "cell_type": "code",
   "execution_count": 62,
   "metadata": {},
   "outputs": [
    {
     "data": {
      "text/plain": [
       "(8, 4)"
      ]
     },
     "execution_count": 62,
     "metadata": {},
     "output_type": "execute_result"
    }
   ],
   "source": [
    "data.shape # 8행 4열의 2차원 array출력"
   ]
  },
  {
   "cell_type": "markdown",
   "metadata": {},
   "source": [
    "#### 위와 같은 names 와  data라는 array가 있다.\n",
    "#### 이때, names의 각요소가  data의 각 행과 연결 된다고 가정 해보자.\n",
    "#### 그리고 이때, names가 Beomwoo인 행의 data만 보고 싶을때 다음과 같이 마스크를 사용한다."
   ]
  },
  {
   "cell_type": "code",
   "execution_count": 63,
   "metadata": {},
   "outputs": [
    {
     "data": {
      "text/plain": [
       "array(['Beomwoo', 'Beomwoo', 'Kim', 'Joan', 'Lee', 'Beomwoo', 'Park',\n",
       "       'Beomwoo'], dtype='<U7')"
      ]
     },
     "execution_count": 63,
     "metadata": {},
     "output_type": "execute_result"
    }
   ],
   "source": [
    "names # names변수에 저장된 1차원 array출력"
   ]
  },
  {
   "cell_type": "code",
   "execution_count": 64,
   "metadata": {},
   "outputs": [
    {
     "data": {
      "text/plain": [
       "array([ True,  True, False, False, False,  True, False,  True])"
      ]
     },
     "execution_count": 64,
     "metadata": {},
     "output_type": "execute_result"
    }
   ],
   "source": [
    "#요소가 Beomwoo인 항목에 대한 mask생성\n",
    "#풀이 : names배열의 요소들을 각각 검사 한후 결과를 boolean값으로 반환한 새로운 array생성\n",
    "names_Beomwoo_mask = (names == 'Beomwoo')\n",
    "names_Beomwoo_mask"
   ]
  },
  {
   "cell_type": "code",
   "execution_count": 56,
   "metadata": {},
   "outputs": [],
   "source": [
    "#####"
   ]
  },
  {
   "cell_type": "code",
   "execution_count": 68,
   "metadata": {},
   "outputs": [
    {
     "data": {
      "text/plain": [
       "array([[-2.47684107, -0.49477998, -0.53373937,  1.9205557 ],\n",
       "       [ 1.22842672, -1.17461627,  0.34660591,  0.13229732],\n",
       "       [ 0.00894254,  0.62731938,  0.47030174, -0.61093409],\n",
       "       [-0.745695  , -0.38935075, -0.36267025,  0.15588417],\n",
       "       [ 0.805314  , -1.11836899,  1.0770776 ,  0.55894783],\n",
       "       [ 0.04327009, -1.83191303, -0.385426  ,  0.55992461],\n",
       "       [-1.08785312, -0.07095483, -0.03317648,  1.83172835],\n",
       "       [-0.98557144,  0.21706282, -0.94352469,  2.18040582]])"
      ]
     },
     "execution_count": 68,
     "metadata": {},
     "output_type": "execute_result"
    }
   ],
   "source": [
    "data"
   ]
  },
  {
   "cell_type": "code",
   "execution_count": 69,
   "metadata": {},
   "outputs": [
    {
     "data": {
      "text/plain": [
       "array([[-2.47684107, -0.49477998, -0.53373937,  1.9205557 ],\n",
       "       [ 1.22842672, -1.17461627,  0.34660591,  0.13229732],\n",
       "       [ 0.04327009, -1.83191303, -0.385426  ,  0.55992461],\n",
       "       [-0.98557144,  0.21706282, -0.94352469,  2.18040582]])"
      ]
     },
     "execution_count": 69,
     "metadata": {},
     "output_type": "execute_result"
    }
   ],
   "source": [
    "#names_Beomwoo_mask변수에 저장된 array를 살펴보면\n",
    "# array([True, True, False, False, False, True, False, True])이므로\n",
    "#해석 : 요소가 Beommwoo인 것은 0번째 1번째  5번째  7번째 인덱스 위치에 있으므로 \n",
    "\n",
    "# 바로위에 출력된 data 2차원 array에서  0,  1,  5,  7 행의 모든 요소를 꺼내와야 한다\n",
    "# 이를 위해 요소가 Beommwoo인 것에 대한 boolean값을 가지는 mask를 만들었고\n",
    "# 마스크를 인덱싱 으용하여 data배열의  0,   1,  5,  7 행의 데이터를 꺼냈다.\n",
    "data[names_Beomwoo_mask, : ]"
   ]
  },
  {
   "cell_type": "code",
   "execution_count": 59,
   "metadata": {},
   "outputs": [],
   "source": [
    "########################################################################################"
   ]
  },
  {
   "cell_type": "code",
   "execution_count": 71,
   "metadata": {},
   "outputs": [
    {
     "data": {
      "text/plain": [
       "array(['Beomwoo', 'Beomwoo', 'Kim', 'Joan', 'Lee', 'Beomwoo', 'Park',\n",
       "       'Beomwoo'], dtype='<U7')"
      ]
     },
     "execution_count": 71,
     "metadata": {},
     "output_type": "execute_result"
    }
   ],
   "source": [
    "names"
   ]
  },
  {
   "cell_type": "code",
   "execution_count": 70,
   "metadata": {},
   "outputs": [
    {
     "data": {
      "text/plain": [
       "array([[-2.47684107, -0.49477998, -0.53373937,  1.9205557 ],\n",
       "       [ 1.22842672, -1.17461627,  0.34660591,  0.13229732],\n",
       "       [ 0.00894254,  0.62731938,  0.47030174, -0.61093409],\n",
       "       [-0.745695  , -0.38935075, -0.36267025,  0.15588417],\n",
       "       [ 0.805314  , -1.11836899,  1.0770776 ,  0.55894783],\n",
       "       [ 0.04327009, -1.83191303, -0.385426  ,  0.55992461],\n",
       "       [-1.08785312, -0.07095483, -0.03317648,  1.83172835],\n",
       "       [-0.98557144,  0.21706282, -0.94352469,  2.18040582]])"
      ]
     },
     "execution_count": 70,
     "metadata": {},
     "output_type": "execute_result"
    }
   ],
   "source": [
    "#다음예제를 위해 data변수에 저장되어 있는 2차원 배열 출력\n",
    "data"
   ]
  },
  {
   "cell_type": "code",
   "execution_count": 72,
   "metadata": {},
   "outputs": [
    {
     "data": {
      "text/plain": [
       "array([[ 0.00894254,  0.62731938,  0.47030174, -0.61093409]])"
      ]
     },
     "execution_count": 72,
     "metadata": {},
     "output_type": "execute_result"
    }
   ],
   "source": [
    "#요소가 kim인  행의 데이터만 꺼내기\n",
    "data[names == 'Kim', :  ] # 2번째 인덱스 위치의 행의 데이터만 꺼내기 "
   ]
  },
  {
   "cell_type": "code",
   "execution_count": 73,
   "metadata": {},
   "outputs": [
    {
     "data": {
      "text/plain": [
       "array([[ 0.00894254,  0.62731938,  0.47030174, -0.61093409],\n",
       "       [-1.08785312, -0.07095483, -0.03317648,  1.83172835]])"
      ]
     },
     "execution_count": 73,
     "metadata": {},
     "output_type": "execute_result"
    }
   ],
   "source": [
    "#논리 연산을 응용하여  \n",
    "#names배열의 요소가 Kim 또는 Park인  data배열의 행단위의 데이터 꺼내오기 \n",
    "data[(names == 'Kim') | (names == 'Park'), :  ]\n",
    "\n"
   ]
  },
  {
   "cell_type": "markdown",
   "metadata": {},
   "source": [
    "### data 배열 자체적으로도 마스크를 만들고, 이를 응용하여 인덱싱이 가능하다.\n",
    "\n",
    "### data 배열에서 0번째 열의 값이 0보다 작은 행을 구해 보자."
   ]
  },
  {
   "cell_type": "code",
   "execution_count": 74,
   "metadata": {},
   "outputs": [
    {
     "data": {
      "text/plain": [
       "array([[-2.47684107, -0.49477998, -0.53373937,  1.9205557 ],\n",
       "       [ 1.22842672, -1.17461627,  0.34660591,  0.13229732],\n",
       "       [ 0.00894254,  0.62731938,  0.47030174, -0.61093409],\n",
       "       [-0.745695  , -0.38935075, -0.36267025,  0.15588417],\n",
       "       [ 0.805314  , -1.11836899,  1.0770776 ,  0.55894783],\n",
       "       [ 0.04327009, -1.83191303, -0.385426  ,  0.55992461],\n",
       "       [-1.08785312, -0.07095483, -0.03317648,  1.83172835],\n",
       "       [-0.98557144,  0.21706282, -0.94352469,  2.18040582]])"
      ]
     },
     "execution_count": 74,
     "metadata": {},
     "output_type": "execute_result"
    }
   ],
   "source": [
    "data"
   ]
  },
  {
   "cell_type": "markdown",
   "metadata": {},
   "source": [
    "### data배열 자체적으로 마스크를 만든다"
   ]
  },
  {
   "cell_type": "code",
   "execution_count": 75,
   "metadata": {},
   "outputs": [
    {
     "data": {
      "text/plain": [
       "array([ True, False, False,  True, False, False,  True,  True])"
      ]
     },
     "execution_count": 75,
     "metadata": {},
     "output_type": "execute_result"
    }
   ],
   "source": [
    "#data 배열에서 0번째 인덱스 위치의 열이  숫자 0보다 작은 데이터의 boolean값은 다음과 같다\n",
    "data[ : , 0 ] < 0  "
   ]
  },
  {
   "cell_type": "code",
   "execution_count": 76,
   "metadata": {},
   "outputs": [
    {
     "data": {
      "text/plain": [
       "array([[-2.47684107, -0.49477998, -0.53373937,  1.9205557 ],\n",
       "       [-0.745695  , -0.38935075, -0.36267025,  0.15588417],\n",
       "       [-1.08785312, -0.07095483, -0.03317648,  1.83172835],\n",
       "       [-0.98557144,  0.21706282, -0.94352469,  2.18040582]])"
      ]
     },
     "execution_count": 76,
     "metadata": {},
     "output_type": "execute_result"
    }
   ],
   "source": [
    "# 위에서 만든 마스크를 이용하여  0번째 열의 값이 숫자 0보다 작은 모든 행을 구한다.\n",
    "data[ data[ : , 0 ] < 0   , : ]"
   ]
  },
  {
   "cell_type": "code",
   "execution_count": null,
   "metadata": {},
   "outputs": [],
   "source": [
    "# 다음 파일에서 계속!"
   ]
  }
 ],
 "metadata": {
  "kernelspec": {
   "display_name": "Python 3",
   "language": "python",
   "name": "python3"
  },
  "language_info": {
   "codemirror_mode": {
    "name": "ipython",
    "version": 3
   },
   "file_extension": ".py",
   "mimetype": "text/x-python",
   "name": "python",
   "nbconvert_exporter": "python",
   "pygments_lexer": "ipython3",
   "version": "3.7.6"
  }
 },
 "nbformat": 4,
 "nbformat_minor": 4
}
