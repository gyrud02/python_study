{
 "cells": [
  {
   "cell_type": "code",
   "execution_count": 4,
   "metadata": {},
   "outputs": [],
   "source": [
    "#numpy 모듈을 불러오는데  np라는 별칭을 이용해서 사용 하겠다 라고 선언\n",
    "import numpy as np"
   ]
  },
  {
   "cell_type": "markdown",
   "metadata": {},
   "source": [
    "### Array boolean 인덱싱(마스크) 응용"
   ]
  },
  {
   "cell_type": "code",
   "execution_count": 5,
   "metadata": {},
   "outputs": [
    {
     "data": {
      "text/plain": [
       "array([[-0.35480997, -0.70877729,  0.98686958, -1.89755195],\n",
       "       [ 0.68336927, -1.63269524,  0.07960459, -0.4312545 ],\n",
       "       [-0.75546217, -2.73820359, -1.80139695, -0.76673549],\n",
       "       [-0.74422312,  1.67065168,  0.3108219 ,  0.48808319],\n",
       "       [-0.66792056,  0.67378923, -1.80054352, -0.84150405],\n",
       "       [ 0.81556226,  1.06150357,  0.2306947 ,  0.69811854],\n",
       "       [-0.17678645, -1.04407902,  1.09432705, -0.60288772],\n",
       "       [-0.6290316 ,  0.76519699,  1.0755596 ,  0.18481225]])"
      ]
     },
     "execution_count": 5,
     "metadata": {},
     "output_type": "execute_result"
    }
   ],
   "source": [
    "data = np.random.randn(8,4)\n",
    "data"
   ]
  },
  {
   "cell_type": "markdown",
   "metadata": {},
   "source": [
    "### 0번째 열의 값이 0보다 작은 행의  2, 3번째 열값에 0을 대입해 보자."
   ]
  },
  {
   "cell_type": "code",
   "execution_count": 6,
   "metadata": {},
   "outputs": [
    {
     "data": {
      "text/plain": [
       "array([[-0.35480997, -0.70877729,  0.        ,  0.        ],\n",
       "       [ 0.68336927, -1.63269524,  0.07960459, -0.4312545 ],\n",
       "       [-0.75546217, -2.73820359,  0.        ,  0.        ],\n",
       "       [-0.74422312,  1.67065168,  0.        ,  0.        ],\n",
       "       [-0.66792056,  0.67378923,  0.        ,  0.        ],\n",
       "       [ 0.81556226,  1.06150357,  0.2306947 ,  0.69811854],\n",
       "       [-0.17678645, -1.04407902,  0.        ,  0.        ],\n",
       "       [-0.6290316 ,  0.76519699,  0.        ,  0.        ]])"
      ]
     },
     "execution_count": 6,
     "metadata": {},
     "output_type": "execute_result"
    }
   ],
   "source": [
    "data[ data[ : , 0]  < 0 ,  2:4 ]  =  0\n",
    "\n",
    "data"
   ]
  },
  {
   "cell_type": "markdown",
   "metadata": {},
   "source": [
    "#######################################################"
   ]
  },
  {
   "cell_type": "markdown",
   "metadata": {},
   "source": [
    "### numpy에서는 array배열에 적용되는 다양한 함수가 있다.\n",
    "#### 1) 하나의 array배열에 적용되는 함수"
   ]
  },
  {
   "cell_type": "code",
   "execution_count": 10,
   "metadata": {},
   "outputs": [
    {
     "data": {
      "text/plain": [
       "array([[-2.34501635,  0.38420494,  0.66511235],\n",
       "       [ 1.01496754, -0.50026028, -0.48611604],\n",
       "       [ 1.11119878,  1.36897144,  0.04942677],\n",
       "       [-0.22962213,  0.70688769,  1.55849574],\n",
       "       [-0.57138804,  0.17777933, -2.14992787]])"
      ]
     },
     "execution_count": 10,
     "metadata": {},
     "output_type": "execute_result"
    }
   ],
   "source": [
    "arr1 = np.random.randn(5,3)\n",
    "arr1"
   ]
  },
  {
   "cell_type": "code",
   "execution_count": 11,
   "metadata": {},
   "outputs": [
    {
     "data": {
      "text/plain": [
       "array([[2.34501635, 0.38420494, 0.66511235],\n",
       "       [1.01496754, 0.50026028, 0.48611604],\n",
       "       [1.11119878, 1.36897144, 0.04942677],\n",
       "       [0.22962213, 0.70688769, 1.55849574],\n",
       "       [0.57138804, 0.17777933, 2.14992787]])"
      ]
     },
     "execution_count": 11,
     "metadata": {},
     "output_type": "execute_result"
    }
   ],
   "source": [
    "# 각 성분의 절대값 계산하기\n",
    "np.abs(arr1)"
   ]
  },
  {
   "cell_type": "code",
   "execution_count": 14,
   "metadata": {},
   "outputs": [
    {
     "data": {
      "text/plain": [
       "array([[5.49910170e+00, 1.47613433e-01, 4.42374432e-01],\n",
       "       [1.03015911e+00, 2.50260349e-01, 2.36308809e-01],\n",
       "       [1.23476273e+00, 1.87408280e+00, 2.44300527e-03],\n",
       "       [5.27263210e-02, 4.99690211e-01, 2.42890896e+00],\n",
       "       [3.26484297e-01, 3.16054893e-02, 4.62218986e+00]])"
      ]
     },
     "execution_count": 14,
     "metadata": {},
     "output_type": "execute_result"
    }
   ],
   "source": [
    "# 각 성분의 제곱 계산하기\n",
    "# 예) 1.01770812 * 1.01770812\n",
    "np.square(arr1)"
   ]
  },
  {
   "cell_type": "code",
   "execution_count": 15,
   "metadata": {},
   "outputs": [
    {
     "data": {
      "text/plain": [
       "array([[-1.,  1.,  1.],\n",
       "       [ 1., -1., -1.],\n",
       "       [ 1.,  1.,  1.],\n",
       "       [-1.,  1.,  1.],\n",
       "       [-1.,  1., -1.]])"
      ]
     },
     "execution_count": 15,
     "metadata": {},
     "output_type": "execute_result"
    }
   ],
   "source": [
    "# 각 성분의 부호 계산하기 ( +인 경우 1, -인 경우 -1, 0인경우 0)\n",
    "np.sign(arr1)"
   ]
  },
  {
   "cell_type": "code",
   "execution_count": 16,
   "metadata": {},
   "outputs": [
    {
     "data": {
      "text/plain": [
       "array([[-2.34501635,  0.38420494,  0.66511235],\n",
       "       [ 1.01496754, -0.50026028, -0.48611604],\n",
       "       [ 1.11119878,  1.36897144,  0.04942677],\n",
       "       [-0.22962213,  0.70688769,  1.55849574],\n",
       "       [-0.57138804,  0.17777933, -2.14992787]])"
      ]
     },
     "execution_count": 16,
     "metadata": {},
     "output_type": "execute_result"
    }
   ],
   "source": [
    "arr1"
   ]
  },
  {
   "cell_type": "code",
   "execution_count": 17,
   "metadata": {},
   "outputs": [
    {
     "data": {
      "text/plain": [
       "array([[-2.,  1.,  1.],\n",
       "       [ 2., -0., -0.],\n",
       "       [ 2.,  2.,  1.],\n",
       "       [-0.,  1.,  2.],\n",
       "       [-0.,  1., -2.]])"
      ]
     },
     "execution_count": 17,
     "metadata": {},
     "output_type": "execute_result"
    }
   ],
   "source": [
    "# 각 성분의 소수 첫번째 자리에서 올림한 값 계산하기\n",
    "np.ceil(arr1)"
   ]
  },
  {
   "cell_type": "code",
   "execution_count": 18,
   "metadata": {},
   "outputs": [
    {
     "data": {
      "text/plain": [
       "array([[-3.,  0.,  0.],\n",
       "       [ 1., -1., -1.],\n",
       "       [ 1.,  1.,  0.],\n",
       "       [-1.,  0.,  1.],\n",
       "       [-1.,  0., -3.]])"
      ]
     },
     "execution_count": 18,
     "metadata": {},
     "output_type": "execute_result"
    }
   ],
   "source": [
    "# 각 성분의 소수 첫번째 자리에서 내림한 값을 계산하기\n",
    "np.floor(arr1)"
   ]
  },
  {
   "cell_type": "code",
   "execution_count": 19,
   "metadata": {},
   "outputs": [
    {
     "data": {
      "text/plain": [
       "array([[-2.34501635,  0.38420494,  0.66511235],\n",
       "       [ 1.01496754, -0.50026028, -0.48611604],\n",
       "       [ 1.11119878,  1.36897144,  0.04942677],\n",
       "       [-0.22962213,  0.70688769,  1.55849574],\n",
       "       [-0.57138804,  0.17777933, -2.14992787]])"
      ]
     },
     "execution_count": 19,
     "metadata": {},
     "output_type": "execute_result"
    }
   ],
   "source": [
    "arr1"
   ]
  },
  {
   "cell_type": "code",
   "execution_count": 20,
   "metadata": {},
   "outputs": [
    {
     "data": {
      "text/plain": [
       "array([[False, False, False],\n",
       "       [False, False, False],\n",
       "       [False, False, False],\n",
       "       [False, False, False],\n",
       "       [False, False, False]])"
      ]
     },
     "execution_count": 20,
     "metadata": {},
     "output_type": "execute_result"
    }
   ],
   "source": [
    "# 각 성분이 NaN인 경우 True를, 아닌 경우 False를 반환하기\n",
    "np.isnan(arr1)"
   ]
  },
  {
   "cell_type": "code",
   "execution_count": 21,
   "metadata": {},
   "outputs": [
    {
     "name": "stdout",
     "output_type": "stream",
     "text": [
      "[[-2.34501635  0.38420494  0.66511235]\n",
      " [ 1.01496754 -0.50026028 -0.48611604]\n",
      " [ 1.11119878  1.36897144  0.04942677]\n",
      " [-0.22962213  0.70688769  1.55849574]\n",
      " [-0.57138804  0.17777933 -2.14992787]]\n"
     ]
    }
   ],
   "source": [
    "# 다음 예제를 위해 arr1 배열을 출력\n",
    "print(arr1)"
   ]
  },
  {
   "cell_type": "code",
   "execution_count": 23,
   "metadata": {},
   "outputs": [
    {
     "data": {
      "text/plain": [
       "array([[-1.12588355,  0.45284211, -0.98717987],\n",
       "       [ 0.09803169, -0.44100019,  0.48857171],\n",
       "       [-0.60699682,  0.80540997, -0.83663316],\n",
       "       [ 0.72711745,  1.24943529,  1.44699674],\n",
       "       [ 0.47151461, -0.71472173,  1.02271082]])"
      ]
     },
     "execution_count": 23,
     "metadata": {},
     "output_type": "execute_result"
    }
   ],
   "source": [
    "# np.random.randn()는 기대값이 0이고 표준편차가 1인 가우시안 정규분포를 따르는\n",
    "# 난수를 발생시키는 함수\n",
    "arr2 = np.random.randn(5,3)\n",
    "arr2"
   ]
  },
  {
   "cell_type": "code",
   "execution_count": 24,
   "metadata": {},
   "outputs": [
    {
     "data": {
      "text/plain": [
       "array([[-3.47089990e+00,  8.37047050e-01, -3.22067524e-01],\n",
       "       [ 1.11299923e+00, -9.41260467e-01,  2.45566697e-03],\n",
       "       [ 5.04201961e-01,  2.17438141e+00, -7.87206391e-01],\n",
       "       [ 4.97495325e-01,  1.95632299e+00,  3.00549248e+00],\n",
       "       [-9.98734304e-02, -5.36942399e-01, -1.12721705e+00]])"
      ]
     },
     "execution_count": 24,
     "metadata": {},
     "output_type": "execute_result"
    }
   ],
   "source": [
    "# 두 개의 Array에 대해 동일한 위치의 성분끼리 연산값을 계산하기\n",
    "# (add, subtract, multiply, divide)\n",
    "np.add(arr1, arr2) # 연산 "
   ]
  },
  {
   "cell_type": "code",
   "execution_count": 25,
   "metadata": {},
   "outputs": [
    {
     "data": {
      "text/plain": [
       "array([[-2.34501635,  0.38420494,  0.66511235],\n",
       "       [ 1.01496754, -0.50026028, -0.48611604],\n",
       "       [ 1.11119878,  1.36897144,  0.04942677],\n",
       "       [-0.22962213,  0.70688769,  1.55849574],\n",
       "       [-0.57138804,  0.17777933, -2.14992787]])"
      ]
     },
     "execution_count": 25,
     "metadata": {},
     "output_type": "execute_result"
    }
   ],
   "source": [
    "# 두 개의 array에 대해 동일한 위치의 성분끼리 비교하여 최대값과 최소값을 구할 수 있다.\n",
    "arr1"
   ]
  },
  {
   "cell_type": "code",
   "execution_count": 26,
   "metadata": {},
   "outputs": [
    {
     "data": {
      "text/plain": [
       "array([[-1.12588355,  0.45284211, -0.98717987],\n",
       "       [ 0.09803169, -0.44100019,  0.48857171],\n",
       "       [-0.60699682,  0.80540997, -0.83663316],\n",
       "       [ 0.72711745,  1.24943529,  1.44699674],\n",
       "       [ 0.47151461, -0.71472173,  1.02271082]])"
      ]
     },
     "execution_count": 26,
     "metadata": {},
     "output_type": "execute_result"
    }
   ],
   "source": [
    "arr2"
   ]
  },
  {
   "cell_type": "code",
   "execution_count": 27,
   "metadata": {},
   "outputs": [
    {
     "data": {
      "text/plain": [
       "array([[-1.12588355,  0.45284211,  0.66511235],\n",
       "       [ 1.01496754, -0.44100019,  0.48857171],\n",
       "       [ 1.11119878,  1.36897144,  0.04942677],\n",
       "       [ 0.72711745,  1.24943529,  1.55849574],\n",
       "       [ 0.47151461,  0.17777933,  1.02271082]])"
      ]
     },
     "execution_count": 27,
     "metadata": {},
     "output_type": "execute_result"
    }
   ],
   "source": [
    "np.maximum(arr1,arr2)"
   ]
  },
  {
   "cell_type": "markdown",
   "metadata": {},
   "source": [
    "### 3. 통계함수\n",
    "#### - 통계함수를 통해 array의 합이나 평균 등을 구할 때, 추가로 axis라는 인자에 대한 값을 지정하여 열 또는 행의 합 또는 평균 등을 구할 수 있다.\n"
   ]
  },
  {
   "cell_type": "code",
   "execution_count": 29,
   "metadata": {},
   "outputs": [
    {
     "data": {
      "text/plain": [
       "array([[-0.07540454, -1.29714159, -1.0950889 ],\n",
       "       [-0.74944764, -0.55693584,  0.25849756],\n",
       "       [ 0.0908692 , -0.7131336 ,  0.94593699],\n",
       "       [ 0.47095415, -0.58868871, -1.59784649],\n",
       "       [-0.03970126, -0.4774349 ,  0.04167998]])"
      ]
     },
     "execution_count": 29,
     "metadata": {},
     "output_type": "execute_result"
    }
   ],
   "source": [
    "arr1 = np.random.randn(5,3)\n",
    "arr1"
   ]
  },
  {
   "cell_type": "code",
   "execution_count": 30,
   "metadata": {},
   "outputs": [
    {
     "data": {
      "text/plain": [
       "-5.382885563215269"
      ]
     },
     "execution_count": 30,
     "metadata": {},
     "output_type": "execute_result"
    }
   ],
   "source": [
    "# 전체 성분의 합을 계산\n",
    "np.sum(arr1)"
   ]
  },
  {
   "cell_type": "code",
   "execution_count": 31,
   "metadata": {},
   "outputs": [
    {
     "data": {
      "text/plain": [
       "array([-2.46763503, -1.04788592,  0.32367259, -1.71558104, -0.47545617])"
      ]
     },
     "execution_count": 31,
     "metadata": {},
     "output_type": "execute_result"
    }
   ],
   "source": [
    "# 열 간의 합을 계산\n",
    "# 예) 첫번째 인덱스 행의 열 데이터들을 모두 더한다.\n",
    "np.sum(arr1, axis = 1)"
   ]
  },
  {
   "cell_type": "code",
   "execution_count": 32,
   "metadata": {},
   "outputs": [
    {
     "data": {
      "text/plain": [
       "array([-0.30273009, -3.63333463, -1.44682085])"
      ]
     },
     "execution_count": 32,
     "metadata": {},
     "output_type": "execute_result"
    }
   ],
   "source": [
    "# 행 간의 합을 계산\n",
    "np.sum(arr1, axis = 0)"
   ]
  },
  {
   "cell_type": "code",
   "execution_count": 33,
   "metadata": {},
   "outputs": [
    {
     "data": {
      "text/plain": [
       "-0.3588590375476846"
      ]
     },
     "execution_count": 33,
     "metadata": {},
     "output_type": "execute_result"
    }
   ],
   "source": [
    "# 전체 성분의 평균을 계산\n",
    "np.mean(arr1)"
   ]
  },
  {
   "cell_type": "code",
   "execution_count": 34,
   "metadata": {},
   "outputs": [
    {
     "data": {
      "text/plain": [
       "array([-0.06054602, -0.72666693, -0.28936417])"
      ]
     },
     "execution_count": 34,
     "metadata": {},
     "output_type": "execute_result"
    }
   ],
   "source": [
    "# 행 간의 평균값을 계산\n",
    "np.mean(arr1, axis = 0)"
   ]
  },
  {
   "cell_type": "markdown",
   "metadata": {},
   "source": [
    "### 4. 기타 함수"
   ]
  },
  {
   "cell_type": "code",
   "execution_count": 35,
   "metadata": {},
   "outputs": [
    {
     "data": {
      "text/plain": [
       "array([[-0.07540454, -1.29714159, -1.0950889 ],\n",
       "       [-0.74944764, -0.55693584,  0.25849756],\n",
       "       [ 0.0908692 , -0.7131336 ,  0.94593699],\n",
       "       [ 0.47095415, -0.58868871, -1.59784649],\n",
       "       [-0.03970126, -0.4774349 ,  0.04167998]])"
      ]
     },
     "execution_count": 35,
     "metadata": {},
     "output_type": "execute_result"
    }
   ],
   "source": [
    "arr1"
   ]
  },
  {
   "cell_type": "code",
   "execution_count": 36,
   "metadata": {},
   "outputs": [
    {
     "data": {
      "text/plain": [
       "array([[-1.29714159, -1.0950889 , -0.07540454],\n",
       "       [-0.74944764, -0.55693584,  0.25849756],\n",
       "       [-0.7131336 ,  0.0908692 ,  0.94593699],\n",
       "       [-1.59784649, -0.58868871,  0.47095415],\n",
       "       [-0.4774349 , -0.03970126,  0.04167998]])"
      ]
     },
     "execution_count": 36,
     "metadata": {},
     "output_type": "execute_result"
    }
   ],
   "source": [
    "# 컬럼들의 요소값 방향에 대해 오름차순 정렬\n",
    "np.sort(arr1)"
   ]
  },
  {
   "cell_type": "code",
   "execution_count": 37,
   "metadata": {},
   "outputs": [
    {
     "data": {
      "text/plain": [
       "array([[-0.74944764, -1.29714159, -1.59784649],\n",
       "       [-0.07540454, -0.7131336 , -1.0950889 ],\n",
       "       [-0.03970126, -0.58868871,  0.04167998],\n",
       "       [ 0.0908692 , -0.55693584,  0.25849756],\n",
       "       [ 0.47095415, -0.4774349 ,  0.94593699]])"
      ]
     },
     "execution_count": 37,
     "metadata": {},
     "output_type": "execute_result"
    }
   ],
   "source": [
    "# 행(줄) 윗 방향으로 오름차순 정렬\n",
    "np.sort(arr1, axis = 0)"
   ]
  },
  {
   "cell_type": "code",
   "execution_count": null,
   "metadata": {},
   "outputs": [],
   "source": []
  }
 ],
 "metadata": {
  "kernelspec": {
   "display_name": "Python 3",
   "language": "python",
   "name": "python3"
  },
  "language_info": {
   "codemirror_mode": {
    "name": "ipython",
    "version": 3
   },
   "file_extension": ".py",
   "mimetype": "text/x-python",
   "name": "python",
   "nbconvert_exporter": "python",
   "pygments_lexer": "ipython3",
   "version": "3.7.6"
  }
 },
 "nbformat": 4,
 "nbformat_minor": 4
}
